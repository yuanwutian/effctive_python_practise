{
 "cells": [
  {
   "cell_type": "markdown",
   "metadata": {
    "collapsed": false
   },
   "source": [
    "# Effctive Python 学习笔记"
   ]
  },
  {
   "cell_type": "markdown",
   "metadata": {
    "collapsed": false
   },
   "source": [
    "## str&bytes\n",
    "python中的字符串有两种形式： 1. bytes 2. str（unicode）\n",
    "推荐在整个程序内部使用str的形式，在程序的首尾使用辅助函数进行类型转换"
   ]
  },
  {
   "cell_type": "code",
   "execution_count": 2,
   "metadata": {
    "ExecuteTime": {
     "end_time": "2023-06-04T02:30:56.213799434Z",
     "start_time": "2023-06-04T02:30:56.213438766Z"
    },
    "collapsed": false
   },
   "outputs": [],
   "source": [
    "def to_str(bytes_or_str: str|bytes):\n",
    "    \"\"\"\n",
    "    接受bytes或str实例，并返回str\n",
    "    :param bytes_or_str:str or byte\n",
    "    :return: str\n",
    "    \"\"\"\n",
    "    value = bytes_or_str\n",
    "    print(type(bytes_or_str))\n",
    "    if isinstance(bytes_or_str,str):\n",
    "        value = bytes_or_str\n",
    "    elif isinstance(bytes_or_str,bytes):\n",
    "        value = bytes_or_str.decode('utf-8')\n",
    "    else:\n",
    "        print('输入值不是bytes或str，请检查')\n",
    "        raise ValueError('请检查')\n",
    "    print(value)\n",
    "    return value"
   ]
  },
  {
   "cell_type": "code",
   "execution_count": 3,
   "metadata": {
    "ExecuteTime": {
     "end_time": "2023-06-04T02:33:20.718016670Z",
     "start_time": "2023-06-04T02:33:20.671986171Z"
    },
    "collapsed": false
   },
   "outputs": [],
   "source": [
    "def to_bytes(bytes_or_str: str|bytes):\n",
    "    \"\"\"\n",
    "    接受bytes或str实例，并返回bytes\n",
    "    :param bytes_or_str:str or byte\n",
    "    :return: str\n",
    "    \"\"\"\n",
    "    value = bytes_or_str\n",
    "    print(type(bytes_or_str))\n",
    "    if isinstance(bytes_or_str,str):\n",
    "        value = bytes_or_str.encode('utf-8')\n",
    "    elif isinstance(bytes_or_str,bytes):\n",
    "        value = bytes_or_str\n",
    "    else:\n",
    "        print('输入值不是bytes或str，请检查')\n",
    "        raise ValueError('请检查')\n",
    "    print(value)\n",
    "    return value"
   ]
  },
  {
   "cell_type": "markdown",
   "metadata": {
    "collapsed": false
   },
   "source": [
    "**Tips** :\n",
    "- bytes与str格式不能混用，例如增改删查、比大小\n",
    "- 读取或写入时候如果使用二进制，需要使用“rb”模式\n",
    "- 读取写入unicode数据，需要确认系统或目标文件的默认编码方案，通过encoding参数明确"
   ]
  },
  {
   "cell_type": "markdown",
   "metadata": {
    "collapsed": false
   },
   "source": [
    "查看默认编码方式"
   ]
  },
  {
   "cell_type": "code",
   "execution_count": 4,
   "metadata": {
    "ExecuteTime": {
     "end_time": "2023-06-04T02:40:06.897100674Z",
     "start_time": "2023-06-04T02:40:06.850837182Z"
    },
    "collapsed": false
   },
   "outputs": [
    {
     "name": "stdout",
     "output_type": "stream",
     "text": [
      "cp936\n"
     ]
    }
   ],
   "source": [
    "import locale\n",
    "print(locale.getpreferredencoding())"
   ]
  },
  {
   "cell_type": "markdown",
   "metadata": {
    "collapsed": false
   },
   "source": [
    "## 字符串格式化方法\n",
    "在此直接介绍最简单的f-string方法。"
   ]
  },
  {
   "cell_type": "code",
   "execution_count": 43,
   "metadata": {
    "ExecuteTime": {
     "end_time": "2023-06-04T03:19:16.414223795Z",
     "start_time": "2023-06-04T03:19:16.406043887Z"
    },
    "collapsed": false
   },
   "outputs": [
    {
     "name": "stdout",
     "output_type": "stream",
     "text": [
      "old_style  = #1: Avocados   = 1\n",
      "new_style  = #1: Avocados   = 1\n",
      "f_style    = #1: Avocados   = 1\n",
      "old_style  = #2: Bananas    = 2\n",
      "new_style  = #2: Bananas    = 2\n",
      "f_style    = #2: Bananas    = 2\n",
      "old_style  = #3: Cherries   = 15\n",
      "new_style  = #3: Cherries   = 15\n",
      "f_style    = #3: Cherries   = 15\n"
     ]
    }
   ],
   "source": [
    "pantry = {'avocados': 1,'bananas': 2,'cherries': 15}\n",
    "for i ,(item,count) in enumerate(pantry.items(),1):\n",
    "    old_style = \"#%d: %-10s = %d\" % (i,item.title(),round(count))\n",
    "    new_style = '#{}: {:<10s} = {}'.format(i,item.title(),round(count))\n",
    "    f_style = f'#{i}: {item.title():<10s} = {round(count)}'\n",
    "    print(f'{\"old_style\":<10s} = {old_style}\\n'  # 使用占位符的方法对齐\n",
    "          f'{\"new_style\":<10s} = {new_style}\\n'\n",
    "          f'{\"f_style\":<10s} = {f_style}')"
   ]
  },
  {
   "cell_type": "markdown",
   "metadata": {
    "collapsed": false
   },
   "source": [
    "使用f-string时，若想进行格式化，需要在大括号内用:进行控制，需要注意的是，{}中冒号前的值不为空。\n",
    "```\n",
    "f-string = f'格式化{numbe: .2f}'\n",
    "```\n",
    "上为保留两位小数的格式化示例\n",
    "```\n",
    "f-string = f'格式化{content:<10s}'\n",
    "```\n",
    "上文为填充文字的示例"
   ]
  },
  {
   "cell_type": "markdown",
   "metadata": {
    "collapsed": false
   },
   "source": [
    "## 使用辅助函数取代复杂的表达式\n",
    "**不能盲目追求一行流而丧失可读性**"
   ]
  },
  {
   "cell_type": "code",
   "execution_count": 46,
   "metadata": {
    "ExecuteTime": {
     "end_time": "2023-06-04T04:15:39.415986645Z",
     "start_time": "2023-06-04T04:15:39.396960680Z"
    },
    "collapsed": false
   },
   "outputs": [
    {
     "name": "stdout",
     "output_type": "stream",
     "text": [
      "{'red': ['5'], 'blue': ['0'], 'green': ['']}\n"
     ]
    }
   ],
   "source": [
    "from urllib.parse import parse_qs\n",
    "my_values = parse_qs('red=5&blue=0&green=',keep_blank_values=True)\n",
    "print(repr(my_values))"
   ]
  },
  {
   "cell_type": "code",
   "execution_count": 48,
   "metadata": {
    "ExecuteTime": {
     "end_time": "2023-06-04T04:18:26.349364956Z",
     "start_time": "2023-06-04T04:18:26.304781938Z"
    },
    "collapsed": false
   },
   "outputs": [
    {
     "name": "stdout",
     "output_type": "stream",
     "text": [
      "Red   ['5']\n",
      "green ['']\n",
      "Opacity None\n"
     ]
    }
   ],
   "source": [
    "# get方法的默认返回值\n",
    "print(f'{\"Red\":5s}',my_values.get('red'))\n",
    "print(f'{\"green\":5s}',my_values.get('green'))\n",
    "print(f'{\"Opacity\":5s}',my_values.get('Opacity'))"
   ]
  },
  {
   "cell_type": "markdown",
   "metadata": {
    "collapsed": false
   },
   "source": [
    "希望将空值与None均返回0"
   ]
  },
  {
   "cell_type": "code",
   "execution_count": 56,
   "metadata": {
    "ExecuteTime": {
     "end_time": "2023-06-04T04:24:10.817260629Z",
     "start_time": "2023-06-04T04:24:10.709997099Z"
    },
    "collapsed": false
   },
   "outputs": [],
   "source": [
    "red = my_values.get('red',[''])[0] or 0\n",
    "green = my_values.get('green',[''])[0] or 0\n",
    "opacity = my_values.get('opacity',[''])[0] or 0"
   ]
  },
  {
   "cell_type": "code",
   "execution_count": 57,
   "metadata": {
    "ExecuteTime": {
     "end_time": "2023-06-04T04:24:10.841148770Z",
     "start_time": "2023-06-04T04:24:10.820350899Z"
    },
    "collapsed": false
   },
   "outputs": [
    {
     "name": "stdout",
     "output_type": "stream",
     "text": [
      "5 0 0\n"
     ]
    }
   ],
   "source": [
    "print(red,green,opacity)"
   ]
  },
  {
   "cell_type": "markdown",
   "metadata": {
    "collapsed": false
   },
   "source": [
    "为保证返回值可以参加运算，需要转换类型"
   ]
  },
  {
   "cell_type": "code",
   "execution_count": 60,
   "metadata": {
    "ExecuteTime": {
     "end_time": "2023-06-04T04:25:01.825823829Z",
     "start_time": "2023-06-04T04:25:01.783816040Z"
    },
    "collapsed": false
   },
   "outputs": [],
   "source": [
    "red_str = my_values.get(\"ren\",[''])\n",
    "red = int(red_str[0]) if red_str[0] else 0"
   ]
  },
  {
   "cell_type": "markdown",
   "metadata": {
    "collapsed": false
   },
   "source": [
    "写作辅助函数形式"
   ]
  },
  {
   "cell_type": "code",
   "execution_count": 61,
   "metadata": {
    "ExecuteTime": {
     "end_time": "2023-06-04T04:27:50.979794353Z",
     "start_time": "2023-06-04T04:27:50.943959743Z"
    },
    "collapsed": false
   },
   "outputs": [],
   "source": [
    "def get_first_int(values,key,default = 0):\n",
    "    found = values.get(key,[''])\n",
    "    if found[0]:\n",
    "        return  int(found[0])\n",
    "    return default"
   ]
  },
  {
   "cell_type": "code",
   "execution_count": 63,
   "metadata": {
    "ExecuteTime": {
     "end_time": "2023-06-04T04:28:10.567071649Z",
     "start_time": "2023-06-04T04:28:10.554525700Z"
    },
    "collapsed": false
   },
   "outputs": [
    {
     "data": {
      "text/plain": [
       "0"
      ]
     },
     "execution_count": 63,
     "metadata": {},
     "output_type": "execute_result"
    }
   ],
   "source": [
    "get_first_int(my_values,'green')"
   ]
  },
  {
   "cell_type": "markdown",
   "metadata": {
    "collapsed": false
   },
   "source": [
    "## 6.尽量将数据结构拆分到多个变量里，不要频繁使用下标访问"
   ]
  },
  {
   "cell_type": "code",
   "execution_count": 64,
   "metadata": {
    "ExecuteTime": {
     "end_time": "2023-06-04T07:20:37.063336705Z",
     "start_time": "2023-06-04T07:20:37.024478255Z"
    },
    "collapsed": false
   },
   "outputs": [
    {
     "data": {
      "text/plain": [
       "(('chips', 140), ('popcorn', 80), ('nuts', 190))"
      ]
     },
     "execution_count": 64,
     "metadata": {},
     "output_type": "execute_result"
    }
   ],
   "source": [
    "snack_calories = {'chips': 140,'popcorn': 80,'nuts': 190}\n",
    "items = tuple(snack_calories.items())\n",
    "items"
   ]
  },
  {
   "cell_type": "code",
   "execution_count": 76,
   "metadata": {
    "ExecuteTime": {
     "end_time": "2023-06-04T07:22:27.692451706Z",
     "start_time": "2023-06-04T07:22:27.551075345Z"
    },
    "collapsed": false
   },
   "outputs": [],
   "source": [
    "first,second,third = items"
   ]
  },
  {
   "cell_type": "code",
   "execution_count": 77,
   "metadata": {
    "ExecuteTime": {
     "end_time": "2023-06-04T07:22:27.710713321Z",
     "start_time": "2023-06-04T07:22:27.693502178Z"
    },
    "collapsed": false
   },
   "outputs": [
    {
     "data": {
      "text/plain": [
       "('chips', 140)"
      ]
     },
     "execution_count": 77,
     "metadata": {},
     "output_type": "execute_result"
    }
   ],
   "source": [
    "first"
   ]
  },
  {
   "cell_type": "code",
   "execution_count": 78,
   "metadata": {
    "ExecuteTime": {
     "end_time": "2023-06-04T07:22:27.976682587Z",
     "start_time": "2023-06-04T07:22:27.968474652Z"
    },
    "collapsed": false
   },
   "outputs": [
    {
     "data": {
      "text/plain": [
       "('popcorn', 80)"
      ]
     },
     "execution_count": 78,
     "metadata": {},
     "output_type": "execute_result"
    }
   ],
   "source": [
    "second"
   ]
  },
  {
   "cell_type": "code",
   "execution_count": 79,
   "metadata": {
    "ExecuteTime": {
     "end_time": "2023-06-04T07:22:28.170613027Z",
     "start_time": "2023-06-04T07:22:28.159829785Z"
    },
    "collapsed": false
   },
   "outputs": [
    {
     "data": {
      "text/plain": [
       "('nuts', 190)"
      ]
     },
     "execution_count": 79,
     "metadata": {},
     "output_type": "execute_result"
    }
   ],
   "source": [
    "third"
   ]
  },
  {
   "cell_type": "markdown",
   "metadata": {
    "collapsed": false
   },
   "source": [
    "### python的交换元素方法"
   ]
  },
  {
   "cell_type": "code",
   "execution_count": 80,
   "metadata": {
    "ExecuteTime": {
     "end_time": "2023-06-04T07:24:04.514469048Z",
     "start_time": "2023-06-04T07:24:04.469207960Z"
    },
    "collapsed": false
   },
   "outputs": [
    {
     "name": "stdout",
     "output_type": "stream",
     "text": [
      "before:  0 1\n",
      "after:  1 0\n"
     ]
    }
   ],
   "source": [
    "a = 0\n",
    "b = 1\n",
    "print('before: ',a,b)\n",
    "a,b = b,a\n",
    "print('after: ',a,b)"
   ]
  },
  {
   "cell_type": "code",
   "execution_count": 83,
   "metadata": {
    "ExecuteTime": {
     "end_time": "2023-06-04T07:25:52.861081987Z",
     "start_time": "2023-06-04T07:25:52.853996641Z"
    },
    "collapsed": false
   },
   "outputs": [],
   "source": [
    "items = sorted(items,key=lambda x :x[1])"
   ]
  },
  {
   "cell_type": "code",
   "execution_count": 86,
   "metadata": {
    "ExecuteTime": {
     "end_time": "2023-06-04T07:27:34.324593272Z",
     "start_time": "2023-06-04T07:27:34.317975298Z"
    },
    "collapsed": false
   },
   "outputs": [
    {
     "name": "stdout",
     "output_type": "stream",
     "text": [
      "#1: popcorn has 80 calories\n",
      "#2: chips has 140 calories\n",
      "#3: nuts has 190 calories\n"
     ]
    }
   ],
   "source": [
    "for rank,(name,calories) in enumerate(items,1):\n",
    "    print(f'#{rank}: {name} has {calories} calories')"
   ]
  },
  {
   "cell_type": "markdown",
   "metadata": {
    "collapsed": false
   },
   "source": [
    "- unpacking是python的特殊语法，可以将数据结构的值分别赋给相应变量\n",
    "- 可迭代对象均可以拆分，还可以根据拓扑结构进行多层拆分\n",
    "- 尽量少用下标访问"
   ]
  },
  {
   "cell_type": "markdown",
   "metadata": {
    "collapsed": false
   },
   "source": [
    "## 7.尽量使用enumerate取代range"
   ]
  },
  {
   "cell_type": "code",
   "execution_count": 88,
   "metadata": {
    "ExecuteTime": {
     "end_time": "2023-06-04T07:33:12.150309503Z",
     "start_time": "2023-06-04T07:33:12.119350199Z"
    },
    "collapsed": false
   },
   "outputs": [
    {
     "name": "stdout",
     "output_type": "stream",
     "text": [
      "(0, 'vanilla')\n",
      "(1, 'chocolate')\n"
     ]
    }
   ],
   "source": [
    "flavor_list = {'vanilla', 'chocolate', 'pecan', 'strawberry'}\n",
    "it = enumerate(flavor_list)\n",
    "print(next(it))\n",
    "print(next(it))"
   ]
  },
  {
   "cell_type": "code",
   "execution_count": 90,
   "metadata": {
    "ExecuteTime": {
     "end_time": "2023-06-04T07:34:17.096500150Z",
     "start_time": "2023-06-04T07:34:17.089303246Z"
    },
    "collapsed": false
   },
   "outputs": [
    {
     "name": "stdout",
     "output_type": "stream",
     "text": [
      "1: vanilla\n",
      "2: chocolate\n",
      "3: pecan\n",
      "4: strawberry\n"
     ]
    }
   ],
   "source": [
    "for i, flavor in enumerate(flavor_list, 1):\n",
    "    print(f'{i}: {flavor}')"
   ]
  },
  {
   "cell_type": "markdown",
   "metadata": {
    "collapsed": false
   },
   "source": [
    "- ennmerate 可以使用简洁的代码迭代iterator，并返每轮回迭代内容的序号\n",
    "- 不要用range指定下标范围这样的C风格代码\n",
    "- 通过enumerate的第二个参数指定起始序号"
   ]
  },
  {
   "cell_type": "markdown",
   "metadata": {
    "collapsed": false
   },
   "source": [
    "## 9.用zip函数迭代两个（多个）迭代器"
   ]
  },
  {
   "cell_type": "code",
   "execution_count": 93,
   "metadata": {
    "ExecuteTime": {
     "end_time": "2023-06-04T07:40:47.374299887Z",
     "start_time": "2023-06-04T07:40:47.333028785Z"
    },
    "collapsed": false
   },
   "outputs": [],
   "source": [
    "names = ['Cecilia', 'Lise', 'Marie']\n",
    "counts = [len(n) for n in name]"
   ]
  },
  {
   "cell_type": "code",
   "execution_count": 94,
   "metadata": {
    "ExecuteTime": {
     "end_time": "2023-06-04T07:42:19.373675958Z",
     "start_time": "2023-06-04T07:42:19.324058736Z"
    },
    "collapsed": false
   },
   "outputs": [
    {
     "name": "stdout",
     "output_type": "stream",
     "text": [
      "Cecilia 7\n"
     ]
    }
   ],
   "source": [
    "# 选取列表中最长的单词，并输出单词内容和长度\n",
    "longest_name = None\n",
    "max_count = 0\n",
    "for name,count in zip(names,counts):\n",
    "    if count> max_count:\n",
    "        max_count = count\n",
    "        longest_name = name\n",
    "print(longest_name,max_count)"
   ]
  },
  {
   "cell_type": "markdown",
   "metadata": {
    "collapsed": false
   },
   "source": [
    "zip函数只以最短的迭代对象进行迭代，如果想以最长的为迭代次数，需要使用新的函数"
   ]
  },
  {
   "cell_type": "code",
   "execution_count": 96,
   "metadata": {
    "ExecuteTime": {
     "end_time": "2023-06-04T07:47:19.080005820Z",
     "start_time": "2023-06-04T07:47:19.071401446Z"
    },
    "collapsed": false
   },
   "outputs": [
    {
     "name": "stdout",
     "output_type": "stream",
     "text": [
      "Cecilia: 7\n",
      "Lise: 4\n",
      "Marie: 5\n",
      "messi: None\n"
     ]
    }
   ],
   "source": [
    "from itertools import zip_longest\n",
    "names.append('messi')\n",
    "for name,count in zip_longest(names,counts):\n",
    "    print(f'{name}: {count}')\n"
   ]
  },
  {
   "cell_type": "markdown",
   "metadata": {
    "collapsed": false
   },
   "source": [
    "会使用None进行填充"
   ]
  },
  {
   "cell_type": "markdown",
   "metadata": {
    "collapsed": false
   },
   "source": [
    "- 内置zip含糊可以同时遍历多个迭代器\n",
    "- zip函数会创建惰性迭代器，对输入数据都是一个一个处理的\n",
    "- 长度不一致时需要确定以最长/短维度迭代"
   ]
  },
  {
   "cell_type": "markdown",
   "metadata": {
    "collapsed": false
   },
   "source": [
    "## 9.不要在for与while循环后写else"
   ]
  },
  {
   "cell_type": "code",
   "execution_count": 97,
   "metadata": {
    "ExecuteTime": {
     "end_time": "2023-06-04T07:51:38.215976087Z",
     "start_time": "2023-06-04T07:51:38.146495385Z"
    },
    "collapsed": false
   },
   "outputs": [
    {
     "name": "stdout",
     "output_type": "stream",
     "text": [
      "loop 0\n",
      "loop 1\n",
      "loop 2\n",
      "Else blok\n"
     ]
    }
   ],
   "source": [
    "for i in range(3):\n",
    "    print('loop',i)\n",
    "else:\n",
    "    print('Else blok')"
   ]
  },
  {
   "cell_type": "markdown",
   "metadata": {
    "collapsed": false
   },
   "source": [
    "**如果break触发了，那么else不会执行**"
   ]
  },
  {
   "cell_type": "code",
   "execution_count": 98,
   "metadata": {
    "ExecuteTime": {
     "end_time": "2023-06-04T07:52:07.258896587Z",
     "start_time": "2023-06-04T07:52:07.204679883Z"
    },
    "collapsed": false
   },
   "outputs": [
    {
     "name": "stdout",
     "output_type": "stream",
     "text": [
      "loop 0\n",
      "loop 1\n"
     ]
    }
   ],
   "source": [
    "for i in range(3):\n",
    "    print('loop',i)\n",
    "    if i == 1:\n",
    "        break\n",
    "else:\n",
    "    print('Else blok')"
   ]
  },
  {
   "cell_type": "code",
   "execution_count": 99,
   "metadata": {
    "ExecuteTime": {
     "end_time": "2023-06-04T07:57:46.906825662Z",
     "start_time": "2023-06-04T07:57:46.839898675Z"
    },
    "collapsed": false
   },
   "outputs": [
    {
     "name": "stdout",
     "output_type": "stream",
     "text": [
      "Number 2 is testing\n",
      "Number 3 is testing\n",
      "Number 4 is testing\n",
      "Coprime\n"
     ]
    }
   ],
   "source": [
    "# 使用这种办法进行素数辨识\n",
    "a = 4\n",
    "b = 9\n",
    "for i in range(2,min(a,b)+1):\n",
    "    print(f'Number {i} is testing')\n",
    "    if a % i ==0 and b % i ==0:\n",
    "        print('Not coprime')\n",
    "else:\n",
    "    print('Coprime')"
   ]
  },
  {
   "cell_type": "markdown",
   "metadata": {
    "collapsed": false
   },
   "source": [
    "**笔者认为这种方法的收益远小于丧失的可读性，不建议这么写**"
   ]
  },
  {
   "cell_type": "code",
   "execution_count": 121,
   "metadata": {
    "ExecuteTime": {
     "end_time": "2023-06-04T08:09:31.886004738Z",
     "start_time": "2023-06-04T08:09:31.835955056Z"
    },
    "collapsed": false
   },
   "outputs": [],
   "source": [
    "def coprime_1(a1,b1):\n",
    "    for i1 in range(2,min(a1,b1)+1):\n",
    "        if a1 % i1 ==0 and b1 % i1 ==0:\n",
    "            return  False\n",
    "    return True\n",
    "\n",
    "def coprime_2(a2,b2):\n",
    "    is_coprime = True\n",
    "    for i2 in range(2,min(a2,b2)+1):\n",
    "        if a2 % i2 ==0 and b2 % i2 ==0:\n",
    "            is_coprime = False\n",
    "            break\n",
    "    return is_coprime"
   ]
  },
  {
   "cell_type": "code",
   "execution_count": 122,
   "metadata": {
    "ExecuteTime": {
     "end_time": "2023-06-04T08:09:32.230174799Z",
     "start_time": "2023-06-04T08:09:32.225882728Z"
    },
    "collapsed": false
   },
   "outputs": [
    {
     "data": {
      "text/plain": [
       "False"
      ]
     },
     "execution_count": 122,
     "metadata": {},
     "output_type": "execute_result"
    }
   ],
   "source": [
    "coprime_1(3,6)"
   ]
  },
  {
   "cell_type": "code",
   "execution_count": 124,
   "metadata": {
    "ExecuteTime": {
     "end_time": "2023-06-04T13:13:37.625751096Z",
     "start_time": "2023-06-04T13:13:37.568990352Z"
    },
    "collapsed": false
   },
   "outputs": [
    {
     "data": {
      "text/plain": [
       "True"
      ]
     },
     "execution_count": 124,
     "metadata": {},
     "output_type": "execute_result"
    }
   ],
   "source": [
    "coprime_2(5,6)"
   ]
  },
  {
   "cell_type": "markdown",
   "metadata": {
    "collapsed": false
   },
   "source": [
    "## 10.用赋值表达式减少重复代码\n",
    "**重点介绍了海豹表达式**"
   ]
  },
  {
   "cell_type": "code",
   "execution_count": null,
   "metadata": {
    "collapsed": false
   },
   "outputs": [],
   "source": [
    "count = fresh_fruit.get('lemon',0)\n",
    "if count:\n",
    "    make_lemonade(count)\n",
    "else:\n",
    "    out_of_stock()"
   ]
  },
  {
   "cell_type": "markdown",
   "metadata": {
    "collapsed": false
   },
   "source": [
    "上述代码显得松散，因为count并没有在else分支使用\n",
    "使用‘：=’可以解决此问题"
   ]
  },
  {
   "cell_type": "code",
   "execution_count": 125,
   "metadata": {
    "ExecuteTime": {
     "end_time": "2023-06-04T13:21:35.039798207Z",
     "start_time": "2023-06-04T13:21:34.974500713Z"
    },
    "collapsed": false
   },
   "outputs": [
    {
     "ename": "NameError",
     "evalue": "name 'fresh_fruit' is not defined",
     "output_type": "error",
     "traceback": [
      "\u001b[0;31m---------------------------------------------------------------------------\u001b[0m",
      "\u001b[0;31mNameError\u001b[0m                                 Traceback (most recent call last)",
      "Cell \u001b[0;32mIn[125], line 1\u001b[0m\n\u001b[0;32m----> 1\u001b[0m \u001b[38;5;28;01mif\u001b[39;00m count \u001b[38;5;241m:=\u001b[39m \u001b[43mfresh_fruit\u001b[49m\u001b[38;5;241m.\u001b[39mget(\u001b[38;5;124m'\u001b[39m\u001b[38;5;124mlenmon\u001b[39m\u001b[38;5;124m'\u001b[39m,\u001b[38;5;241m0\u001b[39m):\n\u001b[1;32m      2\u001b[0m     make_lemonade(count)\n\u001b[1;32m      3\u001b[0m \u001b[38;5;28;01melse\u001b[39;00m:\n",
      "\u001b[0;31mNameError\u001b[0m: name 'fresh_fruit' is not defined"
     ]
    }
   ],
   "source": [
    "if count := fresh_fruit.get('lenmon',0):\n",
    "    make_lemonade(count)\n",
    "else:\n",
    "    out_of_stock()"
   ]
  },
  {
   "cell_type": "code",
   "execution_count": null,
   "metadata": {
    "collapsed": false
   },
   "outputs": [],
   "source": [
    "# 还可以如此处理变量以简化代码\n",
    "count = fresh_fruit.get('apple',0)\n",
    "if count >=4:\n",
    "    make_cider(count)\n",
    "# 转换后的代码如下\n",
    "if (count := fresh_fruit.get('apple',0)) >= 4:\n",
    "     make_cider(count)"
   ]
  },
  {
   "cell_type": "code",
   "execution_count": null,
   "metadata": {
    "collapsed": false
   },
   "outputs": [],
   "source": [
    "# Before\n",
    "pieces = 0\n",
    "count = fresh_fruit.get('banana',0)\n",
    "if count >=2:\n",
    "    pieces = slice_bananas(count)\n",
    "try:\n",
    "    smoothies = make_smoothies(pieces)\n",
    "except Exception:\n",
    "    out_of_stock()\n",
    "#After ,突出了pieces变量的重要性\n",
    "pieces = 0\n",
    "if (count := fresh_fruit.get('banana',0)) >=2:\n",
    "    pieces = slice_bananas(count)\n",
    "try:\n",
    "smoothies = make_smoothies(pieces)\n",
    "except Exception:\n",
    "    out_of_stock()"
   ]
  },
  {
   "cell_type": "code",
   "execution_count": null,
   "metadata": {
    "collapsed": false
   },
   "outputs": [],
   "source": [
    "# Before\n",
    "bottle = []\n",
    "fresh_fruit = pick_fruit()\n",
    "while True:\n",
    "    if not fresh_fruit:\n",
    "        break\n",
    "    for fruit, count in fresh_fruit.items():\n",
    "        batch = make_juice(fruit,count)\n",
    "        bottle.append(batch)\n",
    "#After\n",
    "bottle = []\n",
    "while fresh_fruit := pick_fruit():\n",
    "    for fruit, count in fresh_fruit.items():\n",
    "        batch = make_juice(fruit,count)\n",
    "        bottle.append(batch)"
   ]
  },
  {
   "cell_type": "code",
   "execution_count": null,
   "metadata": {
    "collapsed": false
   },
   "outputs": [],
   "source": []
  }
 ],
 "metadata": {
  "kernelspec": {
   "display_name": "Python 3",
   "language": "python",
   "name": "python3"
  },
  "language_info": {
   "codemirror_mode": {
    "name": "ipython",
    "version": 3
   },
   "file_extension": ".py",
   "mimetype": "text/x-python",
   "name": "python",
   "nbconvert_exporter": "python",
   "pygments_lexer": "ipython3",
   "version": "3.10.11"
  }
 },
 "nbformat": 4,
 "nbformat_minor": 0
}
