{
 "cells": [
  {
   "cell_type": "markdown",
   "metadata": {},
   "source": [
    "# 并发与并行\n",
    "- 使用内置的Queue类型来完成队列\n",
    "- 使用Lock保证线程安全"
   ]
  },
  {
   "cell_type": "code",
   "execution_count": null,
   "metadata": {},
   "outputs": [],
   "source": [
    "from queue import Queue\n",
    "# Queue的get方法在拿到新数据前会一直阻塞，直到新数据被放入\n",
    "my_queue= Queue()\n",
    "print(f'Consumer Waiting')\n",
    "def get_func():\n",
    "    try:\n",
    "        data = my_queue.get(timeout=3)\n",
    "    except Exception:\n",
    "        print(f'get超时, 规定时间内没有拿到数据')\n",
    "    else:\n",
    "        print(f'get : {data}')\n"
   ]
  },
  {
   "cell_type": "markdown",
   "metadata": {},
   "source": [
    "- 在规定时间内，即使数据在get方法调用后进入，只要没超时就能返回"
   ]
  },
  {
   "cell_type": "code",
   "execution_count": null,
   "metadata": {},
   "outputs": [],
   "source": [
    "from threading import Thread\n",
    "thread = Thread(target=get_func)\n",
    "thread.start()\n",
    "\n",
    "my_queue.put(f'我是数据')"
   ]
  },
  {
   "cell_type": "markdown",
   "metadata": {},
   "source": [
    "- 限定Queue的最大值可以解决管道的拥堵问题"
   ]
  },
  {
   "cell_type": "code",
   "execution_count": 2,
   "metadata": {},
   "outputs": [
    {
     "name": "stdout",
     "output_type": "stream",
     "text": [
      "put data1\n",
      "Consumer get data1\n",
      "put data2\n",
      "Consumer get data2\n",
      "Consumer done\n",
      "put data3\n"
     ]
    }
   ],
   "source": [
    "import time\n",
    "from threading import Thread\n",
    "from queue import Queue\n",
    "my_queue = Queue(1)\n",
    "def consumer():\n",
    "    time.sleep(0.1)\n",
    "    d1 = my_queue.get()\n",
    "    print(f'Consumer get {d1}')\n",
    "    d2 = my_queue.get()\n",
    "    print(f'Consumer get {d2}')\n",
    "    print(f'Consumer done')\n",
    "thread = Thread(target=consumer)\n",
    "\n",
    "my_queue.put(f'data1')\n",
    "thread.start()\n",
    "print(f'put data1')\n",
    "my_queue.put(f'data2', timeout=1)\n",
    "print(f'put data2')\n",
    "my_queue.put(f'data3',timeout=1)\n",
    "print(f'put data3')\n",
    "thread.join()"
   ]
  },
  {
   "cell_type": "markdown",
   "metadata": {},
   "source": [
    "- 对Queue的task_done和join方法完成对queue的状态访问，获取其元素是否全部被加工\n",
    "\n",
    "子线程task_done被执行后 主线程的.join解除拥塞 否则一直等待"
   ]
  },
  {
   "cell_type": "code",
   "execution_count": 1,
   "metadata": {},
   "outputs": [
    {
     "name": "stdout",
     "output_type": "stream",
     "text": [
      "Consumer waitingProducer Putting\n",
      "Producer waiting\n",
      "\n",
      "Consumer working\n",
      "Consumer done\n",
      "Producer done\n"
     ]
    }
   ],
   "source": [
    "from queue import Queue\n",
    "import time\n",
    "from threading import Thread\n",
    "in_queue = Queue()\n",
    "def consumer():\n",
    "    print(f'Consumer waiting')\n",
    "    work = in_queue.get()\n",
    "    print(f'Consumer working')\n",
    "    # Doing\n",
    "    time.sleep(3)\n",
    "    print(f'Consumer done')\n",
    "    in_queue.task_done()\n",
    "thread = Thread(target=consumer)\n",
    "thread.start()\n",
    "print(f'Producer Putting')\n",
    "in_queue.put(f'Here data be putted')\n",
    "print(f'Producer waiting')\n",
    "in_queue.join()\n",
    "print(f'Producer done')\n",
    "thread.join()"
   ]
  },
  {
   "cell_type": "code",
   "execution_count": 2,
   "metadata": {},
   "outputs": [],
   "source": [
    "# 自定义一个队列，实现close方法彻底结束任务\n",
    "from collections.abc import Callable\n",
    "from typing import Any, Iterable, Mapping\n",
    "\n",
    "\n",
    "class CloseableQueue(Queue):\n",
    "    SENTILE = object()\n",
    "    def close(self):\n",
    "        self.put(self.SENTILE)\n",
    "    \n",
    "    def __iter__(self):\n",
    "        while True:\n",
    "            item = self.get()\n",
    "            try:\n",
    "                if item is self.SENTILE:\n",
    "                    return\n",
    "                yield item\n",
    "            finally:\n",
    "                self.task_done()  # 标记get的目标已经处理\n",
    "# 重新定义工作线程, 当被处理的队列元素用尽就退出线程\n",
    "class StoppableWorker(Thread):\n",
    "    def __init__(self, func, in_queue, out_queue, *args, **kwargs) -> None:\n",
    "        super().__init__(*args, **kwargs)\n",
    "        self.func = func\n",
    "        self.in_queue = in_queue\n",
    "        self.out_queue = out_queue\n",
    "\n",
    "    def run(self) -> None:\n",
    "        for item in self.in_queue:\n",
    "            result = self.func(item)\n",
    "            self.out_queue.put(result)\n",
    "\n"
   ]
  },
  {
   "cell_type": "code",
   "execution_count": null,
   "metadata": {},
   "outputs": [],
   "source": [
    "download_queue = CloseableQueue()\n",
    "resize_queue = CloseableQueue()\n",
    "upload_queue = CloseableQueue()\n",
    "done_queue = CloseableQueue()\n",
    "# 建立工作线程列表\n",
    "threads = [StoppableWorker(download, download_queue, resize_queue),\n",
    "          StoppableWorker(resize, resize_queue, upload_queue),\n",
    "          StoppableWorker(upload, upload_queue, out_queue=done_queue)]\n",
    "# 打开工作线程\n",
    "for thread in threads:\n",
    "    thread.start()\n",
    "# 在第一个线程管道放1000个元素\n",
    "for _ in range(1000):\n",
    "    download_queue.put(object())\n",
    "# 停止download的装入\n",
    "download_queue.close()\n",
    "# 等待queue元素被全部处理\n",
    "download_queue.join()\n",
    "resize_queue.close()\n",
    "resize_queue.join()\n",
    "upload_queue.close()\n",
    "upload_queue.join()\n",
    "# 等待所有线程停止\n",
    "for thread in threads:\n",
    "    thread.join()"
   ]
  },
  {
   "cell_type": "markdown",
   "metadata": {},
   "source": [
    "- 上个方法中，主线程要逐次等待四个queue的处理操作，我们还可以在每个queue处理时使用多线程"
   ]
  },
  {
   "cell_type": "code",
   "execution_count": null,
   "metadata": {},
   "outputs": [],
   "source": [
    "def start_threads(count, *args):\n",
    "    threads = [StoppableWorker(*args) for _ in range(count)] \n",
    "    for thread in threads:\n",
    "        thread.start()\n",
    "    return threads\n",
    "\n",
    "def stop_threads(closeable_queue: CloseableQueue, threads):\n",
    "    for _ in threads:\n",
    "        # [x] 每个线程的queue都需要执行close方法才能退出\n",
    "        closeable_queue.close()\n",
    "    closeable_queue.join()\n",
    "    for thread in threads:\n",
    "        thread.join()\n",
    "\n",
    "download_queue = CloseableQueue()\n",
    "resize_queue = CloseableQueue()\n",
    "upload_queue = CloseableQueue()\n",
    "done_queue = CloseableQueue()\n",
    "\n",
    "download_threads = start_threads(3, download, download_queue, resize_queue)\n",
    "resize_threads = start_threads(4, resize, resize_queue, upload_queue)\n",
    "upload_threads = start_threads(4, upload, upload_queue, done_queue)\n",
    "\n",
    "for _ in range(1000):\n",
    "    download_queue.put(object())\n",
    "stop_threads(download_queue, download_threads)\n",
    "stop_threads(resize_queue, resize_threads)\n",
    "stop_threads(upload_queue, upload_threads)"
   ]
  },
  {
   "cell_type": "markdown",
   "metadata": {},
   "source": [
    "# 生命周期游戏的并发处理\n",
    "Conway's Game of Life 时一个经典的有限状态自动机，规则如下\n",
    "1. 在任意长宽的二维网格中，每个单元格只有两种状态(Alive; Empty)\n",
    "2. 要考虑单元格周围有多少处于存活状态的单元格"
   ]
  },
  {
   "cell_type": "code",
   "execution_count": 4,
   "metadata": {},
   "outputs": [
    {
     "name": "stdout",
     "output_type": "stream",
     "text": [
      "---*-----\n",
      "----*----\n",
      "--***----\n",
      "---------\n",
      "---------\n"
     ]
    }
   ],
   "source": [
    "ALIVE = '*'\n",
    "EMPTY = '-'\n",
    "\n",
    "class Grid:\n",
    "    def __init__(self, height, width) -> None:\n",
    "        self.height = height\n",
    "        self.width = width\n",
    "        self.rows = []\n",
    "        for _ in range(self.height):\n",
    "            self.rows.append([EMPTY] * self.width)\n",
    "    \n",
    "    def get(self, y, x):\n",
    "        return self.rows[y % self.height][x % self.width]\n",
    "\n",
    "    def set(self, y, x, state):\n",
    "        self.rows[y % self.height][x % self.width] = state\n",
    "    \n",
    "    def __str__(self) -> str:\n",
    "        return '\\n'.join([\"\".join(row) for row in self.rows])\n",
    "        \n",
    "\n",
    "grid = Grid(5, 9)\n",
    "grid.set(0, 3, ALIVE)\n",
    "grid.set(1, 4, ALIVE)\n",
    "grid.set(2, 2, ALIVE)\n",
    "grid.set(2, 3, ALIVE)\n",
    "grid.set(2, 4, ALIVE)\n",
    "print(grid)"
   ]
  },
  {
   "cell_type": "code",
   "execution_count": null,
   "metadata": {},
   "outputs": [],
   "source": []
  }
 ],
 "metadata": {
  "kernelspec": {
   "display_name": "Python 3",
   "language": "python",
   "name": "python3"
  },
  "language_info": {
   "codemirror_mode": {
    "name": "ipython",
    "version": 3
   },
   "file_extension": ".py",
   "mimetype": "text/x-python",
   "name": "python",
   "nbconvert_exporter": "python",
   "pygments_lexer": "ipython3",
   "version": "3.10.11"
  }
 },
 "nbformat": 4,
 "nbformat_minor": 2
}
