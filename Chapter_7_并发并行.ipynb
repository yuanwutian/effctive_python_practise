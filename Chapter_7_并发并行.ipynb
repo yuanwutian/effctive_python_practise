{
 "cells": [
  {
   "cell_type": "code",
   "execution_count": null,
   "metadata": {},
   "outputs": [
    {
     "name": "stdout",
     "output_type": "stream",
     "text": [
      "Consumer waiting\n",
      "\n"
     ]
    }
   ],
   "source": [
    "# Queu的几个特性\n",
    "from queue import Queue\n",
    "my_queue = Queue()\n",
    "def consumer():\n",
    "    \"\"\"\n",
    "    此函数用于模拟消费者的动作\n",
    "    \"\"\"\n",
    "    print('Consumer waiting\\n')\n",
    "    my_queue.get()  # 从队列中拿出一个元素\n",
    "    print(f'Consumer Done')\n",
    "from threading import Thread\n",
    "thread = Thread(target=consumer)\n",
    "thread.start()\n",
    "# XXX get方法会阻塞所在线程,即使star方法在前\n",
    "print('Producing putting')\n",
    "my_queue.put(object())\n",
    "print('Producing Done')\n",
    "thread.join()\n",
    "\n",
    "\n"
   ]
  },
  {
   "cell_type": "code",
   "execution_count": 10,
   "metadata": {},
   "outputs": [
    {
     "name": "stdout",
     "output_type": "stream",
     "text": [
      "Consumer waiting\n",
      "Producing put 1\n",
      "Producing put 2\n",
      "Producing done\n",
      "\n",
      "Consumer get 1\n",
      "Consumer get 2\n",
      "Consumer get done\n"
     ]
    }
   ],
   "source": [
    "# 限制queue的容量,当元素超限后queue的put方法所在线程会阻塞,直到可以放进去\n",
    "from queue import Queue\n",
    "from threading import Thread\n",
    "import time\n",
    "my_queue = Queue(2)\n",
    "def consumer():\n",
    "    \"\"\"\n",
    "    此函数用于模拟消费者的动作\n",
    "    \"\"\"\n",
    "    print('Consumer waiting\\n')\n",
    "    time.sleep(0.1)\n",
    "    my_queue.get()  # 从队列中拿出一个元素\n",
    "    print(f'Consumer get 1')\n",
    "\n",
    "    my_queue.get()  # 从队列中拿出一个元素\n",
    "    print(f'Consumer get 2')\n",
    "    print(f'Consumer get done')\n",
    "thread = Thread(target=consumer)\n",
    "thread.start()\n",
    "my_queue.put(object())\n",
    "print('Producing put 1')\n",
    "time.sleep(1)\n",
    "my_queue.put(object())\n",
    "print('Producing put 2')\n",
    "print('Producing done')\n",
    "thread.join()"
   ]
  },
  {
   "cell_type": "code",
   "execution_count": 15,
   "metadata": {},
   "outputs": [
    {
     "name": "stdout",
     "output_type": "stream",
     "text": [
      "Consumer waiting\n",
      "Producing putting\n",
      "\n",
      "Consumer working\n",
      "Counsumer Done\n",
      "Producing Done\n"
     ]
    }
   ],
   "source": [
    "# XXX Queue还可以通过'task_done'和'join'方法实现等待队列元素全部耗尽的目的\n",
    "# join的释放条件是put次数和task_done执行次数一致\n",
    "in_queue = Queue()\n",
    "def consumer():\n",
    "    print('Consumer waiting\\n')\n",
    "    work = in_queue.get()\n",
    "    print('Consumer working')\n",
    "    # doing work\n",
    "    ...\n",
    "    print('Counsumer Done')\n",
    "    time.sleep(1)\n",
    "    in_queue.task_done()\n",
    "thread = Thread(target=consumer)\n",
    "thread.start()\n",
    "print('Producing putting')\n",
    "in_queue.put(object())\n",
    "in_queue.join()\n",
    "print('Producing Done')\n",
    "thread.join()"
   ]
  },
  {
   "cell_type": "code",
   "execution_count": 67,
   "metadata": {},
   "outputs": [],
   "source": [
    "class CloseableQueue(Queue):\n",
    "    SENTINEL = object()  # 自定义的标志元素，当其进入队列后作为最后一个元素的标志\n",
    "\n",
    "    def close(self):\n",
    "        self.put(self.SENTINEL)\n",
    "    \n",
    "    def __iter__(self):\n",
    "        while True:\n",
    "            item = self.get()\n",
    "            try:\n",
    "                if item is self.SENTINEL:\n",
    "                    return\n",
    "                yield item\n",
    "            finally:\n",
    "                self.task_done()  # 用于追踪队列进度\n",
    "\n",
    "class StoppableWorker(Thread):\n",
    "    \"\"\"\n",
    "    自定义线程类,可以链接两个队列,并将结果传入\n",
    "    \"\"\"\n",
    "    def __init__(self, func, in_queue: CloseableQueue, out_queue: CloseableQueue, *args, **kwargs):\n",
    "        super().__init__(*args, **kwargs)\n",
    "        self.func = func\n",
    "        self.in_queue = in_queue\n",
    "        self.out_queue = out_queue\n",
    "        self.count = 0\n",
    "        print(f'Thread star func{self.func.__name__}')\n",
    "    \n",
    "    def run(self):\n",
    "        # count = 0\n",
    "        for item in self.in_queue:\n",
    "            result = self.func(item)\n",
    "            self.out_queue.put(result)\n",
    "            self.count += 1\n",
    "            # if not self.count // 10:\n",
    "            #     # time.sleep(0.5)\n",
    "            #     print(f'{self.func.__name__=}')"
   ]
  },
  {
   "cell_type": "code",
   "execution_count": 68,
   "metadata": {},
   "outputs": [],
   "source": [
    "def download(item):\n",
    "    time.sleep(0.01)\n",
    "    print(f'download doing')\n",
    "    ...\n",
    "    # return item\n",
    "def resize(item):\n",
    "    time.sleep(0.02)\n",
    "    print(f'resize doing')\n",
    "    ...\n",
    "def upload(item):\n",
    "    time.sleep(0.04)\n",
    "    print(f'upload doing')\n",
    "    ..."
   ]
  },
  {
   "cell_type": "code",
   "execution_count": 69,
   "metadata": {},
   "outputs": [
    {
     "name": "stdout",
     "output_type": "stream",
     "text": [
      "Thread star funcdownload\n",
      "Thread star funcresize\n",
      "Thread star funcupload\n",
      "download doing\n",
      "download doing\n",
      "resize doing\n",
      "download doing\n",
      "download doing\n",
      "resize doing\n",
      "download doing\n",
      "upload doing\n",
      "resize doing\n",
      "download doing\n",
      "download doing\n",
      "resize doing\n",
      "upload doing\n",
      "download doing\n",
      "resize doing\n",
      "download doing\n",
      "download doing\n",
      "upload doing\n",
      "resize doing\n",
      "resize doing\n",
      "upload doing\n",
      "resize doing\n",
      "resize doing\n",
      "upload doing\n",
      "resize doing\n",
      "upload doing\n",
      "upload doing\n",
      "upload doing\n",
      "upload doing\n",
      "upload doing\n",
      "done_queue.qsize()=10\n"
     ]
    },
    {
     "data": {
      "text/plain": [
       "'\\n注意此模型的线程是平行的, 每个队列在有数据元素时候都会调用处理函数进行操作, 而不是串行的等待\\n'"
      ]
     },
     "execution_count": 69,
     "metadata": {},
     "output_type": "execute_result"
    }
   ],
   "source": [
    "# 初始化四个自定义队列\n",
    "downloda_queue = CloseableQueue()\n",
    "resize_queue = CloseableQueue()\n",
    "upload_queue = CloseableQueue()\n",
    "done_queue = CloseableQueue()\n",
    "# 建立线程池\n",
    "threads = [StoppableWorker(download, downloda_queue, resize_queue),\n",
    "           StoppableWorker(resize, resize_queue, upload_queue),\n",
    "           StoppableWorker(upload, upload_queue, done_queue),\n",
    "           ]\n",
    "# 开启线程池\n",
    "for thread in threads:\n",
    "    thread.start()\n",
    "# 向最上游注入元素\n",
    "for _ in range(10):\n",
    "    downloda_queue.put(object())\n",
    "# 给最上游打入队尾标志\n",
    "downloda_queue.close()\n",
    "# 等待download队列的元素处理完后 给相邻的队列打入队尾标志\n",
    "downloda_queue.join()\n",
    "resize_queue.close()\n",
    "resize_queue.join()\n",
    "upload_queue.close()\n",
    "upload_queue.join()\n",
    "print(f'{done_queue.qsize()=}')\n",
    "\n",
    "for thread in threads:\n",
    "    thread.join()\n",
    "\"\"\"\n",
    "注意此模型的线程是平行的, 每个队列在有数据元素时候都会调用处理函数进行操作, 而不是串行的等待\n",
    "\"\"\""
   ]
  },
  {
   "cell_type": "code",
   "execution_count": null,
   "metadata": {},
   "outputs": [],
   "source": []
  },
  {
   "cell_type": "code",
   "execution_count": null,
   "metadata": {},
   "outputs": [],
   "source": []
  }
 ],
 "metadata": {
  "kernelspec": {
   "display_name": ".venv",
   "language": "python",
   "name": "python3"
  },
  "language_info": {
   "codemirror_mode": {
    "name": "ipython",
    "version": 3
   },
   "file_extension": ".py",
   "mimetype": "text/x-python",
   "name": "python",
   "nbconvert_exporter": "python",
   "pygments_lexer": "ipython3",
   "version": "3.10.4"
  }
 },
 "nbformat": 4,
 "nbformat_minor": 2
}
