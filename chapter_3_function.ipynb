{
 "cells": [
  {
   "cell_type": "markdown",
   "source": [
    "# Chapter 3 Function\n",
    "## 19. 不要把函数返回的多个数值返回到三个以上的变量"
   ],
   "metadata": {
    "collapsed": false
   }
  },
  {
   "cell_type": "code",
   "execution_count": 1,
   "outputs": [
    {
     "name": "stdout",
     "output_type": "stream",
     "text": [
      "longest : 1.0798816568047338,\n",
      ",middle:[1.0650887573964498, 1.0650887573964498, 1.0502958579881658, 1.0355029585798818, 0.9911242603550297, 0.9763313609467457, 0.9319526627218936, 0.9171597633136096], \n",
      "shortest:0.8875739644970415\n"
     ]
    }
   ],
   "source": [
    "# 有多个返回值时，用带‘*’的表达式接受那些没有被普通变量捕获的值（元组类型）\n",
    "def get_avg_retion(numbers: list):\n",
    "    average = sum(numbers)/len(numbers)\n",
    "    scaled = [x / average for x in numbers]\n",
    "    scaled.sort(reverse=True)\n",
    "    return scaled\n",
    "length = [63, 73, 72, 60, 67, 66, 71, 62, 72, 70]\n",
    "longest, *middle, shortest = get_avg_retion(length)\n",
    "print(f'longest : {longest},\\n,middle:{middle}, \\nshortest:{shortest}')"
   ],
   "metadata": {
    "collapsed": false,
    "ExecuteTime": {
     "end_time": "2023-07-22T08:02:34.149950Z",
     "start_time": "2023-07-22T08:02:24.291654600Z"
    }
   }
  },
  {
   "cell_type": "markdown",
   "source": [
    "## 20. 遇到意外情况时应该抛出异常，不要返回None\n",
    "返回None会和0值冲突"
   ],
   "metadata": {
    "collapsed": false
   }
  },
  {
   "cell_type": "code",
   "execution_count": 2,
   "outputs": [],
   "source": [
    "def careful_divide(a:float,b: float) -> float:\n",
    "    \"\"\"Divides a by b\n",
    "\n",
    "    Raises:\n",
    "    ValueError: when inputs cannot be divide\n",
    "    \"\"\"\n",
    "    try:\n",
    "        return a / b\n",
    "    except ZeroDivisionError:\n",
    "        raise ValueError('Invalid inputs')"
   ],
   "metadata": {
    "collapsed": false,
    "ExecuteTime": {
     "end_time": "2023-07-22T08:02:49.603078400Z",
     "start_time": "2023-07-22T08:02:49.583620Z"
    }
   }
  },
  {
   "cell_type": "code",
   "execution_count": 3,
   "outputs": [
    {
     "name": "stdout",
     "output_type": "stream",
     "text": [
      "result is 2.5\n"
     ]
    }
   ],
   "source": [
    "try:\n",
    "    result = careful_divide(5,2)\n",
    "except ValueError:\n",
    "    print('非法输出')\n",
    "else:\n",
    "    print(f'result is {result}')"
   ],
   "metadata": {
    "collapsed": false,
    "ExecuteTime": {
     "end_time": "2023-07-22T08:02:50.453036600Z",
     "start_time": "2023-07-22T08:02:50.373553500Z"
    }
   }
  },
  {
   "cell_type": "markdown",
   "source": [
    "## 21. 了解如何在闭包里使用外围作用域的变量\n",
    "避免函数中的局部变量污染外部模块，函数内作用域若有该变量则直接赋值，若无则以此函数范围作作用域创建变量"
   ],
   "metadata": {
    "collapsed": false
   }
  },
  {
   "cell_type": "code",
   "execution_count": 8,
   "outputs": [],
   "source": [
    "def sort_priority(values:list, group: list):\n",
    "    def helper(x):\n",
    "        if x in group:\n",
    "            return (0, x)\n",
    "        return (1, x)\n",
    "    values.sort(key=helper)"
   ],
   "metadata": {
    "collapsed": false,
    "ExecuteTime": {
     "end_time": "2023-07-12T15:06:39.670350345Z",
     "start_time": "2023-07-12T15:06:39.617494990Z"
    }
   }
  },
  {
   "cell_type": "code",
   "execution_count": 9,
   "outputs": [
    {
     "name": "stdout",
     "output_type": "stream",
     "text": [
      "[2, 3, 5, 7, 1, 4, 6, 8]\n"
     ]
    }
   ],
   "source": [
    "numbers = [8, 3, 1, 2, 5, 4, 7, 6]\n",
    "group = [2, 3, 5, 7]\n",
    "sort_priority(numbers, group)\n",
    "print(numbers)"
   ],
   "metadata": {
    "collapsed": false,
    "ExecuteTime": {
     "end_time": "2023-07-12T15:07:48.904107599Z",
     "start_time": "2023-07-12T15:07:48.878756554Z"
    }
   }
  },
  {
   "cell_type": "markdown",
   "source": [
    "found的作用域在闭包函数内，赋值在外部无效，若想实现需要使用nonlocal声明"
   ],
   "metadata": {
    "collapsed": false
   }
  },
  {
   "cell_type": "code",
   "execution_count": 10,
   "outputs": [],
   "source": [
    "def sort_priority(values:list, group: list):\n",
    "    found = False\n",
    "    def helper(x):\n",
    "        if x in group:\n",
    "            return (0, x)\n",
    "        found = True\n",
    "        return (1, x)\n",
    "    values.sort(key=helper)\n",
    "    return found"
   ],
   "metadata": {
    "collapsed": false,
    "ExecuteTime": {
     "end_time": "2023-07-12T15:08:45.860790753Z",
     "start_time": "2023-07-12T15:08:45.810778620Z"
    }
   }
  },
  {
   "cell_type": "code",
   "execution_count": 12,
   "outputs": [
    {
     "name": "stdout",
     "output_type": "stream",
     "text": [
      "[2, 3, 5, 7, 1, 4, 6, 8] False\n"
     ]
    }
   ],
   "source": [
    "numbers = [8, 3, 1, 2, 5, 4, 7, 6]\n",
    "group = [2, 3, 5, 7]\n",
    "f = sort_priority(numbers, group)\n",
    "print(numbers,f)"
   ],
   "metadata": {
    "collapsed": false,
    "ExecuteTime": {
     "end_time": "2023-07-12T15:09:11.202813889Z",
     "start_time": "2023-07-12T15:09:11.183368049Z"
    }
   }
  },
  {
   "cell_type": "code",
   "execution_count": 13,
   "outputs": [
    {
     "name": "stdout",
     "output_type": "stream",
     "text": [
      "[2, 3, 5, 7, 1, 4, 6, 8] True\n"
     ]
    }
   ],
   "source": [
    "def sort_priority(values:list, group: list):\n",
    "    found = False\n",
    "    def helper(x):\n",
    "        nonlocal found\n",
    "        if x in group:\n",
    "            return (0, x)\n",
    "        found = True\n",
    "        return (1, x)\n",
    "    values.sort(key=helper)\n",
    "    return found\n",
    "numbers = [8, 3, 1, 2, 5, 4, 7, 6]\n",
    "group = [2, 3, 5, 7]\n",
    "f = sort_priority(numbers, group)\n",
    "print(numbers,f)"
   ],
   "metadata": {
    "collapsed": false,
    "ExecuteTime": {
     "end_time": "2023-07-12T15:10:56.904745588Z",
     "start_time": "2023-07-12T15:10:56.865582837Z"
    }
   }
  },
  {
   "cell_type": "markdown",
   "source": [
    "还可以使用__call__方法定义类的调用触发函数，免去闭包"
   ],
   "metadata": {
    "collapsed": false
   }
  },
  {
   "cell_type": "code",
   "execution_count": 16,
   "outputs": [],
   "source": [
    "class Sorted():\n",
    "    def __init__(self, group):\n",
    "        self.group = group\n",
    "        self.found = False\n",
    "\n",
    "    def __call__(self, x):\n",
    "        if x in self.group:\n",
    "            self.found = True\n",
    "            return (0, x)\n",
    "        return (1, x)"
   ],
   "metadata": {
    "collapsed": false,
    "ExecuteTime": {
     "end_time": "2023-07-12T15:17:02.592974215Z",
     "start_time": "2023-07-12T15:17:02.441823987Z"
    }
   }
  },
  {
   "cell_type": "code",
   "execution_count": 17,
   "outputs": [
    {
     "name": "stdout",
     "output_type": "stream",
     "text": [
      "True\n"
     ]
    }
   ],
   "source": [
    "sortd = Sorted(group)\n",
    "numbers.sort(key=sortd)\n",
    "print(sortd.found)"
   ],
   "metadata": {
    "collapsed": false,
    "ExecuteTime": {
     "end_time": "2023-07-12T15:17:02.596909667Z",
     "start_time": "2023-07-12T15:17:02.563077424Z"
    }
   }
  },
  {
   "cell_type": "markdown",
   "source": [
    "## 22. 用数量可变的位置参数给函数设计清晰的参数列表"
   ],
   "metadata": {
    "collapsed": false
   }
  },
  {
   "cell_type": "code",
   "execution_count": 1,
   "outputs": [],
   "source": [
    "def log(message, values):\n",
    "    if not  values:\n",
    "        print(message)\n",
    "    else:\n",
    "        values_str = ','.join(str(x) for x in values)\n",
    "        print(f'{message} : {values_str}')"
   ],
   "metadata": {
    "collapsed": false,
    "ExecuteTime": {
     "end_time": "2023-08-27T08:16:23.667792900Z",
     "start_time": "2023-08-27T08:16:23.656786800Z"
    }
   }
  },
  {
   "cell_type": "code",
   "execution_count": 2,
   "outputs": [
    {
     "name": "stdout",
     "output_type": "stream",
     "text": [
      "My numbers are : 1,2\n",
      "Hi there\n"
     ]
    }
   ],
   "source": [
    "log('My numbers are', [1, 2])\n",
    "log('Hi there', [])"
   ],
   "metadata": {
    "collapsed": false,
    "ExecuteTime": {
     "end_time": "2023-08-27T08:17:19.219569100Z",
     "start_time": "2023-08-27T08:17:19.191474Z"
    }
   }
  },
  {
   "cell_type": "markdown",
   "source": [
    "此时第二个参数如果不传会报错"
   ],
   "metadata": {
    "collapsed": false
   }
  },
  {
   "cell_type": "code",
   "execution_count": 3,
   "outputs": [
    {
     "ename": "TypeError",
     "evalue": "log() missing 1 required positional argument: 'values'",
     "output_type": "error",
     "traceback": [
      "\u001B[1;31m---------------------------------------------------------------------------\u001B[0m",
      "\u001B[1;31mTypeError\u001B[0m                                 Traceback (most recent call last)",
      "Cell \u001B[1;32mIn[3], line 1\u001B[0m\n\u001B[1;32m----> 1\u001B[0m \u001B[43mlog\u001B[49m\u001B[43m(\u001B[49m\u001B[38;5;124;43m'\u001B[39;49m\u001B[38;5;124;43mHi there\u001B[39;49m\u001B[38;5;124;43m'\u001B[39;49m\u001B[43m)\u001B[49m\n",
      "\u001B[1;31mTypeError\u001B[0m: log() missing 1 required positional argument: 'values'"
     ]
    }
   ],
   "source": [
    "log('Hi there')"
   ],
   "metadata": {
    "collapsed": false,
    "ExecuteTime": {
     "end_time": "2023-08-27T08:17:31.614558400Z",
     "start_time": "2023-08-27T08:17:31.181707Z"
    }
   }
  },
  {
   "cell_type": "markdown",
   "source": [
    "使用'*’在函数的位置参数中，这样只需要提供不带*参数，并不会报错"
   ],
   "metadata": {
    "collapsed": false
   }
  },
  {
   "cell_type": "code",
   "execution_count": 4,
   "outputs": [],
   "source": [
    "def log1(message, *values):  # 将所有输入的数值pack到values中\n",
    "    if not  values:\n",
    "        print(message)\n",
    "    else:\n",
    "        values_str = ','.join(str(x) for x in values)\n",
    "        print(f'{message} : {values_str}')"
   ],
   "metadata": {
    "collapsed": false,
    "ExecuteTime": {
     "end_time": "2023-08-27T08:21:02.665622500Z",
     "start_time": "2023-08-27T08:21:02.638633200Z"
    }
   }
  },
  {
   "cell_type": "code",
   "execution_count": 9,
   "outputs": [
    {
     "name": "stdout",
     "output_type": "stream",
     "text": [
      "My numbers are : 1,2\n"
     ]
    }
   ],
   "source": [
    "log1('My numbers are', 1, 2)"
   ],
   "metadata": {
    "collapsed": false,
    "ExecuteTime": {
     "end_time": "2023-08-27T08:21:37.533968600Z",
     "start_time": "2023-08-27T08:21:37.518038300Z"
    }
   }
  },
  {
   "cell_type": "code",
   "execution_count": 15,
   "outputs": [
    {
     "name": "stdout",
     "output_type": "stream",
     "text": [
      "My numbers are : [1, 2]\n",
      "My numbers are : 1,2\n"
     ]
    }
   ],
   "source": [
    "log1('My numbers are', [1, 2])\n",
    "# 此时pack了一个tuple，及([1, 2]),如果想给list进行传入，则需要继续使用‘*’\n",
    "log1('My numbers are', *[1, 2])"
   ],
   "metadata": {
    "collapsed": false,
    "ExecuteTime": {
     "end_time": "2023-08-27T08:26:29.651474Z",
     "start_time": "2023-08-27T08:26:29.640087500Z"
    }
   }
  },
  {
   "cell_type": "code",
   "execution_count": 12,
   "outputs": [
    {
     "name": "stdout",
     "output_type": "stream",
     "text": [
      "Hi there\n"
     ]
    }
   ],
   "source": [
    "log1('Hi there')"
   ],
   "metadata": {
    "collapsed": false,
    "ExecuteTime": {
     "end_time": "2023-08-27T08:21:48.157933500Z",
     "start_time": "2023-08-27T08:21:48.144397200Z"
    }
   }
  },
  {
   "cell_type": "markdown",
   "source": [
    "**使用‘*’作为可变的位置参数时，需要注意传入的数据大小、类型。**\n",
    "如果将*加给迭代器，那么程序必须先把生成器中的元素迭代完才能继续向下执行。"
   ],
   "metadata": {
    "collapsed": false
   }
  },
  {
   "cell_type": "code",
   "execution_count": 3,
   "outputs": [
    {
     "name": "stdout",
     "output_type": "stream",
     "text": [
      "(0, 1, 2, 3, 4, 5, 6, 7, 8, 9)\n"
     ]
    }
   ],
   "source": [
    "def my_generator():\n",
    "    for i in range(10):\n",
    "        yield i\n",
    "def my_func(*args):\n",
    "    print(args)\n",
    "it = my_generator()\n",
    "my_func(*it)  # 先将my_generator整个迭代，再传入元组’（）‘中"
   ],
   "metadata": {
    "collapsed": false,
    "ExecuteTime": {
     "end_time": "2023-08-27T08:47:03.682797Z",
     "start_time": "2023-08-27T08:47:03.656537800Z"
    }
   }
  },
  {
   "cell_type": "markdown",
   "source": [
    "- *args适合处理输入值不太多，且数量可以预测的情况，最好是多个字面值或变量名\n",
    "- 对于此类函数，在进行更新维护时要添加新参数时，之前写过的调用代码就要整个更新\n",
    "例如如果在参数列表开头加入参数，就要更新整个代码"
   ],
   "metadata": {
    "collapsed": false
   }
  },
  {
   "cell_type": "code",
   "execution_count": 4,
   "outputs": [],
   "source": [
    "def log2(sequence, message, *values):  # 将所有输入的数值pack到values中\n",
    "    if not  values:\n",
    "        print(message)\n",
    "    else:\n",
    "        values_str = ','.join(str(x) for x in values)\n",
    "        print(f'{message} : {values_str}')"
   ],
   "metadata": {
    "collapsed": false,
    "ExecuteTime": {
     "end_time": "2023-08-27T08:57:13.534234600Z",
     "start_time": "2023-08-27T08:57:13.513530200Z"
    }
   }
  },
  {
   "cell_type": "code",
   "execution_count": 6,
   "outputs": [
    {
     "name": "stdout",
     "output_type": "stream",
     "text": [
      "Favourite : 7,33\n",
      "HI there\n",
      "7 : 33\n"
     ]
    }
   ],
   "source": [
    "log2(1, 'Favourite', 7, 33)\n",
    "log2(1, 'HI there')\n",
    "log2('Favourite numbers', 7,33)  #这种写法不会报错但并不满足函数的功能需求，排查起来很困难"
   ],
   "metadata": {
    "collapsed": false,
    "ExecuteTime": {
     "end_time": "2023-08-27T08:59:53.102477400Z",
     "start_time": "2023-08-27T08:59:53.087188500Z"
    }
   }
  },
  {
   "cell_type": "markdown",
   "source": [
    "- *后跟迭代器等大型数据结构有内存爆炸的可能\n",
    "- 给*args的函数调用时，最后指定对应的参数关键字，避免传参混乱\n",
    "- *args最好不用于特别复杂的数据拆解，适用于变量输出"
   ],
   "metadata": {
    "collapsed": false
   }
  },
  {
   "cell_type": "markdown",
   "source": [
    "## 23.用关键字参数便是可选的行为"
   ],
   "metadata": {
    "collapsed": false
   }
  },
  {
   "cell_type": "code",
   "execution_count": 8,
   "outputs": [],
   "source": [
    "def remainder(number, divisor):\n",
    "    return number % divisor\n",
    "assert remainder(20, 7) == 6"
   ],
   "metadata": {
    "collapsed": false,
    "ExecuteTime": {
     "end_time": "2023-08-27T09:08:50.665367500Z",
     "start_time": "2023-08-27T09:08:50.640127600Z"
    }
   }
  },
  {
   "cell_type": "code",
   "execution_count": 10,
   "outputs": [
    {
     "data": {
      "text/plain": "6"
     },
     "execution_count": 10,
     "metadata": {},
     "output_type": "execute_result"
    }
   ],
   "source": [
    "# 此时可以将位置传参、关键字传参混用\n",
    "remainder(20, 7)\n",
    "remainder(20, divisor=7)\n",
    "remainder(number=20, divisor=7)\n",
    "remainder(divisor=7, number=20)"
   ],
   "metadata": {
    "collapsed": false,
    "ExecuteTime": {
     "end_time": "2023-08-27T09:10:39.782158600Z",
     "start_time": "2023-08-27T09:10:39.759784600Z"
    }
   }
  },
  {
   "cell_type": "code",
   "execution_count": 13,
   "outputs": [
    {
     "ename": "SyntaxError",
     "evalue": "positional argument follows keyword argument (736591450.py, line 2)",
     "output_type": "error",
     "traceback": [
      "\u001B[1;36m  Cell \u001B[1;32mIn[13], line 2\u001B[1;36m\u001B[0m\n\u001B[1;33m    remainder(number=20, 7)\u001B[0m\n\u001B[1;37m                          ^\u001B[0m\n\u001B[1;31mSyntaxError\u001B[0m\u001B[1;31m:\u001B[0m positional argument follows keyword argument\n"
     ]
    }
   ],
   "source": [
    "# 需要注意的是，混合传入是不可以将关键字放在开头\n",
    "remainder(number=20, 7)"
   ],
   "metadata": {
    "collapsed": false,
    "ExecuteTime": {
     "end_time": "2023-08-27T09:13:31.483603700Z",
     "start_time": "2023-08-27T09:13:31.470912500Z"
    }
   }
  },
  {
   "cell_type": "code",
   "execution_count": 14,
   "outputs": [
    {
     "ename": "TypeError",
     "evalue": "remainder() got multiple values for argument 'number'",
     "output_type": "error",
     "traceback": [
      "\u001B[1;31m---------------------------------------------------------------------------\u001B[0m",
      "\u001B[1;31mTypeError\u001B[0m                                 Traceback (most recent call last)",
      "Cell \u001B[1;32mIn[14], line 2\u001B[0m\n\u001B[0;32m      1\u001B[0m \u001B[38;5;66;03m# 每个参数只能传一次，不能使用两种方法重复传\u001B[39;00m\n\u001B[1;32m----> 2\u001B[0m \u001B[43mremainder\u001B[49m\u001B[43m(\u001B[49m\u001B[38;5;241;43m20\u001B[39;49m\u001B[43m,\u001B[49m\u001B[43m \u001B[49m\u001B[43mnumber\u001B[49m\u001B[38;5;241;43m=\u001B[39;49m\u001B[38;5;241;43m20\u001B[39;49m\u001B[43m)\u001B[49m\n",
      "\u001B[1;31mTypeError\u001B[0m: remainder() got multiple values for argument 'number'"
     ]
    }
   ],
   "source": [
    "# 每个参数只能传一次，不能使用两种方法重复传\n",
    "remainder(20, number=20)"
   ],
   "metadata": {
    "collapsed": false,
    "ExecuteTime": {
     "end_time": "2023-08-27T09:13:32.569369200Z",
     "start_time": "2023-08-27T09:13:32.135491400Z"
    }
   }
  },
  {
   "cell_type": "markdown",
   "source": [
    "将'**'加在{}前，会将键值对以关键字形式传入"
   ],
   "metadata": {
    "collapsed": false
   }
  },
  {
   "cell_type": "code",
   "execution_count": 19,
   "outputs": [],
   "source": [
    "my_kwargs = {'number': 20,\n",
    "             'divisor': 7}"
   ],
   "metadata": {
    "collapsed": false,
    "ExecuteTime": {
     "end_time": "2023-08-27T09:16:32.294913300Z",
     "start_time": "2023-08-27T09:16:32.279842300Z"
    }
   }
  },
  {
   "cell_type": "code",
   "execution_count": 20,
   "outputs": [],
   "source": [
    "assert remainder(**my_kwargs) ==6"
   ],
   "metadata": {
    "collapsed": false,
    "ExecuteTime": {
     "end_time": "2023-08-27T09:16:33.152414100Z",
     "start_time": "2023-08-27T09:16:33.138138500Z"
    }
   }
  },
  {
   "cell_type": "code",
   "execution_count": 22,
   "outputs": [],
   "source": [
    "#也可以将dict与关键字结合使用\n",
    "my_kwargs1 = {'divisor': 7}\n",
    "assert  remainder(**my_kwargs1,number= 20) ==6"
   ],
   "metadata": {
    "collapsed": false,
    "ExecuteTime": {
     "end_time": "2023-08-27T09:18:03.429591200Z",
     "start_time": "2023-08-27T09:18:03.417064600Z"
    }
   }
  },
  {
   "cell_type": "code",
   "execution_count": 25,
   "outputs": [],
   "source": [
    "# 或者使用两个字典同事传入\n",
    "my_kwargs1 = {'number': 20}\n",
    "my_kwargs2 = {'divisor': 7}\n",
    "assert  remainder(**my_kwargs1, **my_kwargs2) ==6"
   ],
   "metadata": {
    "collapsed": false,
    "ExecuteTime": {
     "end_time": "2023-08-27T09:18:46.980988600Z",
     "start_time": "2023-08-27T09:18:46.961117300Z"
    }
   }
  },
  {
   "cell_type": "markdown",
   "source": [
    "要函数接受任意数量的关键字参数，可以使用万能形参，该参数会把传入的参数收集到字典中等待进一步处理"
   ],
   "metadata": {
    "collapsed": false
   }
  },
  {
   "cell_type": "code",
   "execution_count": 1,
   "outputs": [],
   "source": [
    "def print_paramaters(**kwargs):\n",
    "    for k, v in list(kwargs.items()):\n",
    "        print(f'字典key{k}对应的值为{v}')"
   ],
   "metadata": {
    "collapsed": false,
    "ExecuteTime": {
     "end_time": "2023-08-30T13:10:22.982242400Z",
     "start_time": "2023-08-30T13:10:22.973703700Z"
    }
   }
  },
  {
   "cell_type": "code",
   "execution_count": 4,
   "outputs": [
    {
     "name": "stdout",
     "output_type": "stream",
     "text": [
      "字典keyapple对应的值为15\n",
      "字典keyhuawei对应的值为p60\n"
     ]
    }
   ],
   "source": [
    "print_paramaters(apple = 15, huawei = 'p60')"
   ],
   "metadata": {
    "collapsed": false,
    "ExecuteTime": {
     "end_time": "2023-08-30T13:11:14.621800400Z",
     "start_time": "2023-08-30T13:11:14.607412100Z"
    }
   }
  },
  {
   "cell_type": "markdown",
   "source": [
    "### 使用关键字传参’**kwargs‘的优点\n",
    "1. 让初次阅读代码的人能够快速理解\n",
    "2. 可以设定默认值，减少代码量\n",
    "3. 能够灵活的扩充函数的参数且不影响原有调用"
   ],
   "metadata": {
    "collapsed": false
   }
  },
  {
   "cell_type": "code",
   "execution_count": 5,
   "outputs": [
    {
     "name": "stdout",
     "output_type": "stream",
     "text": [
      " 0.167kg per secpnd\n"
     ]
    }
   ],
   "source": [
    "# 2 默认值示例代码\n",
    "def flow_rate(weight_diff, time_diff):\n",
    "    return weight_diff/time_diff\n",
    "weight_diff = 0.5\n",
    "time_diff = 3\n",
    "flow = flow_rate(weight_diff, time_diff)\n",
    "print(f'{flow: .3}kg per secpnd')"
   ],
   "metadata": {
    "collapsed": false,
    "ExecuteTime": {
     "end_time": "2023-08-30T13:22:02.859342Z",
     "start_time": "2023-08-30T13:22:02.802160400Z"
    }
   }
  },
  {
   "cell_type": "code",
   "execution_count": 8,
   "outputs": [],
   "source": [
    "# 当希望结果的单位时间不是秒时，需要加入一个参数协调单位\n",
    "def flow_rate(weight_diff, time_diff, period):\n",
    "    return (weight_diff/time_diff) * period"
   ],
   "metadata": {
    "collapsed": false,
    "ExecuteTime": {
     "end_time": "2023-08-30T13:24:48.848341Z",
     "start_time": "2023-08-30T13:24:48.832748100Z"
    }
   }
  },
  {
   "cell_type": "code",
   "execution_count": 10,
   "outputs": [
    {
     "data": {
      "text/plain": "0.16666666666666666"
     },
     "execution_count": 10,
     "metadata": {},
     "output_type": "execute_result"
    }
   ],
   "source": [
    "# 如此情况，即使是以秒为单位也需要指定period为1\n",
    "flow_per_second = flow_rate(weight_diff, time_diff, 1)\n",
    "flow_per_second"
   ],
   "metadata": {
    "collapsed": false,
    "ExecuteTime": {
     "end_time": "2023-08-30T13:25:11.384773500Z",
     "start_time": "2023-08-30T13:25:11.344288800Z"
    }
   }
  },
  {
   "cell_type": "code",
   "execution_count": 11,
   "outputs": [],
   "source": [
    "# 通过指定默认值后可以省略\n",
    "def flow_rate(weight_diff, time_diff, period = 1):\n",
    "    return (weight_diff/time_diff) * period"
   ],
   "metadata": {
    "collapsed": false,
    "ExecuteTime": {
     "end_time": "2023-08-30T13:26:03.084730500Z",
     "start_time": "2023-08-30T13:26:03.056639800Z"
    }
   }
  },
  {
   "cell_type": "code",
   "execution_count": 13,
   "outputs": [
    {
     "name": "stdout",
     "output_type": "stream",
     "text": [
      "一秒的流量为0.16666666666666666, 一小时的流量为600.0\n"
     ]
    }
   ],
   "source": [
    "flow_per_second = flow_rate(weight_diff, time_diff, 1)\n",
    "flow_per_hours = flow_rate(weight_diff, time_diff, 3600)\n",
    "print(f'一秒的流量为{flow_per_second}, 一小时的流量为{flow_per_hours}')"
   ],
   "metadata": {
    "collapsed": false,
    "ExecuteTime": {
     "end_time": "2023-08-30T13:27:22.888352300Z",
     "start_time": "2023-08-30T13:27:22.872481800Z"
    }
   }
  },
  {
   "cell_type": "code",
   "execution_count": 15,
   "outputs": [],
   "source": [
    "# 3 扩充参数\n",
    "def flow_rate(weight_diff, time_diff, period = 1, units_per_kg = 1):\n",
    "    return (weight_diff * units_per_kg )/ time_diff * period"
   ],
   "metadata": {
    "collapsed": false,
    "ExecuteTime": {
     "end_time": "2023-08-30T13:33:21.461589Z",
     "start_time": "2023-08-30T13:33:21.441382600Z"
    }
   }
  },
  {
   "cell_type": "code",
   "execution_count": 18,
   "outputs": [
    {
     "data": {
      "text/plain": "1320.0"
     },
     "execution_count": 18,
     "metadata": {},
     "output_type": "execute_result"
    }
   ],
   "source": [
    "pounds_per_hours = flow_rate(weight_diff, time_diff, period=3600,units_per_kg= 2.2)\n",
    "pounds_per_hours"
   ],
   "metadata": {
    "collapsed": false,
    "ExecuteTime": {
     "end_time": "2023-08-30T13:34:39.848528400Z",
     "start_time": "2023-08-30T13:34:39.835433200Z"
    }
   }
  },
  {
   "cell_type": "markdown",
   "source": [
    "## 25 用None和docstring来面熟默认值会变得参数\n",
    "如参数是一个可变的值，其默认值在程序初始化时就已经确定，第2、3及以后的调用并不会实时更新"
   ],
   "metadata": {
    "collapsed": false
   }
  },
  {
   "cell_type": "code",
   "execution_count": 41,
   "outputs": [
    {
     "name": "stdout",
     "output_type": "stream",
     "text": [
      "2023-08-30 22:19:51.449514\n",
      "2023-08-30 22:19:51.449514 : Hi there\n",
      "2023-08-30 22:19:51.449514\n",
      "2023-08-30 22:19:51.449514 : Second Hi\n"
     ]
    }
   ],
   "source": [
    "from time import sleep\n",
    "from datetime import datetime\n",
    "def log(message, when = datetime.now()):\n",
    "    print(when)\n",
    "    print(f'{when} : {message}')\n",
    "log('Hi there')\n",
    "sleep(0.1)\n",
    "log('Second Hi')"
   ],
   "metadata": {
    "collapsed": false,
    "ExecuteTime": {
     "end_time": "2023-08-30T14:19:51.567203700Z",
     "start_time": "2023-08-30T14:19:51.450514200Z"
    }
   }
  },
  {
   "cell_type": "code",
   "execution_count": 39,
   "outputs": [],
   "source": [
    "# 想要实现实时变化的方式，需要将其赋为None，并在参数说明写清运作过程\n",
    "def log(message, when = None):\n",
    "    \"\"\" 结合时间戳记录log\n",
    "    \n",
    "    :param message: 需要打印的信息\n",
    "    :param when: 当信息被打印时的时间戳，默认为当前时间\n",
    "    \"\"\"\n",
    "    print(when)\n",
    "    if when is None:\n",
    "        when = datetime.now()\n",
    "    print(f'{when} : {message}')"
   ],
   "metadata": {
    "collapsed": false,
    "ExecuteTime": {
     "end_time": "2023-08-30T14:19:39.133639Z",
     "start_time": "2023-08-30T14:19:39.114850500Z"
    }
   }
  },
  {
   "cell_type": "code",
   "execution_count": 40,
   "outputs": [
    {
     "name": "stdout",
     "output_type": "stream",
     "text": [
      "None\n",
      "2023-08-30 22:19:39.920562 : Hi there\n",
      "None\n",
      "2023-08-30 22:19:40.022930 : Second Hi\n"
     ]
    }
   ],
   "source": [
    "log('Hi there')\n",
    "sleep(0.1)\n",
    "log('Second Hi')"
   ],
   "metadata": {
    "collapsed": false,
    "ExecuteTime": {
     "end_time": "2023-08-30T14:19:40.040696300Z",
     "start_time": "2023-08-30T14:19:39.921562400Z"
    }
   }
  },
  {
   "cell_type": "code",
   "execution_count": 34,
   "outputs": [
    {
     "name": "stdout",
     "output_type": "stream",
     "text": [
      "非json数据\n",
      "Foo: {'stuff': 5}\n",
      "非json数据\n",
      "Bar: {'stuff': 5, 'meep': 1}\n"
     ]
    }
   ],
   "source": [
    "import json\n",
    "def decode(data, default = {}):\n",
    "    try:\n",
    "        return json.loads(data)\n",
    "    except ValueError:\n",
    "        print('非json数据')\n",
    "        return default\n",
    "foo = decode('bad data')\n",
    "foo['stuff'] = 5\n",
    "print('Foo:', foo)\n",
    "bar = decode('asls bad')\n",
    "bar['meep'] = 1\n",
    "assert bar == foo\n",
    "print('Bar:', bar)\n",
    "# 因为字典已经初始化了，所以每个值都要传进了同一个字典"
   ],
   "metadata": {
    "collapsed": false,
    "ExecuteTime": {
     "end_time": "2023-08-30T14:17:00.640494200Z",
     "start_time": "2023-08-30T14:17:00.626668Z"
    }
   }
  },
  {
   "cell_type": "code",
   "execution_count": 38,
   "outputs": [
    {
     "name": "stdout",
     "output_type": "stream",
     "text": [
      "None\n",
      "非json数据,default = {}\n",
      "Foo: {'stuff': 5}\n",
      "None\n",
      "非json数据,default = {}\n",
      "Bar: {'meep': 1}\n"
     ]
    }
   ],
   "source": [
    "import json\n",
    "def decode(data, default = None):\n",
    "    print(default)\n",
    "    try:\n",
    "        return json.loads(data)\n",
    "    except ValueError:   \n",
    "        default = {} if default is None else default\n",
    "        print(f'非json数据,default = {default}')\n",
    "        return default\n",
    "foo = decode('bad data')\n",
    "foo['stuff'] = 5\n",
    "print('Foo:', foo)\n",
    "bar = decode('asls bad')\n",
    "bar['meep'] = 1\n",
    "# assert bar == foo\n",
    "print('Bar:', bar)"
   ],
   "metadata": {
    "collapsed": false,
    "ExecuteTime": {
     "end_time": "2023-08-30T14:19:24.295822500Z",
     "start_time": "2023-08-30T14:19:24.282829900Z"
    }
   }
  },
  {
   "cell_type": "code",
   "execution_count": 46,
   "outputs": [],
   "source": [
    "# 结合文档注释进一步完善代码\n",
    "from typing import Optional\n",
    "def log(message, when: Optional[str|datetime] = None):\n",
    "    \"\"\" 结合时间戳记录log\n",
    "    \n",
    "    :param message: 需要打印的信息\n",
    "    :param when: 当信息被打印时的时间戳，默认为当前时间\n",
    "    \"\"\"\n",
    "    if when is None:\n",
    "        when = datetime.now()\n",
    "    print(f'{when} : {message}')"
   ],
   "metadata": {
    "collapsed": false,
    "ExecuteTime": {
     "end_time": "2023-08-30T14:26:18.497136300Z",
     "start_time": "2023-08-30T14:26:18.482751200Z"
    }
   }
  },
  {
   "cell_type": "code",
   "execution_count": 47,
   "outputs": [
    {
     "name": "stdout",
     "output_type": "stream",
     "text": [
      "2023-08-30 22:26:18.681554 : Hi there\n",
      "2023-08-30 22:26:18.781738 : Second Hi\n"
     ]
    }
   ],
   "source": [
    "log('Hi there')\n",
    "sleep(0.1)\n",
    "log('Second Hi')"
   ],
   "metadata": {
    "collapsed": false,
    "ExecuteTime": {
     "end_time": "2023-08-30T14:26:18.799677600Z",
     "start_time": "2023-08-30T14:26:18.682554200Z"
    }
   }
  },
  {
   "cell_type": "markdown",
   "source": [
    "# 25. 用只能以关键字指定和只能安位置传入的参数来设计清晰的参数列表\n",
    "当关键字传参与位置传参混合使用时，输入不对会报错，合理地分配参数的属性，能够简化代码同时还可以为后期维护节省时间"
   ],
   "metadata": {
    "collapsed": false
   }
  },
  {
   "cell_type": "markdown",
   "source": [],
   "metadata": {
    "collapsed": false
   }
  },
  {
   "cell_type": "code",
   "execution_count": 48,
   "outputs": [],
   "source": [
    "def safe_division(number, divisor,\n",
    "                  ignore_flow, ignore_zero_division):\n",
    "    try:\n",
    "        return number/divisor\n",
    "    except OverflowError:\n",
    "        if ignore_flow:\n",
    "            return 0\n",
    "        else:\n",
    "            raise \n",
    "    except ZeroDivisionError:\n",
    "        if ignore_zero_division:\n",
    "            return float('inf')\n",
    "        else:\n",
    "            raise "
   ],
   "metadata": {
    "collapsed": false,
    "ExecuteTime": {
     "end_time": "2023-08-30T14:42:09.166882300Z",
     "start_time": "2023-08-30T14:42:09.131354900Z"
    }
   }
  },
  {
   "cell_type": "code",
   "execution_count": 51,
   "outputs": [
    {
     "data": {
      "text/plain": "inf"
     },
     "execution_count": 51,
     "metadata": {},
     "output_type": "execute_result"
    }
   ],
   "source": [
    "safe_division(1.0, 0, False, True)"
   ],
   "metadata": {
    "collapsed": false,
    "ExecuteTime": {
     "end_time": "2023-08-30T14:43:21.399375200Z",
     "start_time": "2023-08-30T14:43:21.378502400Z"
    }
   }
  },
  {
   "cell_type": "code",
   "execution_count": 53,
   "outputs": [
    {
     "data": {
      "text/plain": "0"
     },
     "execution_count": 53,
     "metadata": {},
     "output_type": "execute_result"
    }
   ],
   "source": [
    "safe_division(1.0, 10**500, True, False)"
   ],
   "metadata": {
    "collapsed": false,
    "ExecuteTime": {
     "end_time": "2023-08-30T14:43:35.481739700Z",
     "start_time": "2023-08-30T14:43:35.466373200Z"
    }
   }
  },
  {
   "cell_type": "code",
   "execution_count": 54,
   "outputs": [],
   "source": [
    "# 设置默认值简化调用时的传递\n",
    "def safe_division(number, divisor,\n",
    "                  ignore_flow = False, ignore_zero_division = False):\n",
    "    try:\n",
    "        return number/divisor\n",
    "    except OverflowError:\n",
    "        if ignore_flow:\n",
    "            return 0\n",
    "        else:\n",
    "            raise \n",
    "    except ZeroDivisionError:\n",
    "        if ignore_zero_division:\n",
    "            return float('inf')\n",
    "        else:\n",
    "            raise "
   ],
   "metadata": {
    "collapsed": false,
    "ExecuteTime": {
     "end_time": "2023-08-30T14:44:52.788492600Z",
     "start_time": "2023-08-30T14:44:52.758517900Z"
    }
   }
  },
  {
   "cell_type": "code",
   "execution_count": 0,
   "outputs": [],
   "source": [
    "result = safe_division(1.0, 10**500, ignore_flow=True)\n",
    "result"
   ],
   "metadata": {
    "collapsed": false
   }
  },
  {
   "cell_type": "code",
   "execution_count": 59,
   "outputs": [
    {
     "data": {
      "text/plain": "0"
     },
     "execution_count": 59,
     "metadata": {},
     "output_type": "execute_result"
    }
   ],
   "source": [
    "# 但是此种方式还是无法限定调用者必须使用关键字传参\n",
    "result = safe_division(1.0, 10**500, True)\n",
    "result"
   ],
   "metadata": {
    "collapsed": false,
    "ExecuteTime": {
     "end_time": "2023-08-30T14:46:26.207424600Z",
     "start_time": "2023-08-30T14:46:26.172068800Z"
    }
   }
  },
  {
   "cell_type": "code",
   "execution_count": 61,
   "outputs": [],
   "source": [
    "# 声明参数类型可以完成相应限定,'*'后为关键字，前为位置\n",
    "def safe_division(number, divisor,*,\n",
    "                  ignore_flow = False, ignore_zero_division = False):\n",
    "    try:\n",
    "        return number/divisor\n",
    "    except OverflowError:\n",
    "        if ignore_flow:\n",
    "            return 0\n",
    "        else:\n",
    "            raise \n",
    "    except ZeroDivisionError:\n",
    "        if ignore_zero_division:\n",
    "            return float('inf')\n",
    "        else:\n",
    "            raise "
   ],
   "metadata": {
    "collapsed": false,
    "ExecuteTime": {
     "end_time": "2023-08-30T14:47:28.096254200Z",
     "start_time": "2023-08-30T14:47:28.076286600Z"
    }
   }
  },
  {
   "cell_type": "code",
   "execution_count": 63,
   "outputs": [
    {
     "ename": "TypeError",
     "evalue": "safe_division() takes 2 positional arguments but 3 were given",
     "output_type": "error",
     "traceback": [
      "\u001B[1;31m---------------------------------------------------------------------------\u001B[0m",
      "\u001B[1;31mTypeError\u001B[0m                                 Traceback (most recent call last)",
      "Cell \u001B[1;32mIn[63], line 2\u001B[0m\n\u001B[0;32m      1\u001B[0m \u001B[38;5;66;03m# 此时不指定关键字会报错\u001B[39;00m\n\u001B[1;32m----> 2\u001B[0m result \u001B[38;5;241m=\u001B[39m \u001B[43msafe_division\u001B[49m\u001B[43m(\u001B[49m\u001B[38;5;241;43m1.0\u001B[39;49m\u001B[43m,\u001B[49m\u001B[43m \u001B[49m\u001B[38;5;241;43m10\u001B[39;49m\u001B[38;5;241;43m*\u001B[39;49m\u001B[38;5;241;43m*\u001B[39;49m\u001B[38;5;241;43m500\u001B[39;49m\u001B[43m,\u001B[49m\u001B[43m \u001B[49m\u001B[38;5;28;43;01mTrue\u001B[39;49;00m\u001B[43m)\u001B[49m\n",
      "\u001B[1;31mTypeError\u001B[0m: safe_division() takes 2 positional arguments but 3 were given"
     ]
    }
   ],
   "source": [
    "# 此时不指定关键字会报错\n",
    "result = safe_division(1.0, 10**500, True)"
   ],
   "metadata": {
    "collapsed": false,
    "ExecuteTime": {
     "end_time": "2023-08-30T14:47:54.039744500Z",
     "start_time": "2023-08-30T14:47:54.008843900Z"
    }
   }
  },
  {
   "cell_type": "code",
   "execution_count": 64,
   "outputs": [],
   "source": [
    "#前面的'number'/'divisor'仍支持位置+关键字，这样如果调用时使用了关键字传参，会影响前面代码，同时这两个参数也不是函数的接口 \n",
    "def safe_division(number, divisor,/,*,\n",
    "                  ignore_flow = False, ignore_zero_division = False):\n",
    "    try:\n",
    "        return number/divisor\n",
    "    except OverflowError:\n",
    "        if ignore_flow:\n",
    "            return 0\n",
    "        else:\n",
    "            raise \n",
    "    except ZeroDivisionError:\n",
    "        if ignore_zero_division:\n",
    "            return float('inf')\n",
    "        else:\n",
    "            raise "
   ],
   "metadata": {
    "collapsed": false,
    "ExecuteTime": {
     "end_time": "2023-08-30T14:50:38.048831900Z",
     "start_time": "2023-08-30T14:50:38.013445500Z"
    }
   }
  },
  {
   "cell_type": "code",
   "execution_count": 65,
   "outputs": [
    {
     "ename": "TypeError",
     "evalue": "safe_division() got some positional-only arguments passed as keyword arguments: 'number, divisor'",
     "output_type": "error",
     "traceback": [
      "\u001B[1;31m---------------------------------------------------------------------------\u001B[0m",
      "\u001B[1;31mTypeError\u001B[0m                                 Traceback (most recent call last)",
      "Cell \u001B[1;32mIn[65], line 2\u001B[0m\n\u001B[0;32m      1\u001B[0m \u001B[38;5;66;03m#此时前面两个参数只能使用位置传参，此特性py3.8才支持\u001B[39;00m\n\u001B[1;32m----> 2\u001B[0m \u001B[43msafe_division\u001B[49m\u001B[43m(\u001B[49m\u001B[43mnumber\u001B[49m\u001B[43m \u001B[49m\u001B[38;5;241;43m=\u001B[39;49m\u001B[38;5;241;43m1\u001B[39;49m\u001B[43m,\u001B[49m\u001B[43m \u001B[49m\u001B[43mdivisor\u001B[49m\u001B[43m \u001B[49m\u001B[38;5;241;43m=\u001B[39;49m\u001B[43m \u001B[49m\u001B[38;5;241;43m2\u001B[39;49m\u001B[43m)\u001B[49m\n",
      "\u001B[1;31mTypeError\u001B[0m: safe_division() got some positional-only arguments passed as keyword arguments: 'number, divisor'"
     ]
    }
   ],
   "source": [
    "#此时前面两个参数只能使用位置传参，此特性py3.8才支持\n",
    "safe_division(number =1, divisor = 2)"
   ],
   "metadata": {
    "collapsed": false,
    "ExecuteTime": {
     "end_time": "2023-08-30T14:51:33.865283900Z",
     "start_time": "2023-08-30T14:51:33.802525100Z"
    }
   }
  },
  {
   "cell_type": "code",
   "execution_count": 71,
   "outputs": [],
   "source": [
    "# 在’/‘和‘*‘间的参数既支持位置又支持关键字\n",
    "def safe_division(number, divisor,/,ndigits = 2,*,\n",
    "                  ignore_flow = False, ignore_zero_division = False):\n",
    "    try:\n",
    "        return round(number/divisor, ndigits)\n",
    "    except OverflowError:\n",
    "        if ignore_flow:\n",
    "            return 0\n",
    "        else:\n",
    "            raise \n",
    "    except ZeroDivisionError:\n",
    "        if ignore_zero_division:\n",
    "            return float('inf')\n",
    "        else:\n",
    "            raise "
   ],
   "metadata": {
    "collapsed": false,
    "ExecuteTime": {
     "end_time": "2023-08-30T14:54:47.470195Z",
     "start_time": "2023-08-30T14:54:47.436584100Z"
    }
   }
  },
  {
   "cell_type": "code",
   "execution_count": 74,
   "outputs": [
    {
     "name": "stdout",
     "output_type": "stream",
     "text": [
      "3.14\n",
      "3.14286\n",
      "3.143\n"
     ]
    }
   ],
   "source": [
    "result = safe_division(22,7)\n",
    "print(result)\n",
    "result = safe_division(22,7,5)\n",
    "print(result)\n",
    "result = safe_division(22,7,ndigits=3)\n",
    "print(result)"
   ],
   "metadata": {
    "collapsed": false,
    "ExecuteTime": {
     "end_time": "2023-08-30T14:55:30.710388700Z",
     "start_time": "2023-08-30T14:55:30.693420300Z"
    }
   }
  },
  {
   "cell_type": "code",
   "execution_count": null,
   "outputs": [],
   "source": [],
   "metadata": {
    "collapsed": false
   }
  }
 ],
 "metadata": {
  "kernelspec": {
   "display_name": "Python 3",
   "language": "python",
   "name": "python3"
  },
  "language_info": {
   "codemirror_mode": {
    "name": "ipython",
    "version": 2
   },
   "file_extension": ".py",
   "mimetype": "text/x-python",
   "name": "python",
   "nbconvert_exporter": "python",
   "pygments_lexer": "ipython2",
   "version": "2.7.6"
  }
 },
 "nbformat": 4,
 "nbformat_minor": 0
}
