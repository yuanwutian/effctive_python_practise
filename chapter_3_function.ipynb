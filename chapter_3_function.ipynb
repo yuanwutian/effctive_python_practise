{
 "cells": [
  {
   "cell_type": "markdown",
   "source": [
    "# Chapter 3 Function\n",
    "## 19. 不要把函数返回的多个数值返回到三个以上的变量"
   ],
   "metadata": {
    "collapsed": false
   }
  },
  {
   "cell_type": "code",
   "execution_count": 1,
   "outputs": [
    {
     "name": "stdout",
     "output_type": "stream",
     "text": [
      "longest : 1.0798816568047338,\n",
      ",middle:[1.0650887573964498, 1.0650887573964498, 1.0502958579881658, 1.0355029585798818, 0.9911242603550297, 0.9763313609467457, 0.9319526627218936, 0.9171597633136096], \n",
      "shortest:0.8875739644970415\n"
     ]
    }
   ],
   "source": [
    "# 有多个返回值时，用带‘*’的表达式接受那些没有被普通变量捕获的值（元组类型）\n",
    "def get_avg_retion(numbers: list):\n",
    "    average = sum(numbers)/len(numbers)\n",
    "    scaled = [x / average for x in numbers]\n",
    "    scaled.sort(reverse=True)\n",
    "    return scaled\n",
    "length = [63, 73, 72, 60, 67, 66, 71, 62, 72, 70]\n",
    "longest, *middle, shortest = get_avg_retion(length)\n",
    "print(f'longest : {longest},\\n,middle:{middle}, \\nshortest:{shortest}')"
   ],
   "metadata": {
    "collapsed": false,
    "ExecuteTime": {
     "end_time": "2023-07-22T08:02:34.149950Z",
     "start_time": "2023-07-22T08:02:24.291654600Z"
    }
   }
  },
  {
   "cell_type": "markdown",
   "source": [
    "## 20. 遇到意外情况时应该抛出异常，不要返回None\n",
    "返回None会和0值冲突"
   ],
   "metadata": {
    "collapsed": false
   }
  },
  {
   "cell_type": "code",
   "execution_count": 2,
   "outputs": [],
   "source": [
    "def careful_divide(a:float,b: float) -> float:\n",
    "    \"\"\"Divides a by b\n",
    "\n",
    "    Raises:\n",
    "    ValueError: when inputs cannot be divide\n",
    "    \"\"\"\n",
    "    try:\n",
    "        return a / b\n",
    "    except ZeroDivisionError:\n",
    "        raise ValueError('Invalid inputs')"
   ],
   "metadata": {
    "collapsed": false,
    "ExecuteTime": {
     "end_time": "2023-07-22T08:02:49.603078400Z",
     "start_time": "2023-07-22T08:02:49.583620Z"
    }
   }
  },
  {
   "cell_type": "code",
   "execution_count": 3,
   "outputs": [
    {
     "name": "stdout",
     "output_type": "stream",
     "text": [
      "result is 2.5\n"
     ]
    }
   ],
   "source": [
    "try:\n",
    "    result = careful_divide(5,2)\n",
    "except ValueError:\n",
    "    print('非法输出')\n",
    "else:\n",
    "    print(f'result is {result}')"
   ],
   "metadata": {
    "collapsed": false,
    "ExecuteTime": {
     "end_time": "2023-07-22T08:02:50.453036600Z",
     "start_time": "2023-07-22T08:02:50.373553500Z"
    }
   }
  },
  {
   "cell_type": "markdown",
   "source": [
    "## 21. 了解如何在闭包里使用外围作用域的变量\n",
    "避免函数中的局部变量污染外部模块，函数内作用域若有该变量则直接赋值，若无则以此函数范围作作用域创建变量"
   ],
   "metadata": {
    "collapsed": false
   }
  },
  {
   "cell_type": "code",
   "execution_count": 8,
   "outputs": [],
   "source": [
    "def sort_priority(values:list, group: list):\n",
    "    def helper(x):\n",
    "        if x in group:\n",
    "            return (0, x)\n",
    "        return (1, x)\n",
    "    values.sort(key=helper)"
   ],
   "metadata": {
    "collapsed": false,
    "ExecuteTime": {
     "end_time": "2023-07-12T15:06:39.670350345Z",
     "start_time": "2023-07-12T15:06:39.617494990Z"
    }
   }
  },
  {
   "cell_type": "code",
   "execution_count": 9,
   "outputs": [
    {
     "name": "stdout",
     "output_type": "stream",
     "text": [
      "[2, 3, 5, 7, 1, 4, 6, 8]\n"
     ]
    }
   ],
   "source": [
    "numbers = [8, 3, 1, 2, 5, 4, 7, 6]\n",
    "group = [2, 3, 5, 7]\n",
    "sort_priority(numbers, group)\n",
    "print(numbers)"
   ],
   "metadata": {
    "collapsed": false,
    "ExecuteTime": {
     "end_time": "2023-07-12T15:07:48.904107599Z",
     "start_time": "2023-07-12T15:07:48.878756554Z"
    }
   }
  },
  {
   "cell_type": "markdown",
   "source": [
    "found的作用域在闭包函数内，赋值在外部无效，若想实现需要使用nonlocal声明"
   ],
   "metadata": {
    "collapsed": false
   }
  },
  {
   "cell_type": "code",
   "execution_count": 10,
   "outputs": [],
   "source": [
    "def sort_priority(values:list, group: list):\n",
    "    found = False\n",
    "    def helper(x):\n",
    "        if x in group:\n",
    "            return (0, x)\n",
    "        found = True\n",
    "        return (1, x)\n",
    "    values.sort(key=helper)\n",
    "    return found"
   ],
   "metadata": {
    "collapsed": false,
    "ExecuteTime": {
     "end_time": "2023-07-12T15:08:45.860790753Z",
     "start_time": "2023-07-12T15:08:45.810778620Z"
    }
   }
  },
  {
   "cell_type": "code",
   "execution_count": 12,
   "outputs": [
    {
     "name": "stdout",
     "output_type": "stream",
     "text": [
      "[2, 3, 5, 7, 1, 4, 6, 8] False\n"
     ]
    }
   ],
   "source": [
    "numbers = [8, 3, 1, 2, 5, 4, 7, 6]\n",
    "group = [2, 3, 5, 7]\n",
    "f = sort_priority(numbers, group)\n",
    "print(numbers,f)"
   ],
   "metadata": {
    "collapsed": false,
    "ExecuteTime": {
     "end_time": "2023-07-12T15:09:11.202813889Z",
     "start_time": "2023-07-12T15:09:11.183368049Z"
    }
   }
  },
  {
   "cell_type": "code",
   "execution_count": 13,
   "outputs": [
    {
     "name": "stdout",
     "output_type": "stream",
     "text": [
      "[2, 3, 5, 7, 1, 4, 6, 8] True\n"
     ]
    }
   ],
   "source": [
    "def sort_priority(values:list, group: list):\n",
    "    found = False\n",
    "    def helper(x):\n",
    "        nonlocal found\n",
    "        if x in group:\n",
    "            return (0, x)\n",
    "        found = True\n",
    "        return (1, x)\n",
    "    values.sort(key=helper)\n",
    "    return found\n",
    "numbers = [8, 3, 1, 2, 5, 4, 7, 6]\n",
    "group = [2, 3, 5, 7]\n",
    "f = sort_priority(numbers, group)\n",
    "print(numbers,f)"
   ],
   "metadata": {
    "collapsed": false,
    "ExecuteTime": {
     "end_time": "2023-07-12T15:10:56.904745588Z",
     "start_time": "2023-07-12T15:10:56.865582837Z"
    }
   }
  },
  {
   "cell_type": "markdown",
   "source": [
    "还可以使用__call__方法定义类的调用触发函数，免去闭包"
   ],
   "metadata": {
    "collapsed": false
   }
  },
  {
   "cell_type": "code",
   "execution_count": 16,
   "outputs": [],
   "source": [
    "class Sorted():\n",
    "    def __init__(self, group):\n",
    "        self.group = group\n",
    "        self.found = False\n",
    "\n",
    "    def __call__(self, x):\n",
    "        if x in self.group:\n",
    "            self.found = True\n",
    "            return (0, x)\n",
    "        return (1, x)"
   ],
   "metadata": {
    "collapsed": false,
    "ExecuteTime": {
     "end_time": "2023-07-12T15:17:02.592974215Z",
     "start_time": "2023-07-12T15:17:02.441823987Z"
    }
   }
  },
  {
   "cell_type": "code",
   "execution_count": 17,
   "outputs": [
    {
     "name": "stdout",
     "output_type": "stream",
     "text": [
      "True\n"
     ]
    }
   ],
   "source": [
    "sortd = Sorted(group)\n",
    "numbers.sort(key=sortd)\n",
    "print(sortd.found)"
   ],
   "metadata": {
    "collapsed": false,
    "ExecuteTime": {
     "end_time": "2023-07-12T15:17:02.596909667Z",
     "start_time": "2023-07-12T15:17:02.563077424Z"
    }
   }
  },
  {
   "cell_type": "markdown",
   "source": [
    "## 22. 用数量可变的位置参数给函数设计清晰的参数列表"
   ],
   "metadata": {
    "collapsed": false
   }
  },
  {
   "cell_type": "code",
   "execution_count": 1,
   "outputs": [],
   "source": [
    "def log(message, values):\n",
    "    if not  values:\n",
    "        print(message)\n",
    "    else:\n",
    "        values_str = ','.join(str(x) for x in values)\n",
    "        print(f'{message} : {values_str}')"
   ],
   "metadata": {
    "collapsed": false,
    "ExecuteTime": {
     "end_time": "2023-08-27T08:16:23.667792900Z",
     "start_time": "2023-08-27T08:16:23.656786800Z"
    }
   }
  },
  {
   "cell_type": "code",
   "execution_count": 2,
   "outputs": [
    {
     "name": "stdout",
     "output_type": "stream",
     "text": [
      "My numbers are : 1,2\n",
      "Hi there\n"
     ]
    }
   ],
   "source": [
    "log('My numbers are', [1, 2])\n",
    "log('Hi there', [])"
   ],
   "metadata": {
    "collapsed": false,
    "ExecuteTime": {
     "end_time": "2023-08-27T08:17:19.219569100Z",
     "start_time": "2023-08-27T08:17:19.191474Z"
    }
   }
  },
  {
   "cell_type": "markdown",
   "source": [
    "此时第二个参数如果不传会报错"
   ],
   "metadata": {
    "collapsed": false
   }
  },
  {
   "cell_type": "code",
   "execution_count": 3,
   "outputs": [
    {
     "ename": "TypeError",
     "evalue": "log() missing 1 required positional argument: 'values'",
     "output_type": "error",
     "traceback": [
      "\u001B[1;31m---------------------------------------------------------------------------\u001B[0m",
      "\u001B[1;31mTypeError\u001B[0m                                 Traceback (most recent call last)",
      "Cell \u001B[1;32mIn[3], line 1\u001B[0m\n\u001B[1;32m----> 1\u001B[0m \u001B[43mlog\u001B[49m\u001B[43m(\u001B[49m\u001B[38;5;124;43m'\u001B[39;49m\u001B[38;5;124;43mHi there\u001B[39;49m\u001B[38;5;124;43m'\u001B[39;49m\u001B[43m)\u001B[49m\n",
      "\u001B[1;31mTypeError\u001B[0m: log() missing 1 required positional argument: 'values'"
     ]
    }
   ],
   "source": [
    "log('Hi there')"
   ],
   "metadata": {
    "collapsed": false,
    "ExecuteTime": {
     "end_time": "2023-08-27T08:17:31.614558400Z",
     "start_time": "2023-08-27T08:17:31.181707Z"
    }
   }
  },
  {
   "cell_type": "markdown",
   "source": [
    "使用'*’在函数的位置参数中，这样只需要提供不带*参数，并不会报错"
   ],
   "metadata": {
    "collapsed": false
   }
  },
  {
   "cell_type": "code",
   "execution_count": 4,
   "outputs": [],
   "source": [
    "def log1(message, *values):  # 将所有输入的数值pack到values中\n",
    "    if not  values:\n",
    "        print(message)\n",
    "    else:\n",
    "        values_str = ','.join(str(x) for x in values)\n",
    "        print(f'{message} : {values_str}')"
   ],
   "metadata": {
    "collapsed": false,
    "ExecuteTime": {
     "end_time": "2023-08-27T08:21:02.665622500Z",
     "start_time": "2023-08-27T08:21:02.638633200Z"
    }
   }
  },
  {
   "cell_type": "code",
   "execution_count": 9,
   "outputs": [
    {
     "name": "stdout",
     "output_type": "stream",
     "text": [
      "My numbers are : 1,2\n"
     ]
    }
   ],
   "source": [
    "log1('My numbers are', 1, 2)"
   ],
   "metadata": {
    "collapsed": false,
    "ExecuteTime": {
     "end_time": "2023-08-27T08:21:37.533968600Z",
     "start_time": "2023-08-27T08:21:37.518038300Z"
    }
   }
  },
  {
   "cell_type": "code",
   "execution_count": 15,
   "outputs": [
    {
     "name": "stdout",
     "output_type": "stream",
     "text": [
      "My numbers are : [1, 2]\n",
      "My numbers are : 1,2\n"
     ]
    }
   ],
   "source": [
    "log1('My numbers are', [1, 2])\n",
    "# 此时pack了一个list，及[[1, 2]],如果想给list进行传入，则需要继续使用‘*’\n",
    "log1('My numbers are', *[1, 2])"
   ],
   "metadata": {
    "collapsed": false,
    "ExecuteTime": {
     "end_time": "2023-08-27T08:26:29.651474Z",
     "start_time": "2023-08-27T08:26:29.640087500Z"
    }
   }
  },
  {
   "cell_type": "code",
   "execution_count": null,
   "outputs": [],
   "source": [],
   "metadata": {
    "collapsed": false
   }
  },
  {
   "cell_type": "code",
   "execution_count": 12,
   "outputs": [
    {
     "name": "stdout",
     "output_type": "stream",
     "text": [
      "Hi there\n"
     ]
    }
   ],
   "source": [
    "log1('Hi there')"
   ],
   "metadata": {
    "collapsed": false,
    "ExecuteTime": {
     "end_time": "2023-08-27T08:21:48.157933500Z",
     "start_time": "2023-08-27T08:21:48.144397200Z"
    }
   }
  },
  {
   "cell_type": "code",
   "execution_count": null,
   "outputs": [],
   "source": [],
   "metadata": {
    "collapsed": false
   }
  }
 ],
 "metadata": {
  "kernelspec": {
   "display_name": "Python 3",
   "language": "python",
   "name": "python3"
  },
  "language_info": {
   "codemirror_mode": {
    "name": "ipython",
    "version": 2
   },
   "file_extension": ".py",
   "mimetype": "text/x-python",
   "name": "python",
   "nbconvert_exporter": "python",
   "pygments_lexer": "ipython2",
   "version": "2.7.6"
  }
 },
 "nbformat": 4,
 "nbformat_minor": 0
}
