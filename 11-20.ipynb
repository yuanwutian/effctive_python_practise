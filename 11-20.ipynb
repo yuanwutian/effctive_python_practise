{
 "cells": [
  {
   "cell_type": "markdown",
   "source": [
    "# ptyhon中列表的索引\n",
    "## 11.对序列做切片"
   ],
   "metadata": {
    "collapsed": false
   }
  },
  {
   "cell_type": "code",
   "execution_count": 2,
   "outputs": [
    {
     "data": {
      "text/plain": "['a', 'b', 'c']"
     },
     "execution_count": 2,
     "metadata": {},
     "output_type": "execute_result"
    }
   ],
   "source": [
    "# 索引从0开始，并且末尾不会被切片包含\n",
    "example = ['a','b','c','d']\n",
    "e_slice = example[:3]\n",
    "e_slice"
   ],
   "metadata": {
    "collapsed": false,
    "ExecuteTime": {
     "end_time": "2023-06-04T13:58:22.282333281Z",
     "start_time": "2023-06-04T13:58:22.242400294Z"
    }
   }
  },
  {
   "cell_type": "code",
   "execution_count": 3,
   "outputs": [
    {
     "data": {
      "text/plain": "['d', 'c', 'b', 'a']"
     },
     "execution_count": 3,
     "metadata": {},
     "output_type": "execute_result"
    }
   ],
   "source": [
    "# 倒序列表的操作方法\n",
    "inverse = example[::-1]\n",
    "inverse"
   ],
   "metadata": {
    "collapsed": false,
    "ExecuteTime": {
     "end_time": "2023-06-04T13:59:59.304161409Z",
     "start_time": "2023-06-04T13:59:59.259890120Z"
    }
   }
  },
  {
   "cell_type": "code",
   "execution_count": 4,
   "outputs": [
    {
     "name": "stdout",
     "output_type": "stream",
     "text": [
      "['a', 'b', 'c', 'd'] ['a', 'change', 'c', 'd']\n",
      "['a', 'change', 'c', 'd'] ['a', 'change', 'c', 'd']\n"
     ]
    }
   ],
   "source": [
    "# 使用切片后的新列表相当于复制了新列表，再动的话不会将原列表改变，但是用=赋值就要关联改动\n",
    "example2 = example\n",
    "example3 = example[:]\n",
    "example3[1] = \"change\"\n",
    "print(example,example3)\n",
    "example2[1] = \"change\"\n",
    "print(example,example2)"
   ],
   "metadata": {
    "collapsed": false,
    "ExecuteTime": {
     "end_time": "2023-06-04T14:05:52.839075770Z",
     "start_time": "2023-06-04T14:05:52.779598436Z"
    }
   }
  },
  {
   "cell_type": "markdown",
   "source": [
    "### 不等长的切片赋值会改变原列表的长度"
   ],
   "metadata": {
    "collapsed": false
   }
  },
  {
   "cell_type": "code",
   "execution_count": 6,
   "outputs": [
    {
     "name": "stdout",
     "output_type": "stream",
     "text": [
      "['a', 'b', 'new1', 'new2', 'd']\n"
     ]
    }
   ],
   "source": [
    "example = ['a','b','c','d']\n",
    "example[2:3] = [\"new1\",'new2']\n",
    "print(example)"
   ],
   "metadata": {
    "collapsed": false,
    "ExecuteTime": {
     "end_time": "2023-06-04T14:09:43.610772346Z",
     "start_time": "2023-06-04T14:09:43.563901455Z"
    }
   }
  },
  {
   "cell_type": "code",
   "execution_count": 11,
   "outputs": [
    {
     "name": "stdout",
     "output_type": "stream",
     "text": [
      "['a', 'b', 'new1', 'e']\n"
     ]
    }
   ],
   "source": [
    "example = ['a','b','c','d','e']\n",
    "example[2:-1] = [\"new1\"]  # 切到'-1'代表到末尾\n",
    "print(example)"
   ],
   "metadata": {
    "collapsed": false,
    "ExecuteTime": {
     "end_time": "2023-06-04T14:13:37.720040330Z",
     "start_time": "2023-06-04T14:13:37.709149392Z"
    }
   }
  },
  {
   "cell_type": "markdown",
   "source": [
    "## 12. 不要在切片中同时指定上下标与步进\n",
    "三个参数连着使用会大大降低可读性，可以分步进行"
   ],
   "metadata": {
    "collapsed": false
   }
  },
  {
   "cell_type": "markdown",
   "source": [
    "## 13.使用‘*’的unpacking来捕获多种元素，而不是切片"
   ],
   "metadata": {
    "collapsed": false
   }
  },
  {
   "cell_type": "code",
   "execution_count": 14,
   "outputs": [
    {
     "data": {
      "text/plain": "[1, 1, 13, 12, 5, 3, 1, 14, 12, 1]"
     },
     "execution_count": 14,
     "metadata": {},
     "output_type": "execute_result"
    }
   ],
   "source": [
    "import random\n",
    "numbers = [random.randint(1, 20) for times in range(10)]\n",
    "numbers"
   ],
   "metadata": {
    "collapsed": false,
    "ExecuteTime": {
     "end_time": "2023-06-04T14:22:07.590726395Z",
     "start_time": "2023-06-04T14:22:07.586492926Z"
    }
   }
  },
  {
   "cell_type": "code",
   "execution_count": 15,
   "outputs": [],
   "source": [
    "numbers_sorted = sorted(numbers, reverse=True)"
   ],
   "metadata": {
    "collapsed": false,
    "ExecuteTime": {
     "end_time": "2023-06-04T14:22:32.304287312Z",
     "start_time": "2023-06-04T14:22:32.282557957Z"
    }
   }
  },
  {
   "cell_type": "code",
   "execution_count": 17,
   "outputs": [],
   "source": [
    "biggest, *others = numbers_sorted"
   ],
   "metadata": {
    "collapsed": false,
    "ExecuteTime": {
     "end_time": "2023-06-04T14:22:59.090341032Z",
     "start_time": "2023-06-04T14:22:59.046857349Z"
    }
   }
  },
  {
   "cell_type": "code",
   "execution_count": 18,
   "outputs": [
    {
     "name": "stdout",
     "output_type": "stream",
     "text": [
      "14 [13, 12, 12, 5, 3, 1, 1, 1, 1]\n"
     ]
    }
   ],
   "source": [
    "print(biggest,others)"
   ],
   "metadata": {
    "collapsed": false,
    "ExecuteTime": {
     "end_time": "2023-06-04T14:23:10.512799008Z",
     "start_time": "2023-06-04T14:23:10.480952017Z"
    }
   }
  },
  {
   "cell_type": "code",
   "execution_count": 19,
   "outputs": [
    {
     "name": "stdout",
     "output_type": "stream",
     "text": [
      "14 [13, 12, 12, 5, 3, 1, 1, 1] 1\n"
     ]
    }
   ],
   "source": [
    "biggest, *others, smallest = numbers_sorted\n",
    "print(biggest,others,smallest)"
   ],
   "metadata": {
    "collapsed": false,
    "ExecuteTime": {
     "end_time": "2023-06-04T14:24:15.935539432Z",
     "start_time": "2023-06-04T14:24:15.894325805Z"
    }
   }
  },
  {
   "cell_type": "code",
   "execution_count": 20,
   "outputs": [],
   "source": [
    "def generate_csv():\n",
    "    yield \"first\"\n",
    "    yield 'second'\n",
    "    yield 'third'"
   ],
   "metadata": {
    "collapsed": false,
    "ExecuteTime": {
     "end_time": "2023-06-04T14:31:36.524778279Z",
     "start_time": "2023-06-04T14:31:36.505047824Z"
    }
   }
  },
  {
   "cell_type": "code",
   "execution_count": 27,
   "outputs": [
    {
     "name": "stdout",
     "output_type": "stream",
     "text": [
      "first ['second', 'third']\n"
     ]
    }
   ],
   "source": [
    "a, *b = generate_csv()\n",
    "print(a,b)"
   ],
   "metadata": {
    "collapsed": false,
    "ExecuteTime": {
     "end_time": "2023-06-04T14:32:47.805130644Z",
     "start_time": "2023-06-04T14:32:47.793400440Z"
    }
   }
  },
  {
   "cell_type": "code",
   "execution_count": 3,
   "outputs": [],
   "source": [
    "def careful_divide(a,b):\n",
    "    try:\n",
    "        return a/b\n",
    "    except ZeroDivisionError:\n",
    "        return  0"
   ],
   "metadata": {
    "collapsed": false,
    "ExecuteTime": {
     "end_time": "2023-06-24T14:44:09.045489721Z",
     "start_time": "2023-06-24T14:44:09.041049935Z"
    }
   }
  },
  {
   "cell_type": "markdown",
   "source": [
    "**以下的if判断会混淆None和0的返回情况**"
   ],
   "metadata": {
    "collapsed": false
   }
  },
  {
   "cell_type": "code",
   "execution_count": 5,
   "outputs": [],
   "source": [
    "x, y = 1, 0\n",
    "result = careful_divide(x,y)\n",
    "if not result:\n",
    "    print('Invalid inputs')"
   ],
   "metadata": {
    "collapsed": false,
    "ExecuteTime": {
     "end_time": "2023-06-24T14:44:17.873982043Z",
     "start_time": "2023-06-24T14:44:17.868999193Z"
    }
   }
  },
  {
   "cell_type": "markdown",
   "source": [
    "**直接使用except抛出错误**"
   ],
   "metadata": {
    "collapsed": false
   }
  },
  {
   "cell_type": "code",
   "execution_count": 7,
   "outputs": [],
   "source": [
    "def careful_divide(a: float,b: float) -> float:\n",
    "    \"\"\"Divides a by b.\n",
    "\n",
    "\n",
    "    Raises :\n",
    "        ValueError: When thr inputs cannot be divide\n",
    "    \"\"\"\n",
    "    try:\n",
    "        return a/b\n",
    "    except ZeroDivisionError as e:\n",
    "        raise  ValueError('Invalid inputs')"
   ],
   "metadata": {
    "collapsed": false,
    "ExecuteTime": {
     "end_time": "2023-06-24T14:50:35.805179518Z",
     "start_time": "2023-06-24T14:50:35.799120381Z"
    }
   }
  },
  {
   "cell_type": "code",
   "execution_count": 8,
   "outputs": [
    {
     "ename": "ValueError",
     "evalue": "Invalid inputs",
     "output_type": "error",
     "traceback": [
      "\u001B[0;31m---------------------------------------------------------------------------\u001B[0m",
      "\u001B[0;31mZeroDivisionError\u001B[0m                         Traceback (most recent call last)",
      "Cell \u001B[0;32mIn[7], line 9\u001B[0m, in \u001B[0;36mcareful_divide\u001B[0;34m(a, b)\u001B[0m\n\u001B[1;32m      8\u001B[0m \u001B[38;5;28;01mtry\u001B[39;00m:\n\u001B[0;32m----> 9\u001B[0m     \u001B[38;5;28;01mreturn\u001B[39;00m \u001B[43ma\u001B[49m\u001B[38;5;241;43m/\u001B[39;49m\u001B[43mb\u001B[49m\n\u001B[1;32m     10\u001B[0m \u001B[38;5;28;01mexcept\u001B[39;00m \u001B[38;5;167;01mZeroDivisionError\u001B[39;00m \u001B[38;5;28;01mas\u001B[39;00m e:\n",
      "\u001B[0;31mZeroDivisionError\u001B[0m: division by zero",
      "\nDuring handling of the above exception, another exception occurred:\n",
      "\u001B[0;31mValueError\u001B[0m                                Traceback (most recent call last)",
      "Cell \u001B[0;32mIn[8], line 2\u001B[0m\n\u001B[1;32m      1\u001B[0m x, y \u001B[38;5;241m=\u001B[39m \u001B[38;5;241m1\u001B[39m, \u001B[38;5;241m0\u001B[39m\n\u001B[0;32m----> 2\u001B[0m result \u001B[38;5;241m=\u001B[39m \u001B[43mcareful_divide\u001B[49m\u001B[43m(\u001B[49m\u001B[43mx\u001B[49m\u001B[43m,\u001B[49m\u001B[43my\u001B[49m\u001B[43m)\u001B[49m\n",
      "Cell \u001B[0;32mIn[7], line 11\u001B[0m, in \u001B[0;36mcareful_divide\u001B[0;34m(a, b)\u001B[0m\n\u001B[1;32m      9\u001B[0m     \u001B[38;5;28;01mreturn\u001B[39;00m a\u001B[38;5;241m/\u001B[39mb\n\u001B[1;32m     10\u001B[0m \u001B[38;5;28;01mexcept\u001B[39;00m \u001B[38;5;167;01mZeroDivisionError\u001B[39;00m \u001B[38;5;28;01mas\u001B[39;00m e:\n\u001B[0;32m---> 11\u001B[0m     \u001B[38;5;28;01mraise\u001B[39;00m  \u001B[38;5;167;01mValueError\u001B[39;00m(\u001B[38;5;124m'\u001B[39m\u001B[38;5;124mInvalid inputs\u001B[39m\u001B[38;5;124m'\u001B[39m)\n",
      "\u001B[0;31mValueError\u001B[0m: Invalid inputs"
     ]
    }
   ],
   "source": [
    "x, y = 1, 0\n",
    "result = careful_divide(x,y)"
   ],
   "metadata": {
    "collapsed": false,
    "ExecuteTime": {
     "end_time": "2023-06-24T14:50:47.473228711Z",
     "start_time": "2023-06-24T14:50:46.603835857Z"
    }
   }
  },
  {
   "cell_type": "markdown",
   "source": [
    "# 14. 用sort方法的key参数表示负责的排列逻辑"
   ],
   "metadata": {
    "collapsed": false
   }
  },
  {
   "cell_type": "code",
   "execution_count": 8,
   "outputs": [],
   "source": [
    "class Tool:\n",
    "    def __init__(self,name,weight):\n",
    "        self.name = name\n",
    "        self.weight = weight\n",
    "    def __repr__(self):\n",
    "        return f'Tool({self.name!r},{self.weight})'  # 返回一个用于准确重新创建该对象的字符串，使用eval（）可以重新创建一个等价对象\n"
   ],
   "metadata": {
    "collapsed": false,
    "ExecuteTime": {
     "end_time": "2023-07-09T07:03:49.782239583Z",
     "start_time": "2023-07-09T07:03:49.737568786Z"
    }
   }
  },
  {
   "cell_type": "markdown",
   "source": [
    "**此时使用sort无法排序，因为不知道排序准则（；类内、类外都没定义）**"
   ],
   "metadata": {
    "collapsed": false
   }
  },
  {
   "cell_type": "code",
   "execution_count": 9,
   "outputs": [],
   "source": [
    "tools = [Tool('level',3.5),Tool('hammer',1.25),\n",
    "         Tool('screwdriver',0.5),Tool('chisel',0.25)]"
   ],
   "metadata": {
    "collapsed": false,
    "ExecuteTime": {
     "end_time": "2023-07-09T07:03:49.901996002Z",
     "start_time": "2023-07-09T07:03:49.892306850Z"
    }
   }
  },
  {
   "cell_type": "markdown",
   "source": [
    "**指定以name首字母排序后**"
   ],
   "metadata": {
    "collapsed": false
   }
  },
  {
   "cell_type": "code",
   "execution_count": 15,
   "outputs": [
    {
     "name": "stdout",
     "output_type": "stream",
     "text": [
      "Unsorted_name [Tool('chisel',0.25), Tool('hammer',1.25), Tool('level',3.5), Tool('screwdriver',0.5)]\n",
      "Sorted_name [Tool('chisel',0.25), Tool('hammer',1.25), Tool('level',3.5), Tool('screwdriver',0.5)]\n"
     ]
    }
   ],
   "source": [
    "print('Unsorted_name',repr(tools))\n",
    "tools.sort(key=lambda x: x.name)\n",
    "print('Sorted_name',repr(tools))"
   ],
   "metadata": {
    "collapsed": false,
    "ExecuteTime": {
     "end_time": "2023-07-09T07:10:07.188993907Z",
     "start_time": "2023-07-09T07:10:07.164407393Z"
    }
   }
  },
  {
   "cell_type": "markdown",
   "source": [
    "**指定以weight数值大小排序后**"
   ],
   "metadata": {
    "collapsed": false
   }
  },
  {
   "cell_type": "code",
   "execution_count": 16,
   "outputs": [
    {
     "name": "stdout",
     "output_type": "stream",
     "text": [
      "Unsorted_weight [Tool('chisel',0.25), Tool('hammer',1.25), Tool('level',3.5), Tool('screwdriver',0.5)]\n",
      "Sorted_weight [Tool('chisel',0.25), Tool('screwdriver',0.5), Tool('hammer',1.25), Tool('level',3.5)]\n"
     ]
    }
   ],
   "source": [
    "print('Unsorted_weight',repr(tools))\n",
    "tools.sort(key=lambda x: x.weight)\n",
    "print('Sorted_weight',repr(tools))"
   ],
   "metadata": {
    "collapsed": false,
    "ExecuteTime": {
     "end_time": "2023-07-09T07:10:23.288976268Z",
     "start_time": "2023-07-09T07:10:23.256355379Z"
    }
   }
  },
  {
   "cell_type": "markdown",
   "source": [
    "**对字符串来说，排序时有时需要做一些变化，变化可以体现在lambda函数中**"
   ],
   "metadata": {
    "collapsed": false
   }
  },
  {
   "cell_type": "code",
   "execution_count": 17,
   "outputs": [
    {
     "name": "stdout",
     "output_type": "stream",
     "text": [
      "Case sensitive:   ['New York', 'Paris', 'home', 'work']\n",
      "Case Insensitive:   ['home', 'New York', 'Paris', 'work']\n"
     ]
    }
   ],
   "source": [
    "places = ['home','work','New York','Paris']\n",
    "places.sort()\n",
    "print('Case sensitive:  ',places)  # 大写在前小写在后\n",
    "places.sort(key=lambda x: x.lower())\n",
    "print('Case Insensitive:  ',places)  # 只以首字母排，无视大小写"
   ],
   "metadata": {
    "collapsed": false,
    "ExecuteTime": {
     "end_time": "2023-07-09T07:14:11.867294914Z",
     "start_time": "2023-07-09T07:14:11.825950766Z"
    }
   }
  },
  {
   "cell_type": "markdown",
   "source": [
    "**多个指标排序的办法**"
   ],
   "metadata": {
    "collapsed": false
   }
  },
  {
   "cell_type": "code",
   "execution_count": 18,
   "outputs": [],
   "source": [
    "power_tools = [Tool('drill',4),Tool('circular saw',5),\n",
    "               Tool('jackhammer',40),Tool('sander',4)]"
   ],
   "metadata": {
    "collapsed": false,
    "ExecuteTime": {
     "end_time": "2023-07-09T07:17:19.474427417Z",
     "start_time": "2023-07-09T07:17:19.434009180Z"
    }
   }
  },
  {
   "cell_type": "markdown",
   "source": [
    "元组在排序时会一次比较多个元素，利用此特殊属性实现多元素排序"
   ],
   "metadata": {
    "collapsed": false
   }
  },
  {
   "cell_type": "code",
   "execution_count": 20,
   "outputs": [
    {
     "name": "stdout",
     "output_type": "stream",
     "text": [
      "[Tool('drill',4), Tool('sander',4), Tool('circular saw',5), Tool('jackhammer',40)]\n"
     ]
    }
   ],
   "source": [
    "power_tools.sort(key=lambda x: (x.weight,x.name))\n",
    "print(power_tools)"
   ],
   "metadata": {
    "collapsed": false,
    "ExecuteTime": {
     "end_time": "2023-07-09T07:19:07.527083695Z",
     "start_time": "2023-07-09T07:19:07.518570127Z"
    }
   }
  },
  {
   "cell_type": "markdown",
   "source": [
    "上述方法的两个指标都随同序排列，如需要逆序，可以使用‘-’，但该方法只适用于数值指标，字符串会报错"
   ],
   "metadata": {
    "collapsed": false
   }
  },
  {
   "cell_type": "code",
   "execution_count": 21,
   "outputs": [
    {
     "name": "stdout",
     "output_type": "stream",
     "text": [
      "[Tool('jackhammer',40), Tool('circular saw',5), Tool('drill',4), Tool('sander',4)]\n"
     ]
    },
    {
     "ename": "TypeError",
     "evalue": "bad operand type for unary -: 'str'",
     "output_type": "error",
     "traceback": [
      "\u001B[0;31m---------------------------------------------------------------------------\u001B[0m",
      "\u001B[0;31mTypeError\u001B[0m                                 Traceback (most recent call last)",
      "Cell \u001B[0;32mIn[21], line 3\u001B[0m\n\u001B[1;32m      1\u001B[0m power_tools\u001B[38;5;241m.\u001B[39msort(key\u001B[38;5;241m=\u001B[39m\u001B[38;5;28;01mlambda\u001B[39;00m x: (\u001B[38;5;241m-\u001B[39mx\u001B[38;5;241m.\u001B[39mweight,x\u001B[38;5;241m.\u001B[39mname))\n\u001B[1;32m      2\u001B[0m \u001B[38;5;28mprint\u001B[39m(power_tools)\n\u001B[0;32m----> 3\u001B[0m \u001B[43mpower_tools\u001B[49m\u001B[38;5;241;43m.\u001B[39;49m\u001B[43msort\u001B[49m\u001B[43m(\u001B[49m\u001B[43mkey\u001B[49m\u001B[38;5;241;43m=\u001B[39;49m\u001B[38;5;28;43;01mlambda\u001B[39;49;00m\u001B[43m \u001B[49m\u001B[43mx\u001B[49m\u001B[43m:\u001B[49m\u001B[43m \u001B[49m\u001B[43m(\u001B[49m\u001B[43mx\u001B[49m\u001B[38;5;241;43m.\u001B[39;49m\u001B[43mweight\u001B[49m\u001B[43m,\u001B[49m\u001B[38;5;241;43m-\u001B[39;49m\u001B[43mx\u001B[49m\u001B[38;5;241;43m.\u001B[39;49m\u001B[43mname\u001B[49m\u001B[43m)\u001B[49m\u001B[43m)\u001B[49m\n\u001B[1;32m      4\u001B[0m \u001B[38;5;28mprint\u001B[39m(power_tools)\n",
      "Cell \u001B[0;32mIn[21], line 3\u001B[0m, in \u001B[0;36m<lambda>\u001B[0;34m(x)\u001B[0m\n\u001B[1;32m      1\u001B[0m power_tools\u001B[38;5;241m.\u001B[39msort(key\u001B[38;5;241m=\u001B[39m\u001B[38;5;28;01mlambda\u001B[39;00m x: (\u001B[38;5;241m-\u001B[39mx\u001B[38;5;241m.\u001B[39mweight,x\u001B[38;5;241m.\u001B[39mname))\n\u001B[1;32m      2\u001B[0m \u001B[38;5;28mprint\u001B[39m(power_tools)\n\u001B[0;32m----> 3\u001B[0m power_tools\u001B[38;5;241m.\u001B[39msort(key\u001B[38;5;241m=\u001B[39m\u001B[38;5;28;01mlambda\u001B[39;00m x: (x\u001B[38;5;241m.\u001B[39mweight,\u001B[38;5;241;43m-\u001B[39;49m\u001B[43mx\u001B[49m\u001B[38;5;241;43m.\u001B[39;49m\u001B[43mname\u001B[49m))\n\u001B[1;32m      4\u001B[0m \u001B[38;5;28mprint\u001B[39m(power_tools)\n",
      "\u001B[0;31mTypeError\u001B[0m: bad operand type for unary -: 'str'"
     ]
    }
   ],
   "source": [
    "power_tools.sort(key=lambda x: (-x.weight,x.name))\n",
    "print(power_tools)\n",
    "power_tools.sort(key=lambda x: (x.weight,-x.name))\n",
    "print(power_tools)"
   ],
   "metadata": {
    "collapsed": false,
    "ExecuteTime": {
     "end_time": "2023-07-09T07:22:07.971834951Z",
     "start_time": "2023-07-09T07:22:07.935045049Z"
    }
   }
  },
  {
   "cell_type": "markdown",
   "source": [
    "对于上述情况，推进使用sort方法多次排序"
   ],
   "metadata": {
    "collapsed": false
   }
  },
  {
   "cell_type": "code",
   "execution_count": 23,
   "outputs": [
    {
     "name": "stdout",
     "output_type": "stream",
     "text": [
      "[Tool('sander',4), Tool('jackhammer',40), Tool('drill',4), Tool('circular saw',5)]\n",
      "[Tool('sander',4), Tool('drill',4), Tool('circular saw',5), Tool('jackhammer',40)]\n"
     ]
    }
   ],
   "source": [
    "power_tools.sort(key=lambda x:x.name,reverse=True)\n",
    "print(power_tools)\n",
    "power_tools.sort(key=lambda x: x.weight)\n",
    "print(power_tools)"
   ],
   "metadata": {
    "collapsed": false,
    "ExecuteTime": {
     "end_time": "2023-07-09T07:24:21.941984761Z",
     "start_time": "2023-07-09T07:24:21.936658919Z"
    }
   }
  },
  {
   "cell_type": "markdown",
   "source": [
    "上述方法可以扩展到多个指标，都会根据排序的先后确认指标优先级，然后再同一指标内进行排序"
   ],
   "metadata": {
    "collapsed": false
   }
  },
  {
   "cell_type": "markdown",
   "source": [
    "# 不要过分依赖给字典添加条目时所用的顺序\n",
    "3.6以前的python中dict的键值顺序是类似随机出现的，但3.7后的版本已经要求按照输入的顺序出现\n",
    "设计一个函数populate_ranks对一个空白字典按欢迎度写入对应动物\n",
    "设计函数get_winner查出人气最高的动物"
   ],
   "metadata": {
    "collapsed": false
   }
  },
  {
   "cell_type": "code",
   "execution_count": 1,
   "outputs": [],
   "source": [
    "votes = {'otter': 1281,'polar bear': 587,'fox': 863}\n",
    "def populate_ranks(votes: dict, ranks):\n",
    "    names = list(votes.keys())\n",
    "    # print(names)\n",
    "    names.sort(key=votes.get, reverse=True)\n",
    "    for i, name in enumerate(names, 1):\n",
    "        ranks[name] = i\n",
    "def get_winner(ranks):\n",
    "    return next(iter(ranks))"
   ],
   "metadata": {
    "collapsed": false,
    "ExecuteTime": {
     "end_time": "2023-07-10T13:56:50.395327928Z",
     "start_time": "2023-07-10T13:56:50.391958519Z"
    }
   }
  },
  {
   "cell_type": "code",
   "execution_count": 2,
   "outputs": [
    {
     "name": "stdout",
     "output_type": "stream",
     "text": [
      "{'otter': 1, 'fox': 2, 'polar bear': 3}\n",
      "otter\n"
     ]
    }
   ],
   "source": [
    "ranks = {}\n",
    "populate_ranks(votes,ranks)\n",
    "print(ranks)\n",
    "winner = get_winner(ranks)\n",
    "print(winner)"
   ],
   "metadata": {
    "collapsed": false,
    "ExecuteTime": {
     "end_time": "2023-07-10T13:56:50.396875834Z",
     "start_time": "2023-07-10T13:56:50.394465008Z"
    }
   }
  },
  {
   "cell_type": "markdown",
   "source": [
    "需求改变，想要按照字母顺序输出votes排序，但是仍然输出最受欢迎的动物"
   ],
   "metadata": {
    "collapsed": false
   }
  },
  {
   "cell_type": "code",
   "execution_count": 11,
   "outputs": [],
   "source": [
    "from collections.abc import MutableMapping\n",
    "class SortedDict(MutableMapping):\n",
    "    def __init__(self):\n",
    "        self.data = {}\n",
    "\n",
    "    def __getitem__(self, key):\n",
    "        return self.data[key]\n",
    "\n",
    "    def __setitem__(self, key, value):\n",
    "        self.data[key] = value\n",
    "\n",
    "    def __delitem__(self, key):\n",
    "        del self.data[key]\n",
    "\n",
    "    def __iter__(self):  # 定义迭代器的顺序，key按字母顺序迭代\n",
    "        keys = list(self.data.keys())\n",
    "        keys.sort(key=lambda x: self.data.get(x),reverse=False)\n",
    "        for key in keys:\n",
    "            yield key\n",
    "\n",
    "    def __len__(self):\n",
    "        return len(self.data)\n",
    "\n",
    "    def __str__(self):  # 魔术方法定于class被print时输出什么\n",
    "        return f'{self.data}'\n"
   ],
   "metadata": {
    "collapsed": false,
    "ExecuteTime": {
     "end_time": "2023-07-10T14:01:11.518631521Z",
     "start_time": "2023-07-10T14:01:11.512236336Z"
    }
   }
  },
  {
   "cell_type": "code",
   "execution_count": 12,
   "outputs": [
    {
     "name": "stdout",
     "output_type": "stream",
     "text": [
      "{'otter': 1, 'fox': 2, 'polar bear': 3}\n",
      "otter\n"
     ]
    }
   ],
   "source": [
    "sorted_ranks = SortedDict()\n",
    "populate_ranks(votes,sorted_ranks)\n",
    "print(sorted_ranks)\n",
    "winner = get_winner(sorted_ranks)\n",
    "print(winner)"
   ],
   "metadata": {
    "collapsed": false,
    "ExecuteTime": {
     "end_time": "2023-07-10T14:01:11.780100722Z",
     "start_time": "2023-07-10T14:01:11.775829252Z"
    }
   }
  },
  {
   "cell_type": "markdown",
   "source": [
    "上述方法输出的最受欢迎动物为fox因为get_winner函数默认输出迭代第一个对象，\n",
    "- 对此可以修改该函数，使其输出最受欢迎函数。\n",
    "- 也可以先判断输入的对象是否为dict，若不是则报错"
   ],
   "metadata": {
    "collapsed": false
   }
  },
  {
   "cell_type": "code",
   "execution_count": 5,
   "outputs": [],
   "source": [
    "def get_winner(ranks: dict):\n",
    "    for key,value in ranks.items():\n",
    "        if value == 1:\n",
    "            return  key"
   ],
   "metadata": {
    "collapsed": false,
    "ExecuteTime": {
     "end_time": "2023-07-10T13:58:47.956958825Z",
     "start_time": "2023-07-10T13:58:47.952245625Z"
    }
   }
  },
  {
   "cell_type": "code",
   "execution_count": 6,
   "outputs": [
    {
     "name": "stdout",
     "output_type": "stream",
     "text": [
      "otter\n"
     ]
    }
   ],
   "source": [
    "winner = get_winner(sorted_ranks)\n",
    "print(winner)"
   ],
   "metadata": {
    "collapsed": false,
    "ExecuteTime": {
     "end_time": "2023-07-10T13:58:59.688938022Z",
     "start_time": "2023-07-10T13:58:59.651851412Z"
    }
   }
  },
  {
   "cell_type": "markdown",
   "source": [
    "# 用‘get’处理键不在字典中的情况，不要用in与KeyError"
   ],
   "metadata": {
    "collapsed": false
   }
  },
  {
   "cell_type": "code",
   "execution_count": 13,
   "outputs": [],
   "source": [
    "votes = {'baguete': ['Bob','Alice']\n",
    "         ,'ciabatta': ['Coco', 'Deb']\n",
    "         }\n",
    "key = 'brioche'\n",
    "who = 'Elmer'"
   ],
   "metadata": {
    "collapsed": false,
    "ExecuteTime": {
     "end_time": "2023-07-10T14:13:09.102482132Z",
     "start_time": "2023-07-10T14:13:09.063712193Z"
    }
   }
  },
  {
   "cell_type": "markdown",
   "source": [
    "如果用in方法，会访问两次字典"
   ],
   "metadata": {
    "collapsed": false
   }
  },
  {
   "cell_type": "code",
   "execution_count": 15,
   "outputs": [
    {
     "name": "stdout",
     "output_type": "stream",
     "text": [
      "{'baguete': ['Bob', 'Alice'], 'ciabatta': ['Coco', 'Deb'], 'brioche': ['Elmer', 'Elmer']}\n"
     ]
    }
   ],
   "source": [
    "if key in votes:\n",
    "    names = votes[key]\n",
    "else:\n",
    "    votes[key] = names = []  # 加空白列表\n",
    "names.append(who)  # 填充空列表\n",
    "print(votes)"
   ],
   "metadata": {
    "collapsed": false,
    "ExecuteTime": {
     "end_time": "2023-07-10T14:15:57.842514540Z",
     "start_time": "2023-07-10T14:15:57.791114121Z"
    }
   }
  },
  {
   "cell_type": "markdown",
   "source": [
    "使用KeyError完成上述需求"
   ],
   "metadata": {
    "collapsed": false
   }
  },
  {
   "cell_type": "code",
   "execution_count": 16,
   "outputs": [],
   "source": [
    "votes = {'baguete': ['Bob','Alice']\n",
    "         ,'ciabatta': ['Coco', 'Deb']\n",
    "         }"
   ],
   "metadata": {
    "collapsed": false,
    "ExecuteTime": {
     "end_time": "2023-07-10T14:16:55.288397039Z",
     "start_time": "2023-07-10T14:16:55.240886856Z"
    }
   }
  },
  {
   "cell_type": "code",
   "execution_count": 17,
   "outputs": [
    {
     "name": "stdout",
     "output_type": "stream",
     "text": [
      "{'baguete': ['Bob', 'Alice'], 'ciabatta': ['Coco', 'Deb'], 'brioche': ['Elmer']}\n"
     ]
    }
   ],
   "source": [
    "try:\n",
    "    names = votes[key]\n",
    "except KeyError:\n",
    "    votes[key] = names = []\n",
    "names.append(who)\n",
    "print(votes)"
   ],
   "metadata": {
    "collapsed": false,
    "ExecuteTime": {
     "end_time": "2023-07-10T14:17:36.943113733Z",
     "start_time": "2023-07-10T14:17:36.885077258Z"
    }
   }
  },
  {
   "cell_type": "markdown",
   "source": [
    "使用get方法对字典赋值"
   ],
   "metadata": {
    "collapsed": false
   }
  },
  {
   "cell_type": "code",
   "execution_count": 18,
   "outputs": [],
   "source": [
    "votes = {'baguete': ['Bob','Alice']\n",
    "         ,'ciabatta': ['Coco', 'Deb']\n",
    "         }"
   ],
   "metadata": {
    "collapsed": false,
    "ExecuteTime": {
     "end_time": "2023-07-10T14:19:10.307894173Z",
     "start_time": "2023-07-10T14:19:10.263708767Z"
    }
   }
  },
  {
   "cell_type": "code",
   "execution_count": 19,
   "outputs": [],
   "source": [
    "if names := votes.get(key) is None:\n",
    "    votes[key] = names = []\n",
    "names.append(who)"
   ],
   "metadata": {
    "collapsed": false,
    "ExecuteTime": {
     "end_time": "2023-07-10T14:20:07.925832881Z",
     "start_time": "2023-07-10T14:20:07.885386053Z"
    }
   }
  },
  {
   "cell_type": "code",
   "execution_count": 20,
   "outputs": [
    {
     "name": "stdout",
     "output_type": "stream",
     "text": [
      "{'baguete': ['Bob', 'Alice'], 'ciabatta': ['Coco', 'Deb'], 'brioche': ['Elmer']}\n"
     ]
    }
   ],
   "source": [
    "print(votes)"
   ],
   "metadata": {
    "collapsed": false,
    "ExecuteTime": {
     "end_time": "2023-07-10T14:20:16.166585809Z",
     "start_time": "2023-07-10T14:20:16.136941142Z"
    }
   }
  },
  {
   "cell_type": "code",
   "execution_count": 21,
   "outputs": [],
   "source": [
    "class Visit():\n",
    "    def __init__(self):\n",
    "        self.data = {}\n",
    "    def add(self,country,city):\n",
    "        city_set = self.data.setdefault(country,set())\n",
    "        city_set.add(city)"
   ],
   "metadata": {
    "collapsed": false,
    "ExecuteTime": {
     "end_time": "2023-07-10T14:35:17.779964689Z",
     "start_time": "2023-07-10T14:35:17.738425910Z"
    }
   }
  },
  {
   "cell_type": "code",
   "execution_count": 22,
   "outputs": [],
   "source": [
    "vist = Visit()\n",
    "vist.add('Russia','Yekaterinburg')\n",
    "vist.add('Tanzania', 'Zanzibar')"
   ],
   "metadata": {
    "collapsed": false,
    "ExecuteTime": {
     "end_time": "2023-07-10T14:36:24.864592447Z",
     "start_time": "2023-07-10T14:36:24.822445086Z"
    }
   }
  },
  {
   "cell_type": "code",
   "execution_count": 23,
   "outputs": [
    {
     "name": "stdout",
     "output_type": "stream",
     "text": [
      "{'Russia': {'Yekaterinburg'}, 'Tanzania': {'Zanzibar'}}\n"
     ]
    }
   ],
   "source": [
    "print(vist.data)"
   ],
   "metadata": {
    "collapsed": false,
    "ExecuteTime": {
     "end_time": "2023-07-10T14:36:34.997780693Z",
     "start_time": "2023-07-10T14:36:34.942819674Z"
    }
   }
  },
  {
   "cell_type": "code",
   "execution_count": 24,
   "outputs": [
    {
     "name": "stdout",
     "output_type": "stream",
     "text": [
      "{'Russia': {'sant', 'Yekaterinburg'}}\n"
     ]
    }
   ],
   "source": [
    "vist = Visit()\n",
    "vist.add('Russia','Yekaterinburg')\n",
    "vist.add('Russia', 'sant')\n",
    "print(vist.data)"
   ],
   "metadata": {
    "collapsed": false,
    "ExecuteTime": {
     "end_time": "2023-07-10T14:36:57.515525139Z",
     "start_time": "2023-07-10T14:36:57.469347612Z"
    }
   }
  },
  {
   "cell_type": "markdown",
   "source": [
    "上述方法的赋值过程无论country在不在字典内都会创造city_set，随一种无意义的开销"
   ],
   "metadata": {
    "collapsed": false
   }
  },
  {
   "cell_type": "code",
   "execution_count": 26,
   "outputs": [],
   "source": [
    "from collections import defaultdict\n",
    "class Visit():\n",
    "    def __init__(self):\n",
    "        self.data = defaultdict(set)\n",
    "\n",
    "    def add(self,country,city):\n",
    "        self.data[country].add(city)"
   ],
   "metadata": {
    "collapsed": false,
    "ExecuteTime": {
     "end_time": "2023-07-10T14:44:14.089615222Z",
     "start_time": "2023-07-10T14:44:14.083024318Z"
    }
   }
  },
  {
   "cell_type": "code",
   "execution_count": 27,
   "outputs": [
    {
     "name": "stdout",
     "output_type": "stream",
     "text": [
      "defaultdict(<class 'set'>, {'Russia': {'sant', 'Yekaterinburg'}})\n"
     ]
    }
   ],
   "source": [
    "vist = Visit()\n",
    "vist.add('Russia','Yekaterinburg')\n",
    "vist.add('Russia', 'sant')\n",
    "print(vist.data)"
   ],
   "metadata": {
    "collapsed": false,
    "ExecuteTime": {
     "end_time": "2023-07-10T14:44:21.310851815Z",
     "start_time": "2023-07-10T14:44:21.272564106Z"
    }
   }
  },
  {
   "cell_type": "code",
   "execution_count": 35,
   "outputs": [
    {
     "name": "stdout",
     "output_type": "stream",
     "text": [
      "defaultdict(<class 'list'>, {'key1': 0, 'key2': [1]})\n"
     ]
    }
   ],
   "source": [
    "data = defaultdict(list)  # 传入list则会给不存在的key赋空list，传Set同理\n",
    "data['key1'] = 0\n",
    "data['key2'].append(1)\n",
    "print(data)"
   ],
   "metadata": {
    "collapsed": false,
    "ExecuteTime": {
     "end_time": "2023-07-10T14:47:41.859020756Z",
     "start_time": "2023-07-10T14:47:41.817556500Z"
    }
   }
  },
  {
   "cell_type": "markdown",
   "source": [
    "# 18.使用__missing__构造依赖键的默认项"
   ],
   "metadata": {
    "collapsed": false
   }
  },
  {
   "cell_type": "code",
   "execution_count": 36,
   "outputs": [],
   "source": [
    "pictures = {}\n",
    "path = 'profile_1234.png'\n",
    "# 使用get方法对不存在的path进行添加\n",
    "if (hand := pictures.get(path)) is None:\n",
    "    try:\n",
    "        handle = open(path,'a+b')\n",
    "    except OSError:\n",
    "        print(f'File to open path {path}')\n",
    "        raise\n",
    "    else:\n",
    "        pictures[path] = handle\n",
    "handle.seek(0)\n",
    "image_data = handle.read()"
   ],
   "metadata": {
    "collapsed": false,
    "ExecuteTime": {
     "end_time": "2023-07-10T15:05:06.012577909Z",
     "start_time": "2023-07-10T15:05:05.960218283Z"
    }
   }
  },
  {
   "cell_type": "markdown",
   "source": [
    "使用missing方法定义缺失键的返回"
   ],
   "metadata": {
    "collapsed": false
   }
  },
  {
   "cell_type": "code",
   "execution_count": 3,
   "outputs": [],
   "source": [
    "class Pictures(dict):\n",
    "    def __init__(self,str):\n",
    "        super().__init__()\n",
    "        self.data = {}\n",
    "        print(f'{str}')\n",
    "\n",
    "\n",
    "    def __missing__(self, key):\n",
    "        value = self.open_picture(key)\n",
    "        self[key] = 'here'\n",
    "        return  value\n",
    "\n",
    "    def open_picture(self, profile_path):\n",
    "        try :\n",
    "            return open(profile_path,'a+b')\n",
    "        except OSError:\n",
    "            print(f'File to open path {path}')\n",
    "            raise\n"
   ],
   "metadata": {
    "collapsed": false,
    "ExecuteTime": {
     "end_time": "2023-07-12T14:24:08.156924897Z",
     "start_time": "2023-07-12T14:24:08.149470222Z"
    }
   }
  },
  {
   "cell_type": "code",
   "execution_count": 8,
   "outputs": [
    {
     "name": "stdout",
     "output_type": "stream",
     "text": [
      "test\n"
     ]
    }
   ],
   "source": [
    "pic = Pictures('test')  # 调用‘__init__’方法"
   ],
   "metadata": {
    "collapsed": false,
    "ExecuteTime": {
     "end_time": "2023-07-12T14:25:13.840863270Z",
     "start_time": "2023-07-12T14:25:13.830816019Z"
    }
   }
  },
  {
   "cell_type": "code",
   "execution_count": 9,
   "outputs": [],
   "source": [
    "pic['kye1'] = 1  # 调用‘__missing_’方法"
   ],
   "metadata": {
    "collapsed": false,
    "ExecuteTime": {
     "end_time": "2023-07-12T14:25:14.602555926Z",
     "start_time": "2023-07-12T14:25:14.587404537Z"
    }
   }
  },
  {
   "cell_type": "code",
   "execution_count": 10,
   "outputs": [
    {
     "data": {
      "text/plain": "{'kye1': 1}"
     },
     "execution_count": 10,
     "metadata": {},
     "output_type": "execute_result"
    }
   ],
   "source": [
    "pic"
   ],
   "metadata": {
    "collapsed": false,
    "ExecuteTime": {
     "end_time": "2023-07-12T14:25:15.260198755Z",
     "start_time": "2023-07-12T14:25:15.251704061Z"
    }
   }
  },
  {
   "cell_type": "code",
   "execution_count": null,
   "outputs": [],
   "source": [],
   "metadata": {
    "collapsed": false
   }
  }
 ],
 "metadata": {
  "kernelspec": {
   "display_name": "Python 3",
   "language": "python",
   "name": "python3"
  },
  "language_info": {
   "codemirror_mode": {
    "name": "ipython",
    "version": 2
   },
   "file_extension": ".py",
   "mimetype": "text/x-python",
   "name": "python",
   "nbconvert_exporter": "python",
   "pygments_lexer": "ipython2",
   "version": "2.7.6"
  }
 },
 "nbformat": 4,
 "nbformat_minor": 0
}
