{
 "cells": [
  {
   "cell_type": "markdown",
   "metadata": {},
   "source": [
    " ## Chapter 5 类与接口"
   ]
  },
  {
   "cell_type": "markdown",
   "metadata": {},
   "source": [
    "### 37. 用组合起来的类实现多层结构， 不要使用嵌套的内置类型"
   ]
  },
  {
   "cell_type": "markdown",
   "metadata": {},
   "source": [
    "*使用字典作为动态内部状态，如成绩记录册，不知道会出现哪些姓名*"
   ]
  },
  {
   "cell_type": "code",
   "execution_count": 1,
   "metadata": {
    "tags": []
   },
   "outputs": [],
   "source": [
    "from typing import List\n",
    "class SimplrGradebook:\n",
    "    def __init__(self) -> None:\n",
    "        self._grades:dict[str, list[float]] = {}\n",
    "\n",
    "    def add_student(self, name: int):\n",
    "        self._grades[name] = []\n",
    "\n",
    "    def report_grade(self, name:str, score: float):\n",
    "        self._grades[name].append(score)\n",
    "\n",
    "    def average_grade(self, name: str) -> float:\n",
    "        grades: List[float] = self._grades[name]\n",
    "        return sum(grades) / len(grades)"
   ]
  },
  {
   "cell_type": "code",
   "execution_count": 2,
   "metadata": {},
   "outputs": [
    {
     "name": "stdout",
     "output_type": "stream",
     "text": [
      "90.0\n"
     ]
    }
   ],
   "source": [
    "# 使用方法\n",
    "book = SimplrGradebook()\n",
    "book.add_student('Isaac Newton')\n",
    "book.report_grade('Isaac Newton', 90)\n",
    "book.report_grade('Isaac Newton', 95)\n",
    "book.report_grade('Isaac Newton', 85)\n",
    "\n",
    "print(book.average_grade('Isaac Newton'))"
   ]
  },
  {
   "cell_type": "code",
   "execution_count": 8,
   "metadata": {},
   "outputs": [],
   "source": [
    "# 添加新功能，记录每名学生各门课程的分数 需要引用defaultdict结构\n",
    "from collections import defaultdict\n",
    "\n",
    "\n",
    "class BySubjectGradebook:\n",
    "    def __init__(self) -> None:\n",
    "        self._grades: dict[str, defaultdict[str, list]] = {}\n",
    "\n",
    "    def add_student(self, name):\n",
    "        self._grades[name] = defaultdict(list)\n",
    "\n",
    "    def report_grade(self, name: str, subject: str, grade: float):\n",
    "        \"\"\"\n",
    "        使用defaultdict, 将一个科目的多次考试存入一个数据结构中\n",
    "        \"\"\"\n",
    "        by_subject = self._grades[name]\n",
    "        grade_list = by_subject[subject]\n",
    "        grade_list.append(grade)\n",
    "\n",
    "    def average_grade(self, name: str) -> float:\n",
    "        by_subject = self._grades[name]\n",
    "        total_grades, counts = 0, 0\n",
    "        print(by_subject.values())\n",
    "        for grades in by_subject.values():\n",
    "            counts += len(grades)\n",
    "            total_grades += sum(grades)\n",
    "        return total_grades / counts"
   ]
  },
  {
   "cell_type": "code",
   "execution_count": 9,
   "metadata": {},
   "outputs": [
    {
     "name": "stdout",
     "output_type": "stream",
     "text": [
      "dict_values([[75, 65], [90, 95]])\n"
     ]
    },
    {
     "data": {
      "text/plain": [
       "81.25"
      ]
     },
     "execution_count": 9,
     "metadata": {},
     "output_type": "execute_result"
    }
   ],
   "source": [
    "# 使用方法\n",
    "book = BySubjectGradebook()\n",
    "book.add_student('Albert Einstein')\n",
    "book.report_grade('Albert Einstein', 'Math', 75)\n",
    "book.report_grade('Albert Einstein', 'Math', 65)\n",
    "book.report_grade('Albert Einstein', 'Gym', 90)\n",
    "book.report_grade('Albert Einstein', 'Gym', 95)\n",
    "book.average_grade('Albert Einstein')\n",
    "# 需求再次变化， 需要记录权重"
   ]
  },
  {
   "cell_type": "code",
   "execution_count": 10,
   "metadata": {},
   "outputs": [],
   "source": [
    "class WeightGradebook(BySubjectGradebook):\n",
    "    def __init__(self) -> None:\n",
    "        super().__init__()\n",
    "\n",
    "    def report_grade(self, name: str, subject: str, grade: float, weight: float):\n",
    "        by_subject = self._grades[name]\n",
    "        grade_list = by_subject[subject]\n",
    "        grade_list.append((grade, weight))\n",
    "\n",
    "    def average_grade(self, name):\n",
    "        bysubject = self._grades[name]\n",
    "        score_sum, score_count = 0, 0\n",
    "        for subject, scores in bysubject.items():\n",
    "            subject_avg, total_weight = 0, 0\n",
    "            for score, weight in scores:\n",
    "                subject_avg += score * weight\n",
    "                total_weight += weight\n",
    "            score_sum += subject_avg / total_weight\n",
    "            score_count += 1\n",
    "        return score_sum / score_count"
   ]
  },
  {
   "cell_type": "code",
   "execution_count": 12,
   "metadata": {},
   "outputs": [
    {
     "data": {
      "text/plain": [
       "80.25"
      ]
     },
     "execution_count": 12,
     "metadata": {},
     "output_type": "execute_result"
    }
   ],
   "source": [
    "book = WeightGradebook()\n",
    "book.add_student('Albert Einstein')\n",
    "book.report_grade('Albert Einstein', 'Math', 75, 0.05)\n",
    "book.report_grade('Albert Einstein', 'Math', 65, 0.15)\n",
    "book.report_grade('Albert Einstein', 'Math', 70, 0.8)\n",
    "book.report_grade('Albert Einstein', 'Gym', 100, 0.4)\n",
    "book.report_grade('Albert Einstein', 'Gym', 85, 0.6)\n",
    "book.average_grade('Albert Einstein')"
   ]
  },
  {
   "cell_type": "code",
   "execution_count": 18,
   "metadata": {},
   "outputs": [],
   "source": [
    "# 上述实现方法嵌套过多, 可以通过将多层嵌套的内置类型重构为类体系\n",
    "# 将单个学生构建成一个类， 并结合nametuple作为学生成绩的容器\n",
    "from collections import namedtuple\n",
    "\n",
    "Grade = namedtuple(\"Grade\", (\"score, weight\"))\n",
    "\n",
    "\n",
    "# 先以每个科目为单位定义\n",
    "class Subject:\n",
    "    def __init__(self) -> None:\n",
    "        self._grade: list[Grade] = []\n",
    "\n",
    "    def report_grade(self, grade: float, weight: float):\n",
    "        self._grade.append(Grade(grade, weight))\n",
    "\n",
    "    def average_grade(self):\n",
    "        total, total_weight = 0, 0\n",
    "        for grade in self._grade:\n",
    "            total += grade.weight * grade.score\n",
    "            total_weight += grade.weight\n",
    "        return total / total_weight\n",
    "\n",
    "\n",
    "# 再定义代表每个学生的类\n",
    "class Students:\n",
    "    def __init__(self) -> None:\n",
    "        self._subject: defaultdict[str, Subject] = defaultdict(Subject)\n",
    "\n",
    "    def get_subject(self, subject: str):\n",
    "        return self._subject[subject]\n",
    "\n",
    "    def average_grade(self):\n",
    "        total_grade, total_counts = 0, 0\n",
    "        for _, subject in self._subject.items():\n",
    "            total_grade += subject.average_grade()\n",
    "            total_counts += 1\n",
    "        return total_grade / total_counts\n",
    "\n",
    "\n",
    "# 最后定义成绩册类\n",
    "class GradeBook:\n",
    "    def __init__(self) -> None:\n",
    "        self._students: defaultdict[str, Students] = defaultdict(Students)\n",
    "\n",
    "    def get_student(self, name: str):\n",
    "        return self._students[name]"
   ]
  },
  {
   "cell_type": "code",
   "execution_count": 19,
   "metadata": {},
   "outputs": [
    {
     "name": "stdout",
     "output_type": "stream",
     "text": [
      "80.25\n"
     ]
    }
   ],
   "source": [
    "# 使用上述类进行记录和计算\n",
    "book = GradeBook()\n",
    "albert = book.get_student('Albert Einstein')\n",
    "math = albert.get_subject('Math')\n",
    "math.report_grade(75, 0.05)\n",
    "math.report_grade(65, 0.15)\n",
    "math.report_grade(70, 0.80)\n",
    "gym = albert.get_subject('Gym')\n",
    "gym.report_grade(100, 0.4)\n",
    "gym.report_grade(85, 0.6)\n",
    "print(albert.average_grade())"
   ]
  },
  {
   "cell_type": "markdown",
   "metadata": {},
   "source": [
    "1. 不要再字典内嵌套长元组和字典\n",
    "2. 如果部分数据不会变化, 可以考虑使用nametuple做容器\n",
    "3. 如果使用字典、列表等容器的维护越来越复杂, 可以考虑使用多个类实现"
   ]
  },
  {
   "cell_type": "markdown",
   "metadata": {},
   "source": [
    "## 38. 让简单的接口接受函数,而不是类的实例"
   ]
  },
  {
   "cell_type": "code",
   "execution_count": 25,
   "metadata": {},
   "outputs": [
    {
     "name": "stdout",
     "output_type": "stream",
     "text": [
      "Before: {'green': 12, 'blue': 3}\n",
      "After: {'green': 12, 'blue': 17, 'red': 5, 'orange': 9}\n"
     ]
    }
   ],
   "source": [
    "def log_missing():\n",
    "    print('Key added')\n",
    "    return 0\n",
    "current = {'green': 12, 'blue': 3}\n",
    "increments = [('red', 5), ('blue', 17), ('orange', 9)]\n",
    "result = defaultdict(log_missing, current)\n",
    "print(f'Before: {dict(result)}')\n",
    "for key, amount in increments:\n",
    "    result[key] = amount\n",
    "print(f'After: {dict(result)}')\n"
   ]
  },
  {
   "cell_type": "code",
   "execution_count": 26,
   "metadata": {},
   "outputs": [],
   "source": [
    "# 当需要统计键名缺失现象出现次数时， 考虑使用有状态闭包实现\n",
    "def increment_with_report(current, increments):\n",
    "    added_count = 0\n",
    "\n",
    "    def missing():\n",
    "        nonlocal added_count  # 有状态闭包\n",
    "        added_count += 1\n",
    "        return 0\n",
    "    result = defaultdict(missing, current)\n",
    "    for key, amount in increments:\n",
    "        result[key] += amount\n",
    "    return result, added_count"
   ]
  },
  {
   "cell_type": "code",
   "execution_count": 27,
   "metadata": {},
   "outputs": [],
   "source": [
    "# 使用结果\n",
    "result, count = increment_with_report(current, increments)\n",
    "assert count == 2"
   ]
  },
  {
   "cell_type": "code",
   "execution_count": 35,
   "metadata": {},
   "outputs": [
    {
     "name": "stdout",
     "output_type": "stream",
     "text": [
      "result=defaultdict(<bound method CountMissing.missing of <__main__.CountMissing object at 0x000001ADB8F43280>>, {'green': 12, 'blue': 3})\n",
      "red\n",
      "blue\n",
      "orange\n",
      "2\n",
      "After result=defaultdict(<bound method CountMissing.missing of <__main__.CountMissing object at 0x000001ADB8F43280>>, {'green': 12, 'blue': 20, 'red': 5, 'orange': 9})\n"
     ]
    }
   ],
   "source": [
    "# 为了让代码更清晰, 可以维护一个小类把闭包用到变量以类内实例变量封装起来\n",
    "class CountMissing:\n",
    "    def __init__(self) -> None:\n",
    "        self.added = 0\n",
    "    \n",
    "    def missing(self):\n",
    "        self.added += 1\n",
    "        return 0\n",
    "\n",
    "counter = CountMissing()\n",
    "result = defaultdict(counter.missing, current)\n",
    "print(f\"{result=}\")\n",
    "for key, amount in increments:\n",
    "    print(key)\n",
    "    result[key] += amount  # 注意 += 才会触发missing函数 因为有两步 1. 访问key 2.相加\n",
    "    # 与此对应, '='不会触发missing 因为直接赋值未产生访问不存在key的场景\n",
    "print(counter.added)\n",
    "print(f'After {result=}')\n",
    "assert counter.added == 2\n"
   ]
  },
  {
   "cell_type": "code",
   "execution_count": 36,
   "metadata": {},
   "outputs": [],
   "source": [
    "# 使用魔术方法中的\"__call__\"将类转化为可调用对象\n",
    "from typing import Any\n",
    "\n",
    "\n",
    "class BetterCountMissing:\n",
    "    def __init__(self) -> None:\n",
    "        self.added = 0\n",
    "\n",
    "    def __call__(self, *args: Any, **kwds: Any) -> Any:\n",
    "        self.added += 1\n",
    "        return 0\n",
    "    \n",
    "counter = BetterCountMissing()\n",
    "assert counter() == 0\n",
    "assert callable(counter)"
   ]
  },
  {
   "cell_type": "code",
   "execution_count": 37,
   "metadata": {},
   "outputs": [],
   "source": [
    "counter = BetterCountMissing()\n",
    "result = defaultdict(counter, current)"
   ]
  },
  {
   "cell_type": "code",
   "execution_count": 38,
   "metadata": {},
   "outputs": [
    {
     "name": "stdout",
     "output_type": "stream",
     "text": [
      "red\n",
      "blue\n",
      "orange\n"
     ]
    }
   ],
   "source": [
    "for key, amount in increments:\n",
    "    print(key)\n",
    "    result[key] += amount \n",
    "assert counter.added == 2"
   ]
  },
  {
   "cell_type": "markdown",
   "metadata": {},
   "source": [
    "1. 考虑让组件之间通过接口交互, 让接口接受挂钩函数, 不一定要定义新类\n",
    "2. python的函数和方法都是first class 可以像其他类一样用在表达式中\n",
    "3. '__call__'方法定义后相关实例就可以在调用时执行方法下的操作\n",
    "4. 可以考虑使用class + __call__维护状态, 毕竟闭包太抽象了。"
   ]
  },
  {
   "cell_type": "markdown",
   "metadata": {},
   "source": [
    "## 39. 通过@classmethod多态来构造同一体系的各类对象\n",
    "[多态]： 使同一体系的多个类可以按照各自独有的方式来实现同一个方法。"
   ]
  },
  {
   "cell_type": "code",
   "execution_count": 49,
   "metadata": {},
   "outputs": [],
   "source": [
    "# 进行一个MapReduce(映射->归纳/映射->化简)流程并以类表示输入数据时, 首先定义一个InputData类, 把read方法留给子类\n",
    "class InputData:\n",
    "    \"\"\"\n",
    "    输入数据的基类\n",
    "    \"\"\"\n",
    "    def read(self):\n",
    "        raise NotImplementedError\n",
    "    \n",
    "# 然后再编写具体的输入数据子类\n",
    "class PathInputData(InputData):\n",
    "    def __init__(self, path: str) -> None:\n",
    "        super().__init__()\n",
    "        self.path = path\n",
    "\n",
    "    def read(self):\n",
    "        with open(self.path) as f:\n",
    "            return f.read()\n",
    "        \n",
    "# 让处理文件的Worker也拥有一套标准接口\n",
    "# 定义Worker基类\n",
    "class Worker:\n",
    "    \"\"\"  \n",
    "    处理输入数据的Worker基类  \n",
    "\n",
    "    Args:  \n",
    "        input_data (InputData or its subclasses): 输入数据的实例, 应为InputData或其子类的实例  \n",
    "    \"\"\"  \n",
    "    def __init__(self, input_data: InputData) -> None:\n",
    "        self.input_data = input_data\n",
    "\n",
    "    def map(self):\n",
    "        raise NotImplementedError\n",
    "    \n",
    "    def reduce(self, other):\n",
    "        raise NotImplementedError\n",
    "    \n",
    "# 定义一种具体的worker子类\n",
    "class LineCountWorker(Worker):\n",
    "    def map(self):\n",
    "        data: str = self.input_data.read()\n",
    "        self.result = data.count('\\n')\n",
    "\n",
    "    def reduce(self, other):\n",
    "        self.result += other.result"
   ]
  },
  {
   "cell_type": "code",
   "execution_count": 52,
   "metadata": {},
   "outputs": [],
   "source": [
    "# 现在两个体系都抽象出来合理的接口，但必须落实到具体的对象上\n",
    "# 如何让使用辅助函数构造对象并编排MapReduce流程？\n",
    "# [x] 1. 手动构建对象并拼接\n",
    "import os\n",
    "\n",
    "\n",
    "def generate_inputs(data_dir):\n",
    "    \"\"\"\n",
    "    产生迭代器用以生成数据及其对应的class\n",
    "    \"\"\"\n",
    "    for name in os.listdir(data_dir):\n",
    "        yield PathInputData(os.path.join(data_dir, name))\n",
    "\n",
    "\n",
    "from typing import Generator\n",
    "\n",
    "\n",
    "def creat_workers(input_list: Generator):\n",
    "    \"\"\"\n",
    "    针对传入的实例创建对应的worker\n",
    "    \"\"\"\n",
    "    workers: list[LineCountWorker] = []\n",
    "    for input_data in input_list:\n",
    "        workers.append(LineCountWorker(input_data))\n",
    "    return workers\n",
    "\n",
    "\n",
    "# 将worker映射到每个线程中去\n",
    "from threading import Thread\n",
    "\n",
    "\n",
    "def execute(workers: list[LineCountWorker]):\n",
    "    \"\"\"\n",
    "    分线程计算换行, 最后进行reduce\n",
    "    \"\"\"\n",
    "    threads = [Thread(target=w.map) for w in workers]\n",
    "    for thread in threads:\n",
    "        thread.start()\n",
    "    for thread in threads:\n",
    "        thread.join()\n",
    "\n",
    "    first, *rest = workers\n",
    "    for worker in rest:\n",
    "        first.reduce(worker)\n",
    "    return first.result\n",
    "\n",
    "\n",
    "# 最后编写函数将上述三个过程连接\n",
    "def mapreduce(data_path):\n",
    "    inputs = generate_inputs(data_dir=data_path)\n",
    "    workers = creat_workers(inputs)\n",
    "    return execute(workers)"
   ]
  },
  {
   "cell_type": "code",
   "execution_count": null,
   "metadata": {},
   "outputs": [],
   "source": [
    "# 造一个用于统计的文件\n",
    "import random\n",
    "\n",
    "\n",
    "def write_test_files(out_path):\n",
    "    os.makedirs(out_path)\n",
    "    for i in range(100):\n",
    "        with open(os.path.join(out_path, str(i)), \"w\") as f:\n",
    "            f.write(\"\\n\" * random.randint(0, 100))\n",
    "\n",
    "write_test_files('./data/ch5_demo')"
   ]
  },
  {
   "cell_type": "code",
   "execution_count": 54,
   "metadata": {},
   "outputs": [
    {
     "name": "stdout",
     "output_type": "stream",
     "text": [
      "result =5050\n"
     ]
    }
   ],
   "source": [
    "result = mapreduce('./data/ch5_demo')\n",
    "print(f'{result =}')"
   ]
  },
  {
   "cell_type": "code",
   "execution_count": 58,
   "metadata": {},
   "outputs": [],
   "source": [
    "# 由于python的类只支持一个构造方法'__init__',所以最好使用类方法的多态来解决\n",
    "class GenericInputData:\n",
    "    \"\"\"\n",
    "    带工厂函数的数据基类\n",
    "    \"\"\"\n",
    "\n",
    "    def read(self):\n",
    "        raise NotImplementedError\n",
    "\n",
    "    @classmethod\n",
    "    def generate_inputs(cls, config):\n",
    "        raise NotImplementedError\n",
    "\n",
    "\n",
    "class PathInputData(GenericInputData):\n",
    "    def __init__(self, path: str) -> None:\n",
    "        super().__init__()\n",
    "        self.path = path\n",
    "\n",
    "    def read(self):\n",
    "        with open(self.path) as f:\n",
    "            return f.read()\n",
    "\n",
    "    @classmethod\n",
    "    def generate_inputs(cls, config):\n",
    "        data_dir = config[\"data_dir\"]\n",
    "        for name in os.listdir(data_dir):\n",
    "            yield cls(os.path.join(data_dir, name))"
   ]
  },
  {
   "cell_type": "code",
   "execution_count": 61,
   "metadata": {},
   "outputs": [],
   "source": [
    "# 对worker进行类似改写\n",
    "class GenericWorker:\n",
    "    def __init__(self, input_data: PathInputData) -> None:\n",
    "        self.input_data = input_data\n",
    "        self.result = None\n",
    "\n",
    "    def map(self):\n",
    "        raise NotImplementedError\n",
    "\n",
    "    def reduce(self, other):\n",
    "        raise NotImplementedError\n",
    "\n",
    "    @classmethod\n",
    "    def creat_workers(cls, input_class: PathInputData, config)-> list:\n",
    "        workers = []\n",
    "        for input_data in input_class.generate_inputs(config):\n",
    "            workers.append(cls(input_data))\n",
    "        return workers\n",
    "\n",
    "\n",
    "class LineCountWorker(GenericWorker):\n",
    "    def map(self):\n",
    "        data: str = self.input_data.read()\n",
    "        self.result = data.count(\"\\n\")\n",
    "\n",
    "    def reduce(self, other):\n",
    "        self.result += other.result"
   ]
  },
  {
   "cell_type": "code",
   "execution_count": 62,
   "metadata": {},
   "outputs": [
    {
     "name": "stdout",
     "output_type": "stream",
     "text": [
      "With Classmenthod result= 5050\n"
     ]
    }
   ],
   "source": [
    "def mapreduce_1(worker_class: LineCountWorker, input_class: PathInputData, config):\n",
    "    workers = worker_class.creat_workers(input_class, config)\n",
    "    return execute(workers=workers)\n",
    "\n",
    "config = {'data_dir': './data/ch5_demo'}\n",
    "result = mapreduce_1(LineCountWorker, PathInputData, config)\n",
    "print(f'With Classmenthod {result= }')"
   ]
  },
  {
   "cell_type": "code",
   "execution_count": null,
   "metadata": {},
   "outputs": [],
   "source": []
  }
 ],
 "metadata": {
  "kernelspec": {
   "display_name": ".venv",
   "language": "python",
   "name": "python3"
  },
  "language_info": {
   "codemirror_mode": {
    "name": "ipython",
    "version": 3
   },
   "file_extension": ".py",
   "mimetype": "text/x-python",
   "name": "python",
   "nbconvert_exporter": "python",
   "pygments_lexer": "ipython3",
   "version": "3.10.11"
  }
 },
 "nbformat": 4,
 "nbformat_minor": 2
}
