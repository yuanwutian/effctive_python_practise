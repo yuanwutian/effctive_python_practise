{
 "cells": [
  {
   "cell_type": "markdown",
   "id": "2350bcb75cccbaa",
   "metadata": {
    "collapsed": false
   },
   "source": [
    "# 27. 用列表推到取代map与filter"
   ]
  },
  {
   "cell_type": "code",
   "execution_count": 12,
   "id": "e1c0585982a14304",
   "metadata": {
    "ExecuteTime": {
     "end_time": "2023-09-04T14:45:18.194550600Z",
     "start_time": "2023-09-04T14:45:18.178551100Z"
    },
    "collapsed": false
   },
   "outputs": [],
   "source": [
    "# 使用map完成一个列表的平方\n",
    "a = range(0,10,1)\n",
    "squares_m = list(map(lambda x: x**2, a)) # map函数生成迭代器，需要使用list将其进行生成"
   ]
  },
  {
   "cell_type": "code",
   "execution_count": 13,
   "id": "f31b06a421e26bde",
   "metadata": {
    "ExecuteTime": {
     "end_time": "2023-09-04T14:45:18.727541100Z",
     "start_time": "2023-09-04T14:45:18.702542300Z"
    },
    "collapsed": false
   },
   "outputs": [
    {
     "name": "stdout",
     "output_type": "stream",
     "text": [
      "列表推导：[0, 1, 4, 9, 16, 25, 36, 49, 64, 81]\n",
      "map推导[0, 1, 4, 9, 16, 25, 36, 49, 64, 81]\n"
     ]
    }
   ],
   "source": [
    "squares_l = [x**2 for x in a]\n",
    "print(f'列表推导：{squares_l}\\n'\n",
    "      f'map推导{squares_m}')"
   ]
  },
  {
   "cell_type": "code",
   "execution_count": 14,
   "id": "20333e05384fea03",
   "metadata": {
    "ExecuteTime": {
     "end_time": "2023-09-04T14:45:19.557852100Z",
     "start_time": "2023-09-04T14:45:19.538851100Z"
    },
    "collapsed": false
   },
   "outputs": [
    {
     "data": {
      "text/plain": [
       "range(0, 10)"
      ]
     },
     "execution_count": 14,
     "metadata": {},
     "output_type": "execute_result"
    }
   ],
   "source": [
    "a"
   ]
  },
  {
   "cell_type": "code",
   "execution_count": 15,
   "id": "c8b1c39634deee1e",
   "metadata": {
    "ExecuteTime": {
     "end_time": "2023-09-04T14:46:45.722246700Z",
     "start_time": "2023-09-04T14:46:45.706598700Z"
    },
    "collapsed": false
   },
   "outputs": [
    {
     "data": {
      "text/plain": [
       "[0, 4, 16, 36, 64]"
      ]
     },
     "execution_count": 15,
     "metadata": {},
     "output_type": "execute_result"
    }
   ],
   "source": [
    "# 但是在进行条件筛选时列表更方便\n",
    "even_squares = [x**2 for x in a if x % 2 ==0]\n",
    "even_squares"
   ]
  },
  {
   "cell_type": "markdown",
   "id": "cd74703d387d65dc",
   "metadata": {
    "collapsed": false
   },
   "source": [
    "# 28. 控制推导逻辑的子表达式不要超过两个"
   ]
  },
  {
   "cell_type": "code",
   "execution_count": 1,
   "id": "c959d5b7171f4806",
   "metadata": {
    "ExecuteTime": {
     "end_time": "2023-09-04T14:50:23.122889600Z",
     "start_time": "2023-09-04T14:50:23.097824500Z"
    },
    "collapsed": false
   },
   "outputs": [
    {
     "data": {
      "text/plain": [
       "[1, 2, 3, 4, 5, 6, 7, 8, 9]"
      ]
     },
     "execution_count": 1,
     "metadata": {},
     "output_type": "execute_result"
    }
   ],
   "source": [
    "# 对维度不多的对象可以使用多阶推导进行拆分，但多过三个的对象还是使用for循环写\n",
    "matrix = [[1, 2, 3], [4, 5, 6], [7, 8, 9]]\n",
    "flat = [x for row in matrix for x in row]\n",
    "flat"
   ]
  },
  {
   "cell_type": "markdown",
   "id": "6a077f8a60772ef6",
   "metadata": {
    "collapsed": false
   },
   "source": [
    "# 29. 用赋值表达式消除推导中出现的重复代码"
   ]
  },
  {
   "cell_type": "code",
   "execution_count": 1,
   "id": "c355de376631c24c",
   "metadata": {
    "ExecuteTime": {
     "end_time": "2023-09-04T15:02:37.371256400Z",
     "start_time": "2023-09-04T15:02:37.359746400Z"
    },
    "collapsed": false
   },
   "outputs": [
    {
     "data": {
      "text/plain": [
       "{'screws': 4, 'wingnuts': 1}"
      ]
     },
     "execution_count": 1,
     "metadata": {},
     "output_type": "execute_result"
    }
   ],
   "source": [
    "stock = {'nails': 125,\n",
    "         'screws': 35,\n",
    "         'wingnuts': 8,\n",
    "         'washers': 24}\n",
    "order = ['screws', 'wingnuts', 'clips']\n",
    "def get_batches(count, size = 8):\n",
    "      return count // size\n",
    "found = { name: get_batches(stock.get(name, 0)) \n",
    "          for name in order if get_batches(stock.get(name, 0))}\n",
    "found"
   ]
  },
  {
   "cell_type": "code",
   "execution_count": 2,
   "id": "d18c0b22660b5ca2",
   "metadata": {
    "ExecuteTime": {
     "end_time": "2023-09-04T15:06:08.720601Z",
     "start_time": "2023-09-04T15:06:08.703601100Z"
    },
    "collapsed": false
   },
   "outputs": [
    {
     "data": {
      "text/plain": [
       "{'screws': 4, 'wingnuts': 1}"
      ]
     },
     "execution_count": 2,
     "metadata": {},
     "output_type": "execute_result"
    }
   ],
   "source": [
    "# 使用海豹表达式完成简化\n",
    "found = {name: batches for name in order\n",
    "         if (batches := get_batches(stock.get(name, 0)))}\n",
    "found"
   ]
  },
  {
   "cell_type": "code",
   "execution_count": 3,
   "id": "d626b5d172bf0003",
   "metadata": {
    "ExecuteTime": {
     "end_time": "2023-09-04T15:09:17.534116200Z",
     "start_time": "2023-09-04T15:09:17.487606100Z"
    },
    "collapsed": false
   },
   "outputs": [
    {
     "ename": "NameError",
     "evalue": "name 'tenth' is not defined",
     "output_type": "error",
     "traceback": [
      "\u001b[1;31m---------------------------------------------------------------------------\u001b[0m",
      "\u001b[1;31mNameError\u001b[0m                                 Traceback (most recent call last)",
      "Cell \u001b[1;32mIn[3], line 2\u001b[0m\n\u001b[0;32m      1\u001b[0m \u001b[38;5;66;03m# 推导顺序很重要，会从条件赋值表达式开始,下式则会报错\u001b[39;00m\n\u001b[1;32m----> 2\u001b[0m result \u001b[38;5;241m=\u001b[39m \u001b[43m{\u001b[49m\u001b[43mname\u001b[49m\u001b[43m:\u001b[49m\u001b[43m \u001b[49m\u001b[43m(\u001b[49m\u001b[43mtenth\u001b[49m\u001b[43m \u001b[49m\u001b[38;5;241;43m:=\u001b[39;49m\u001b[43m \u001b[49m\u001b[43mcount\u001b[49m\u001b[43m \u001b[49m\u001b[38;5;241;43m/\u001b[39;49m\u001b[38;5;241;43m/\u001b[39;49m\u001b[38;5;241;43m10\u001b[39;49m\u001b[43m)\u001b[49m\n\u001b[0;32m      3\u001b[0m \u001b[43m          \u001b[49m\u001b[38;5;28;43;01mfor\u001b[39;49;00m\u001b[43m \u001b[49m\u001b[43mname\u001b[49m\u001b[43m,\u001b[49m\u001b[43m \u001b[49m\u001b[43mcount\u001b[49m\u001b[43m \u001b[49m\u001b[38;5;129;43;01min\u001b[39;49;00m\u001b[43m \u001b[49m\u001b[43mstock\u001b[49m\u001b[38;5;241;43m.\u001b[39;49m\u001b[43mitems\u001b[49m\u001b[43m(\u001b[49m\u001b[43m)\u001b[49m\u001b[43m \u001b[49m\u001b[38;5;28;43;01mif\u001b[39;49;00m\u001b[43m \u001b[49m\u001b[43mtenth\u001b[49m\u001b[43m \u001b[49m\u001b[38;5;241;43m>\u001b[39;49m\u001b[38;5;241;43m0\u001b[39;49m\u001b[43m}\u001b[49m\n",
      "Cell \u001b[1;32mIn[3], line 3\u001b[0m, in \u001b[0;36m<dictcomp>\u001b[1;34m(.0)\u001b[0m\n\u001b[0;32m      1\u001b[0m \u001b[38;5;66;03m# 推导顺序很重要，会从条件赋值表达式开始,下式则会报错\u001b[39;00m\n\u001b[0;32m      2\u001b[0m result \u001b[38;5;241m=\u001b[39m {name: (tenth \u001b[38;5;241m:=\u001b[39m count \u001b[38;5;241m/\u001b[39m\u001b[38;5;241m/\u001b[39m\u001b[38;5;241m10\u001b[39m)\n\u001b[1;32m----> 3\u001b[0m           \u001b[38;5;28;01mfor\u001b[39;00m name, count \u001b[38;5;129;01min\u001b[39;00m stock\u001b[38;5;241m.\u001b[39mitems() \u001b[38;5;28;01mif\u001b[39;00m \u001b[43mtenth\u001b[49m \u001b[38;5;241m>\u001b[39m\u001b[38;5;241m0\u001b[39m}\n",
      "\u001b[1;31mNameError\u001b[0m: name 'tenth' is not defined"
     ]
    }
   ],
   "source": [
    "# 推导顺序很重要，会从条件赋值表达式开始,下式则会报错\n",
    "result = {name: (tenth := count //10)\n",
    "          for name, count in stock.items() if tenth >0}"
   ]
  },
  {
   "cell_type": "code",
   "execution_count": 4,
   "id": "e83dde605d469cb4",
   "metadata": {
    "ExecuteTime": {
     "end_time": "2023-09-04T15:11:05.555209600Z",
     "start_time": "2023-09-04T15:11:05.536209600Z"
    },
    "collapsed": false
   },
   "outputs": [],
   "source": [
    "# 做如下修改就可以正常运行\n",
    "result = {name: tenth\n",
    "          for name, count in stock.items() if (tenth := count //10) >0}"
   ]
  },
  {
   "cell_type": "code",
   "execution_count": 5,
   "id": "fa70e5228260ec07",
   "metadata": {
    "ExecuteTime": {
     "end_time": "2023-09-04T15:11:05.757598100Z",
     "start_time": "2023-09-04T15:11:05.743376200Z"
    },
    "collapsed": false
   },
   "outputs": [
    {
     "data": {
      "text/plain": [
       "{'nails': 12, 'screws': 3, 'washers': 2}"
      ]
     },
     "execution_count": 5,
     "metadata": {},
     "output_type": "execute_result"
    }
   ],
   "source": [
    "result"
   ]
  },
  {
   "cell_type": "code",
   "execution_count": 6,
   "id": "5ec4da09b819fa1d",
   "metadata": {
    "ExecuteTime": {
     "end_time": "2023-09-04T15:16:24.587102600Z",
     "start_time": "2023-09-04T15:16:24.560099800Z"
    },
    "collapsed": false
   },
   "outputs": [
    {
     "name": "stdout",
     "output_type": "stream",
     "text": [
      "last为最后一个值12, half列表为[62, 17, 4, 12]\n"
     ]
    }
   ],
   "source": [
    "# 如果使用了：=赋值，那么在推导中会产生变量泄露\n",
    "# 即最后一个循环的变量被赋给迭代工具变量（类似for循环）\n",
    "half = [(last:= count //2) for count in stock.values()]\n",
    "print(f'last为最后一个值{last}, half列表为{half}')"
   ]
  },
  {
   "cell_type": "code",
   "execution_count": 7,
   "id": "dce65c383f489bba",
   "metadata": {
    "ExecuteTime": {
     "end_time": "2023-09-04T15:25:02.844178100Z",
     "start_time": "2023-09-04T15:25:02.760129900Z"
    },
    "collapsed": false
   },
   "outputs": [
    {
     "name": "stdout",
     "output_type": "stream",
     "text": [
      "[62, 17, 4, 12]\n"
     ]
    },
    {
     "ename": "NameError",
     "evalue": "name 'count' is not defined",
     "output_type": "error",
     "traceback": [
      "\u001b[1;31m---------------------------------------------------------------------------\u001b[0m",
      "\u001b[1;31mNameError\u001b[0m                                 Traceback (most recent call last)",
      "Cell \u001b[1;32mIn[7], line 4\u001b[0m\n\u001b[0;32m      2\u001b[0m half \u001b[38;5;241m=\u001b[39m [count \u001b[38;5;241m/\u001b[39m\u001b[38;5;241m/\u001b[39m\u001b[38;5;241m2\u001b[39m \u001b[38;5;28;01mfor\u001b[39;00m count \u001b[38;5;129;01min\u001b[39;00m stock\u001b[38;5;241m.\u001b[39mvalues()]\n\u001b[0;32m      3\u001b[0m \u001b[38;5;28mprint\u001b[39m(half)\n\u001b[1;32m----> 4\u001b[0m \u001b[38;5;28mprint\u001b[39m(\u001b[43mcount\u001b[49m)\n",
      "\u001b[1;31mNameError\u001b[0m: name 'count' is not defined"
     ]
    }
   ],
   "source": [
    "# 如果在推导式中不使用海豹表达式赋值，那么不会产生变量溢出的问题\n",
    "half = [count //2 for count in stock.values()]\n",
    "print(half)\n",
    "print(count)"
   ]
  },
  {
   "cell_type": "markdown",
   "id": "cb963e17e3f57447",
   "metadata": {
    "collapsed": false
   },
   "source": [
    "## 30.不要让函数直接返回列表，应该让他逐渐生成列表的值"
   ]
  },
  {
   "cell_type": "code",
   "execution_count": 8,
   "id": "190cc156",
   "metadata": {},
   "outputs": [],
   "source": [
    "def index_words(text):\n",
    "    result = []\n",
    "    if text:\n",
    "        result.append(0)\n",
    "    for index, letter in enumerate(text):\n",
    "        if letter == ' ':\n",
    "            result.append(index + 1)\n",
    "    return result\n"
   ]
  },
  {
   "cell_type": "code",
   "execution_count": 9,
   "id": "94e85d43",
   "metadata": {},
   "outputs": [
    {
     "name": "stdout",
     "output_type": "stream",
     "text": [
      "[0, 5, 11, 15, 21, 27]\n"
     ]
    }
   ],
   "source": [
    "address = 'Four score and seven years ago...'\n",
    "result = index_words(address)\n",
    "print(result[:10])"
   ]
  },
  {
   "cell_type": "markdown",
   "id": "fbf26608",
   "metadata": {},
   "source": [
    "- 上述方法有两个缺点\n",
    "1. 代码杂乱没有突出重点的index,而是突出了append\n",
    "2. 既要存列表又要return"
   ]
  },
  {
   "cell_type": "code",
   "execution_count": 10,
   "id": "86c69786",
   "metadata": {},
   "outputs": [],
   "source": [
    "# 使用生成器的实现\n",
    "def index_words_iter(text):\n",
    "    if text:\n",
    "        yield 0\n",
    "    for index, letter in enumerate(text):\n",
    "        if letter == ' ':\n",
    "            yield index + 1"
   ]
  },
  {
   "cell_type": "code",
   "execution_count": 11,
   "id": "ed8c31be",
   "metadata": {},
   "outputs": [
    {
     "data": {
      "text/plain": [
       "[0, 5, 11, 15, 21, 27]"
      ]
     },
     "execution_count": 11,
     "metadata": {},
     "output_type": "execute_result"
    }
   ],
   "source": [
    "[index for index in index_words_iter(address)]"
   ]
  },
  {
   "cell_type": "code",
   "execution_count": 13,
   "id": "2d31fa58",
   "metadata": {},
   "outputs": [
    {
     "data": {
      "text/plain": [
       "[<generator object index_words_iter at 0x0000029D9ACA2180>]"
      ]
     },
     "execution_count": 13,
     "metadata": {},
     "output_type": "execute_result"
    }
   ],
   "source": [
    "[index_words_iter(address)]\n"
   ]
  },
  {
   "cell_type": "code",
   "execution_count": 14,
   "id": "145659d6",
   "metadata": {},
   "outputs": [],
   "source": [
    "it = index_words_iter(address)"
   ]
  },
  {
   "cell_type": "code",
   "execution_count": 15,
   "id": "66af0b53",
   "metadata": {},
   "outputs": [
    {
     "data": {
      "text/plain": [
       "<itertools.islice at 0x29d9ad23470>"
      ]
     },
     "execution_count": 15,
     "metadata": {},
     "output_type": "execute_result"
    }
   ],
   "source": [
    "# 使用itertools.islice只生成10次\n",
    "import itertools\n",
    "itertools.islice(it, 0, 10)"
   ]
  },
  {
   "cell_type": "code",
   "execution_count": 16,
   "id": "6ec4123e",
   "metadata": {},
   "outputs": [
    {
     "name": "stdout",
     "output_type": "stream",
     "text": [
      "[0, 5, 11, 15, 21, 27]\n"
     ]
    }
   ],
   "source": [
    "print(list(result))"
   ]
  },
  {
   "cell_type": "markdown",
   "id": "0b6e1fbc",
   "metadata": {},
   "source": [
    "## 31. 谨慎地迭代函数所收到的参数"
   ]
  },
  {
   "cell_type": "code",
   "execution_count": 18,
   "id": "2de0705a",
   "metadata": {},
   "outputs": [],
   "source": [
    "# 定义一个归一化函数\n",
    "def normalize(numbers: list[int]):\n",
    "    total = sum(numbers)\n",
    "    result = []\n",
    "    for value in numbers:\n",
    "        percent = 100 * value / total\n",
    "        result.append(percent)\n",
    "    return result"
   ]
  },
  {
   "cell_type": "code",
   "execution_count": 20,
   "id": "ee920c8b",
   "metadata": {},
   "outputs": [
    {
     "name": "stdout",
     "output_type": "stream",
     "text": [
      "[11.538461538461538, 26.923076923076923, 61.53846153846154]\n"
     ]
    }
   ],
   "source": [
    "vitits = [15, 35, 80]\n",
    "percentages = normalize(vitits)\n",
    "print(percentages)\n",
    "assert sum(percentages) == 100.0"
   ]
  },
  {
   "cell_type": "code",
   "execution_count": 22,
   "id": "248bdcd3",
   "metadata": {},
   "outputs": [],
   "source": [
    "# 生成器/迭代器只能产生一次结果，当嵌套使用时会产生无数据提供的现象。\n",
    "# 为避免此现象，嵌套时可以只传入生成器的生成函数，在主处理函数内部对生成函数进行实例化\n",
    "def normalize_func(get_iter):\n",
    "    total = sum(get_iter())\n",
    "    reslut = []\n",
    "    for value in get_iter():\n",
    "        percent = 100 * value / total\n",
    "        result.append(percent)\n",
    "    return result"
   ]
  },
  {
   "cell_type": "markdown",
   "id": "22745f50cec983a4",
   "metadata": {
    "collapsed": false
   },
   "source": [
    "# 30. 不要让函数直接返回列表，应该让其逐个生成列表里的值"
   ]
  },
  {
   "cell_type": "code",
   "execution_count": 3,
   "id": "7e7ccb9e171faa92",
   "metadata": {
    "ExecuteTime": {
     "end_time": "2023-10-06T13:10:34.249633200Z",
     "start_time": "2023-10-06T13:10:34.237780800Z"
    },
    "collapsed": false
   },
   "outputs": [],
   "source": [
    "# 此函数将一个字符串中各单词首字母在句子中处在的位置坐标\n",
    "def index_words(text: str):\n",
    "    result = []\n",
    "    if text:\n",
    "        result.append(0)\n",
    "    for index, letter in enumerate(text):\n",
    "        if letter == \" \" :\n",
    "            result.append(index+1)\n",
    "    return result"
   ]
  },
  {
   "cell_type": "code",
   "execution_count": 6,
   "id": "b08157c7d1a7260f",
   "metadata": {
    "ExecuteTime": {
     "end_time": "2023-10-06T13:11:50.608601800Z",
     "start_time": "2023-10-06T13:11:50.596576100Z"
    },
    "collapsed": false
   },
   "outputs": [
    {
     "name": "stdout",
     "output_type": "stream",
     "text": [
      "[0, 5, 11, 15, 21, 27]\n"
     ]
    }
   ],
   "source": [
    "address = 'Four score and seven years ago...'\n",
    "result = index_words(address)\n",
    "print(result[:10])"
   ]
  },
  {
   "cell_type": "code",
   "execution_count": 7,
   "id": "d5a660e7971752",
   "metadata": {
    "ExecuteTime": {
     "end_time": "2023-10-06T13:18:33.422075300Z",
     "start_time": "2023-10-06T13:18:33.390513800Z"
    },
    "collapsed": false
   },
   "outputs": [],
   "source": [
    "# 1. 使用上述代码会模糊重点内容（index+1）\n",
    "# 2. 函数直接返回列表会占用大量内存，且使用append操作过多\n",
    "def index_words(text: str):\n",
    "    if text:\n",
    "        yield 0\n",
    "    for index, letter in enumerate(text):\n",
    "        if letter == \" \" :\n",
    "            yield index + 1"
   ]
  },
  {
   "cell_type": "code",
   "execution_count": 9,
   "id": "4a962de3ebea99ad",
   "metadata": {
    "ExecuteTime": {
     "end_time": "2023-10-06T13:34:56.351645300Z",
     "start_time": "2023-10-06T13:34:56.332911800Z"
    },
    "collapsed": false
   },
   "outputs": [
    {
     "name": "stdout",
     "output_type": "stream",
     "text": [
      "0\n",
      "5\n"
     ]
    },
    {
     "data": {
      "text/plain": [
       "[11, 15, 21, 27]"
      ]
     },
     "execution_count": 9,
     "metadata": {},
     "output_type": "execute_result"
    }
   ],
   "source": [
    "it = index_words(address)\n",
    "print(next(it))\n",
    "print(next(it))\n",
    "# 如果对此函数仍想要列表，可以使用list对迭代器完成遍历\n",
    "list(it)"
   ]
  },
  {
   "cell_type": "code",
   "execution_count": 10,
   "id": "8c15ed46902e6576",
   "metadata": {
    "ExecuteTime": {
     "end_time": "2023-10-06T13:39:53.428199Z",
     "start_time": "2023-10-06T13:39:53.399395400Z"
    },
    "collapsed": false
   },
   "outputs": [],
   "source": [
    "def index_file(handle):\n",
    "    offset = 0\n",
    "    for line in handle:\n",
    "        if line:\n",
    "            yield offset\n",
    "        for letter in line:\n",
    "            offset += 1\n",
    "            if letter == \" \":\n",
    "                yield offset"
   ]
  },
  {
   "cell_type": "code",
   "execution_count": 11,
   "id": "c65b9803026e348",
   "metadata": {
    "ExecuteTime": {
     "end_time": "2023-10-06T13:46:06.085553700Z",
     "start_time": "2023-10-06T13:46:06.032311500Z"
    },
    "collapsed": false
   },
   "outputs": [
    {
     "name": "stdout",
     "output_type": "stream",
     "text": [
      "[0, 6, 12, 17, 20, 27]\n"
     ]
    }
   ],
   "source": [
    "import itertools\n",
    "with open('chapter4.txt', 'r') as f:\n",
    "    it = index_file(f)\n",
    "    result = itertools.islice(it, 0, 10)\n",
    "    print(list(result))"
   ]
  },
  {
   "cell_type": "markdown",
   "id": "f90debeaba8cae7d",
   "metadata": {
    "collapsed": false
   },
   "source": [
    "# 31. 谨慎地迭代函数所收到的参数"
   ]
  },
  {
   "cell_type": "code",
   "execution_count": 4,
   "id": "abdf95b65faa3374",
   "metadata": {
    "ExecuteTime": {
     "end_time": "2023-10-06T14:18:58.741982700Z",
     "start_time": "2023-10-06T14:18:58.712153300Z"
    },
    "collapsed": false
   },
   "outputs": [],
   "source": [
    "# 定义一个归一化函数，函数内先求游客总数，再计算各元素的占比\n",
    "def normalize(numbers):\n",
    "    total = sum(numbers)\n",
    "    result = []\n",
    "    for value in numbers:\n",
    "        percent = 100 * value / total\n",
    "        result.append(percent)\n",
    "    return result"
   ]
  },
  {
   "cell_type": "code",
   "execution_count": 5,
   "id": "4e3645af0a67e8fb",
   "metadata": {
    "ExecuteTime": {
     "end_time": "2023-10-06T14:20:22.639846200Z",
     "start_time": "2023-10-06T14:20:22.614795600Z"
    },
    "collapsed": false
   },
   "outputs": [],
   "source": [
    "visits = [15, 35, 80]\n",
    "percentages = normalize(visits)"
   ]
  },
  {
   "cell_type": "code",
   "execution_count": 6,
   "id": "a467588877173113",
   "metadata": {
    "ExecuteTime": {
     "end_time": "2023-10-06T14:20:28.632896Z",
     "start_time": "2023-10-06T14:20:28.599640300Z"
    },
    "collapsed": false
   },
   "outputs": [
    {
     "name": "stdout",
     "output_type": "stream",
     "text": [
      "[11.538461538461538, 26.923076923076923, 61.53846153846154]\n"
     ]
    }
   ],
   "source": [
    "print(percentages)"
   ]
  },
  {
   "cell_type": "code",
   "execution_count": 7,
   "id": "371204ecee511860",
   "metadata": {
    "ExecuteTime": {
     "end_time": "2023-10-06T14:24:28.046935300Z",
     "start_time": "2023-10-06T14:24:28.018335Z"
    },
    "collapsed": false
   },
   "outputs": [],
   "source": [
    "# 当数据规模更大时，考虑使用迭代器\n",
    "def read_visits(data_path):\n",
    "    with open(data_path) as f:\n",
    "        for line in f:\n",
    "            yield int(line)"
   ]
  },
  {
   "cell_type": "code",
   "execution_count": 8,
   "id": "d41e32d2694d6383",
   "metadata": {
    "ExecuteTime": {
     "end_time": "2023-10-06T14:26:10.762901300Z",
     "start_time": "2023-10-06T14:26:10.743854900Z"
    },
    "collapsed": false
   },
   "outputs": [
    {
     "name": "stdout",
     "output_type": "stream",
     "text": [
      "[]\n"
     ]
    }
   ],
   "source": [
    "it = read_visits('chapter4.txt')\n",
    "percentages = normalize(it)\n",
    "print(percentages)\n",
    "# 使用上述代码会导致出现空列表，因为normalize中的sum已经完成了对迭代器（read_visit)的迭代，后边的for循环就不再产生元素了"
   ]
  },
  {
   "cell_type": "code",
   "execution_count": 9,
   "id": "8bb55593be4bec66",
   "metadata": {
    "ExecuteTime": {
     "end_time": "2023-10-06T14:49:55.225771600Z",
     "start_time": "2023-10-06T14:49:55.193609100Z"
    },
    "collapsed": false
   },
   "outputs": [],
   "source": [
    "# 避免上述现象的一个方法是再normalize函数中执行一遍迭代器形成新的列表\n",
    "def normalize(numbers):\n",
    "    numbers_copy = list(numbers)\n",
    "    total = sum(numbers_copy)\n",
    "    result = []\n",
    "    for value in numbers_copy:\n",
    "        percent = 100 * value /total\n",
    "        result.append(percent)\n",
    "    return result"
   ]
  },
  {
   "cell_type": "code",
   "execution_count": 10,
   "id": "e433ef9977aa1b0e",
   "metadata": {
    "ExecuteTime": {
     "end_time": "2023-10-06T14:50:11.380523700Z",
     "start_time": "2023-10-06T14:50:11.350184300Z"
    },
    "collapsed": false
   },
   "outputs": [
    {
     "name": "stdout",
     "output_type": "stream",
     "text": [
      "[12.037037037037036, 13.88888888888889, 74.07407407407408]\n"
     ]
    }
   ],
   "source": [
    "it = read_visits('chapter4.txt')\n",
    "percentages = normalize(it)\n",
    "print(percentages)"
   ]
  },
  {
   "cell_type": "code",
   "execution_count": 11,
   "id": "6d4c91014d23f01f",
   "metadata": {
    "ExecuteTime": {
     "end_time": "2023-10-06T14:57:41.757578800Z",
     "start_time": "2023-10-06T14:57:41.706088600Z"
    },
    "collapsed": false
   },
   "outputs": [
    {
     "name": "stdout",
     "output_type": "stream",
     "text": [
      "[12.037037037037036, 13.88888888888889, 74.07407407407408]\n"
     ]
    }
   ],
   "source": [
    "# 但是此方法又出现了一个完整的list，与使用迭代器的初衷相违背\n",
    "# 使用中间函数在nor函数每次调用迭代器时都提供新的迭代器\n",
    "def normalize(get_iter):\n",
    "    total = sum(get_iter())\n",
    "    result = []\n",
    "    for value in get_iter():\n",
    "        percent = 100 * value /total\n",
    "        result.append(percent)\n",
    "    return result\n",
    "# 此时给normalize传参需要使用lambda表达式，使得函数内部每次‘()’都能生成新的迭代器\n",
    "percentages = normalize(lambda : read_visits('chapter4.txt'))\n",
    "print(percentages)"
   ]
  },
  {
   "cell_type": "markdown",
   "id": "d948f68dbf9d2e4e",
   "metadata": {
    "collapsed": false
   },
   "source": [
    "- 除了上述方法,还可以创建自定义容器完成如上需求"
   ]
  },
  {
   "cell_type": "code",
   "execution_count": 12,
   "id": "1b6fc84bcddf4ed6",
   "metadata": {
    "ExecuteTime": {
     "end_time": "2023-10-06T15:03:12.502435200Z",
     "start_time": "2023-10-06T15:03:12.488446800Z"
    },
    "collapsed": false
   },
   "outputs": [],
   "source": [
    "class ReadVisits:\n",
    "    def __init__(self, data_path):\n",
    "        self.data_path = data_path\n",
    "    def __iter__(self):  # 定义该容器的迭代器规则，从传入路径中读取每行的数据并取整后作为迭代元素\n",
    "        with open(self.data_path) as f:\n",
    "            for line in f:\n",
    "                yield int(line)\n",
    "# 上述函数使用最初的nor函数即可\n",
    "def normalize(numbers):\n",
    "    total = sum(numbers)  # 第一次触发‘__iter__‘函数分配一个迭代器\n",
    "    result = []\n",
    "    for value in numbers:  # 第二次触发‘__iter__‘函数分配另一个迭代器，多个迭代器间并不影响\n",
    "        percent = 100 * value / total\n",
    "        result.append(percent)\n",
    "    return result"
   ]
  },
  {
   "cell_type": "code",
   "execution_count": 13,
   "id": "f9bc8c159424b429",
   "metadata": {
    "ExecuteTime": {
     "end_time": "2023-10-06T15:03:12.764458500Z",
     "start_time": "2023-10-06T15:03:12.751923900Z"
    },
    "collapsed": false
   },
   "outputs": [
    {
     "name": "stdout",
     "output_type": "stream",
     "text": [
      "[12.037037037037036, 13.88888888888889, 74.07407407407408]\n"
     ]
    }
   ],
   "source": [
    "visits = ReadVisits('chapter4.txt')\n",
    "percentages = normalize(visits)\n",
    "print(percentages)"
   ]
  },
  {
   "cell_type": "code",
   "execution_count": 16,
   "id": "2cfe0a74d72f59aa",
   "metadata": {
    "ExecuteTime": {
     "end_time": "2023-10-06T15:09:57.130618700Z",
     "start_time": "2023-10-06T15:09:57.097575100Z"
    },
    "collapsed": false
   },
   "outputs": [],
   "source": [
    "# 可以添加类型判断避免普通迭代器传入nor函数\n",
    "def normalize_defensive(numbers):\n",
    "    if iter(numbers) is numbers:\n",
    "        raise TypeError('必须传入一个容器而不是普通迭代器')\n",
    "    total = sum(numbers)  # 第一次触发‘__iter__‘函数分配一个迭代器\n",
    "    result = []\n",
    "    for value in numbers:  # 第二次触发‘__iter__‘函数分配另一个迭代器，多个迭代器间并不影响\n",
    "        percent = 100 * value / total\n",
    "        result.append(percent)\n",
    "    return result"
   ]
  },
  {
   "cell_type": "code",
   "execution_count": 17,
   "id": "2e3b2316bc40853e",
   "metadata": {
    "ExecuteTime": {
     "end_time": "2023-10-06T15:11:16.831397400Z",
     "start_time": "2023-10-06T15:11:16.775361600Z"
    },
    "collapsed": false
   },
   "outputs": [
    {
     "ename": "TypeError",
     "evalue": "必须传入一个容器而不是普通迭代器",
     "output_type": "error",
     "traceback": [
      "\u001b[1;31m---------------------------------------------------------------------------\u001b[0m",
      "\u001b[1;31mTypeError\u001b[0m                                 Traceback (most recent call last)",
      "Cell \u001b[1;32mIn[17], line 1\u001b[0m\n\u001b[1;32m----> 1\u001b[0m \u001b[43mnormalize_defensive\u001b[49m\u001b[43m(\u001b[49m\u001b[38;5;28;43miter\u001b[39;49m\u001b[43m(\u001b[49m\u001b[43m[\u001b[49m\u001b[38;5;241;43m15\u001b[39;49m\u001b[43m,\u001b[49m\u001b[43m \u001b[49m\u001b[38;5;241;43m35\u001b[39;49m\u001b[43m,\u001b[49m\u001b[43m \u001b[49m\u001b[38;5;241;43m80\u001b[39;49m\u001b[43m]\u001b[49m\u001b[43m)\u001b[49m\u001b[43m)\u001b[49m\n",
      "Cell \u001b[1;32mIn[16], line 4\u001b[0m, in \u001b[0;36mnormalize_defensive\u001b[1;34m(numbers)\u001b[0m\n\u001b[0;32m      2\u001b[0m \u001b[38;5;28;01mdef\u001b[39;00m \u001b[38;5;21mnormalize_defensive\u001b[39m(numbers):\n\u001b[0;32m      3\u001b[0m     \u001b[38;5;28;01mif\u001b[39;00m \u001b[38;5;28miter\u001b[39m(numbers) \u001b[38;5;129;01mis\u001b[39;00m numbers:\n\u001b[1;32m----> 4\u001b[0m         \u001b[38;5;28;01mraise\u001b[39;00m \u001b[38;5;167;01mTypeError\u001b[39;00m(\u001b[38;5;124m'\u001b[39m\u001b[38;5;124m必须传入一个容器而不是普通迭代器\u001b[39m\u001b[38;5;124m'\u001b[39m)\n\u001b[0;32m      5\u001b[0m     total \u001b[38;5;241m=\u001b[39m \u001b[38;5;28msum\u001b[39m(numbers)  \u001b[38;5;66;03m# 第一次触发‘__iter__‘函数分配一个迭代器\u001b[39;00m\n\u001b[0;32m      6\u001b[0m     result \u001b[38;5;241m=\u001b[39m []\n",
      "\u001b[1;31mTypeError\u001b[0m: 必须传入一个容器而不是普通迭代器"
     ]
    }
   ],
   "source": [
    "normalize_defensive(iter([15, 35, 80]))"
   ]
  },
  {
   "cell_type": "code",
   "execution_count": 18,
   "id": "4b55e83ff253b77d",
   "metadata": {
    "ExecuteTime": {
     "end_time": "2023-10-06T15:11:39.462937600Z",
     "start_time": "2023-10-06T15:11:39.431107Z"
    },
    "collapsed": false
   },
   "outputs": [
    {
     "data": {
      "text/plain": [
       "[12.037037037037036, 13.88888888888889, 74.07407407407408]"
      ]
     },
     "execution_count": 18,
     "metadata": {},
     "output_type": "execute_result"
    }
   ],
   "source": [
    "normalize_defensive(visits)"
   ]
  },
  {
   "cell_type": "code",
   "execution_count": 19,
   "id": "7afe143411d44d56",
   "metadata": {
    "ExecuteTime": {
     "end_time": "2023-10-06T15:18:20.034394300Z",
     "start_time": "2023-10-06T15:18:20.014817700Z"
    },
    "collapsed": false
   },
   "outputs": [
    {
     "data": {
      "text/plain": [
       "__main__.ReadVisits"
      ]
     },
     "execution_count": 19,
     "metadata": {},
     "output_type": "execute_result"
    }
   ],
   "source": [
    "type(visits)"
   ]
  },
  {
   "cell_type": "code",
   "execution_count": 20,
   "id": "7c4a4292809e2441",
   "metadata": {
    "ExecuteTime": {
     "end_time": "2023-10-06T15:17:46.890045100Z",
     "start_time": "2023-10-06T15:17:46.871485400Z"
    },
    "collapsed": false
   },
   "outputs": [
    {
     "data": {
      "text/plain": [
       "<generator object ReadVisits.__iter__ at 0x0000019C9DC66650>"
      ]
     },
     "execution_count": 20,
     "metadata": {},
     "output_type": "execute_result"
    }
   ],
   "source": [
    "iter(visits)  # 返回自定义类型的迭代器"
   ]
  },
  {
   "cell_type": "code",
   "execution_count": 21,
   "id": "c0c3be1f7a4f5bdb",
   "metadata": {
    "ExecuteTime": {
     "end_time": "2023-10-06T15:17:34.669161900Z",
     "start_time": "2023-10-06T15:17:34.575347500Z"
    },
    "collapsed": false
   },
   "outputs": [
    {
     "data": {
      "text/plain": [
       "<list_iterator at 0x19c9c7c4340>"
      ]
     },
     "execution_count": 21,
     "metadata": {},
     "output_type": "execute_result"
    }
   ],
   "source": [
    "iter([0,1,2])"
   ]
  },
  {
   "cell_type": "code",
   "execution_count": 22,
   "id": "e7fad775",
   "metadata": {},
   "outputs": [
    {
     "ename": "NameError",
     "evalue": "name 'normalize_func' is not defined",
     "output_type": "error",
     "traceback": [
      "\u001b[1;31m---------------------------------------------------------------------------\u001b[0m",
      "\u001b[1;31mNameError\u001b[0m                                 Traceback (most recent call last)",
      "Cell \u001b[1;32mIn[22], line 7\u001b[0m\n\u001b[0;32m      5\u001b[0m             \u001b[38;5;28;01myield\u001b[39;00m \u001b[38;5;28mint\u001b[39m(line)\n\u001b[0;32m      6\u001b[0m path \u001b[38;5;241m=\u001b[39m \u001b[38;5;124mr\u001b[39m\u001b[38;5;124m'\u001b[39m\u001b[38;5;124m./address.txt\u001b[39m\u001b[38;5;124m'\u001b[39m\n\u001b[1;32m----> 7\u001b[0m \u001b[43mnormalize_func\u001b[49m(\u001b[38;5;28;01mlambda\u001b[39;00m: read_visits(path))\n",
      "\u001b[1;31mNameError\u001b[0m: name 'normalize_func' is not defined"
     ]
    }
   ],
   "source": [
    "# 使用上述函数时，需要传入lambda表达式，这样每次索要get_iter时才能给出一个新生成器\n",
    "def read_visits(path):\n",
    "    with open(path) as f:\n",
    "        for line in f:\n",
    "            yield int(line)\n",
    "path = r'./address.txt'\n",
    "normalize_func(lambda: read_visits(path))"
   ]
  },
  {
   "cell_type": "code",
   "execution_count": null,
   "id": "a1a29b8d",
   "metadata": {},
   "outputs": [],
   "source": [
    "# 可以使用类特性构建一个新容器处理此问题\n",
    "class ReadVisits:\n",
    "    def __init__(self, data_path: str) -> None:\n",
    "        self.data_path = data_path\n",
    "    \n",
    "    def __iter__(self):\n",
    "      with open(self.data_path) as f:\n",
    "         for line in f:\n",
    "            yield int(line)\n",
    "# 如上容器构建后，只需要把新容器传给normalize运行即可。\n",
    "visits = ReadVisits('./visit.txt')\n",
    "percentages = normalize(visits)\n",
    "# 在normalize中,sum方法先调用iter生成一次迭代器,之后的for循环还会触发一次\n",
    "# 在处理函数中显加入类型判断\n",
    "\n"
   ]
  },
  {
   "cell_type": "code",
   "execution_count": 25,
   "id": "013d5e33",
   "metadata": {},
   "outputs": [],
   "source": [
    "from collections.abc import Iterator\n",
    "\n",
    "def normalize_defensive(numbers: Iterator):\n",
    "   if isinstance(numbers, Iterator):\n",
    "      raise TypeError('Must supply a container')\n",
    "   total = sum(numbers)\n",
    "   result = []\n",
    "   for value in numbers:\n",
    "      percent = 100 * value / total\n",
    "      result.append(percent)\n",
    "   return result\n"
   ]
  },
  {
   "cell_type": "code",
   "execution_count": 27,
   "id": "e36815bf",
   "metadata": {},
   "outputs": [
    {
     "ename": "TypeError",
     "evalue": "Must supply a container",
     "output_type": "error",
     "traceback": [
      "\u001b[1;31m---------------------------------------------------------------------------\u001b[0m",
      "\u001b[1;31mTypeError\u001b[0m                                 Traceback (most recent call last)",
      "Cell \u001b[1;32mIn[27], line 6\u001b[0m\n\u001b[0;32m      4\u001b[0m \u001b[38;5;66;03m# 如果是普通迭代器会报错\u001b[39;00m\n\u001b[0;32m      5\u001b[0m visits \u001b[38;5;241m=\u001b[39m \u001b[38;5;28miter\u001b[39m([\u001b[38;5;241m15\u001b[39m, \u001b[38;5;241m35\u001b[39m, \u001b[38;5;241m80\u001b[39m])\n\u001b[1;32m----> 6\u001b[0m percentages \u001b[38;5;241m=\u001b[39m \u001b[43mnormalize_defensive\u001b[49m\u001b[43m(\u001b[49m\u001b[43mvisits\u001b[49m\u001b[43m)\u001b[49m\n\u001b[0;32m      7\u001b[0m \u001b[38;5;28;01massert\u001b[39;00m \u001b[38;5;28msum\u001b[39m(percentages) \u001b[38;5;241m==\u001b[39m \u001b[38;5;241m100.0\u001b[39m\n",
      "Cell \u001b[1;32mIn[25], line 5\u001b[0m, in \u001b[0;36mnormalize_defensive\u001b[1;34m(numbers)\u001b[0m\n\u001b[0;32m      3\u001b[0m \u001b[38;5;28;01mdef\u001b[39;00m \u001b[38;5;21mnormalize_defensive\u001b[39m(numbers: Iterator):\n\u001b[0;32m      4\u001b[0m    \u001b[38;5;28;01mif\u001b[39;00m \u001b[38;5;28misinstance\u001b[39m(numbers, Iterator):\n\u001b[1;32m----> 5\u001b[0m       \u001b[38;5;28;01mraise\u001b[39;00m \u001b[38;5;167;01mTypeError\u001b[39;00m(\u001b[38;5;124m'\u001b[39m\u001b[38;5;124mMust supply a container\u001b[39m\u001b[38;5;124m'\u001b[39m)\n\u001b[0;32m      6\u001b[0m    total \u001b[38;5;241m=\u001b[39m \u001b[38;5;28msum\u001b[39m(numbers)\n\u001b[0;32m      7\u001b[0m    result \u001b[38;5;241m=\u001b[39m []\n",
      "\u001b[1;31mTypeError\u001b[0m: Must supply a container"
     ]
    }
   ],
   "source": [
    "visits = [15, 35, 80]\n",
    "percentages = normalize_defensive(visits)\n",
    "assert sum(percentages) == 100.0\n",
    "# 如果是普通迭代器会报错\n",
    "visits = iter([15, 35, 80])\n",
    "percentages = normalize_defensive(visits)\n",
    "assert sum(percentages) == 100.0"
   ]
  },
  {
   "cell_type": "markdown",
   "id": "d18cb8ed",
   "metadata": {},
   "source": [
    "**Tips**\n",
    "- 函数和方法中如果要将一个参数迭代多次,需要注意迭代器状态\n",
    "- python的迭代器协议规定了容器和迭代器应该如何与iter\\next函数\\for循环及相关表达式交互\n",
    "- 要想让自定义类型容器可以跌打.只需要实现'__iter__'方法\n",
    "- 可以通过iter函数判断对象的小时否是普通迭代器,如果返回是本身则为普通迭代器"
   ]
  },
  {
   "cell_type": "markdown",
   "id": "4e4abf35",
   "metadata": {},
   "source": [
    "# 32. 考虑用生成器表达式改写数据量较大的列表推导"
   ]
  },
  {
   "cell_type": "code",
   "execution_count": 1,
   "id": "0ba5722a",
   "metadata": {},
   "outputs": [
    {
     "name": "stdout",
     "output_type": "stream",
     "text": [
      "[4, 3, 3, 2, 3, 3, 2, 3, 3, 2]\n"
     ]
    }
   ],
   "source": [
    "# 使用列表推导式的情况\n",
    "value = [len(x) for x in open('./data/my_file.txt')]\n",
    "print(value)"
   ]
  },
  {
   "cell_type": "code",
   "execution_count": 2,
   "id": "146be6c1",
   "metadata": {},
   "outputs": [
    {
     "name": "stdout",
     "output_type": "stream",
     "text": [
      "<generator object <genexpr> at 0x00000190B6435540>\n"
     ]
    }
   ],
   "source": [
    "# 如若数据很大,列表需要读取所有的数据再做处理,\n",
    "# 会导致内存被过分消耗, 尝试使用生成器改写\n",
    "it = (len(x) for x in open('./data/my_file.txt'))\n",
    "print(it)"
   ]
  },
  {
   "cell_type": "code",
   "execution_count": 3,
   "id": "08a89283",
   "metadata": {},
   "outputs": [
    {
     "data": {
      "text/plain": [
       "(4, 2.0)"
      ]
     },
     "execution_count": 3,
     "metadata": {},
     "output_type": "execute_result"
    }
   ],
   "source": [
    "# 生成器还可以实现嵌套\n",
    "roots = ((x, x**0.5) for x in it)\n",
    "next(roots)"
   ]
  },
  {
   "cell_type": "markdown",
   "id": "27cf2f5f",
   "metadata": {},
   "source": [
    "- 通过列表推导的在大数据时会占用很多内存\n",
    "- 生成器每次只计算一个数据\n",
    "- 生成器可以嵌套\n",
    "- 需要注意生成器的状态, 跑完一轮循环后就不能使用了"
   ]
  },
  {
   "cell_type": "markdown",
   "id": "664fe7d9",
   "metadata": {},
   "source": [
    "# 33. 尝试使用yield from将多个生成器链接"
   ]
  },
  {
   "cell_type": "code",
   "execution_count": 4,
   "id": "d1aceccf",
   "metadata": {},
   "outputs": [],
   "source": [
    "def move(period, speed):\n",
    "    for _ in range(period):\n",
    "        yield speed\n",
    "\n",
    "def pause(delay):\n",
    "    for _ in range(delay):\n",
    "        yield 0"
   ]
  },
  {
   "cell_type": "code",
   "execution_count": 5,
   "id": "571732a1",
   "metadata": {},
   "outputs": [],
   "source": [
    "def animate():\n",
    "    for delta in move(4, 5.0):\n",
    "        yield delta\n",
    "    for delta in pause(3):\n",
    "        yield delta\n",
    "    for delta in move(2, 3.0):\n",
    "        yield delta"
   ]
  },
  {
   "cell_type": "code",
   "execution_count": 6,
   "id": "bac45e44",
   "metadata": {},
   "outputs": [],
   "source": [
    "def render(delta):\n",
    "    print(f'Delta : {delta :.1f}')\n",
    "\n",
    "def run(func):\n",
    "    for delta in func():\n",
    "        render(delta)"
   ]
  },
  {
   "cell_type": "code",
   "execution_count": 8,
   "id": "85e63851",
   "metadata": {},
   "outputs": [
    {
     "name": "stdout",
     "output_type": "stream",
     "text": [
      "Delta : 5.0\n",
      "Delta : 5.0\n",
      "Delta : 5.0\n",
      "Delta : 5.0\n",
      "Delta : 0.0\n",
      "Delta : 0.0\n",
      "Delta : 0.0\n",
      "Delta : 3.0\n",
      "Delta : 3.0\n"
     ]
    }
   ],
   "source": [
    "run(animate)\n",
    "# 上文的写法嵌套了2层yield,并在run中执行了一次生成器"
   ]
  },
  {
   "cell_type": "code",
   "execution_count": 9,
   "id": "aca354da",
   "metadata": {},
   "outputs": [],
   "source": [
    "def animate_composed():\n",
    "    yield from move(4, 5.0)\n",
    "    yield from pause(3)\n",
    "    yield from move(2,7.3)"
   ]
  },
  {
   "cell_type": "code",
   "execution_count": 10,
   "id": "7087e952",
   "metadata": {},
   "outputs": [
    {
     "name": "stdout",
     "output_type": "stream",
     "text": [
      "Delta : 5.0\n",
      "Delta : 5.0\n",
      "Delta : 5.0\n",
      "Delta : 5.0\n",
      "Delta : 0.0\n",
      "Delta : 0.0\n",
      "Delta : 0.0\n",
      "Delta : 7.3\n",
      "Delta : 7.3\n"
     ]
    }
   ],
   "source": [
    "run(animate_composed)"
   ]
  },
  {
   "cell_type": "code",
   "execution_count": 11,
   "id": "fb9f14fc",
   "metadata": {},
   "outputs": [
    {
     "name": "stdout",
     "output_type": "stream",
     "text": [
      "Help on built-in module itertools:\n",
      "\n",
      "NAME\n",
      "    itertools - Functional tools for creating and using iterators.\n",
      "\n",
      "DESCRIPTION\n",
      "    Infinite iterators:\n",
      "    count(start=0, step=1) --> start, start+step, start+2*step, ...\n",
      "    cycle(p) --> p0, p1, ... plast, p0, p1, ...\n",
      "    repeat(elem [,n]) --> elem, elem, elem, ... endlessly or up to n times\n",
      "    \n",
      "    Iterators terminating on the shortest input sequence:\n",
      "    accumulate(p[, func]) --> p0, p0+p1, p0+p1+p2\n",
      "    chain(p, q, ...) --> p0, p1, ... plast, q0, q1, ...\n",
      "    chain.from_iterable([p, q, ...]) --> p0, p1, ... plast, q0, q1, ...\n",
      "    compress(data, selectors) --> (d[0] if s[0]), (d[1] if s[1]), ...\n",
      "    dropwhile(pred, seq) --> seq[n], seq[n+1], starting when pred fails\n",
      "    groupby(iterable[, keyfunc]) --> sub-iterators grouped by value of keyfunc(v)\n",
      "    filterfalse(pred, seq) --> elements of seq where pred(elem) is False\n",
      "    islice(seq, [start,] stop [, step]) --> elements from\n",
      "           seq[start:stop:step]\n",
      "    pairwise(s) --> (s[0],s[1]), (s[1],s[2]), (s[2], s[3]), ...\n",
      "    starmap(fun, seq) --> fun(*seq[0]), fun(*seq[1]), ...\n",
      "    tee(it, n=2) --> (it1, it2 , ... itn) splits one iterator into n\n",
      "    takewhile(pred, seq) --> seq[0], seq[1], until pred fails\n",
      "    zip_longest(p, q, ...) --> (p[0], q[0]), (p[1], q[1]), ...\n",
      "    \n",
      "    Combinatoric generators:\n",
      "    product(p, q, ... [repeat=1]) --> cartesian product\n",
      "    permutations(p[, r])\n",
      "    combinations(p, r)\n",
      "    combinations_with_replacement(p, r)\n",
      "\n",
      "CLASSES\n",
      "    builtins.object\n",
      "        accumulate\n",
      "        chain\n",
      "        combinations\n",
      "        combinations_with_replacement\n",
      "        compress\n",
      "        count\n",
      "        cycle\n",
      "        dropwhile\n",
      "        filterfalse\n",
      "        groupby\n",
      "        islice\n",
      "        pairwise\n",
      "        permutations\n",
      "        product\n",
      "        repeat\n",
      "        starmap\n",
      "        takewhile\n",
      "        zip_longest\n",
      "    \n",
      "    class accumulate(builtins.object)\n",
      "     |  accumulate(iterable, func=None, *, initial=None)\n",
      "     |  \n",
      "     |  Return series of accumulated sums (or other binary function results).\n",
      "     |  \n",
      "     |  Methods defined here:\n",
      "     |  \n",
      "     |  __getattribute__(self, name, /)\n",
      "     |      Return getattr(self, name).\n",
      "     |  \n",
      "     |  __iter__(self, /)\n",
      "     |      Implement iter(self).\n",
      "     |  \n",
      "     |  __next__(self, /)\n",
      "     |      Implement next(self).\n",
      "     |  \n",
      "     |  __reduce__(...)\n",
      "     |      Return state information for pickling.\n",
      "     |  \n",
      "     |  __setstate__(...)\n",
      "     |      Set state information for unpickling.\n",
      "     |  \n",
      "     |  ----------------------------------------------------------------------\n",
      "     |  Static methods defined here:\n",
      "     |  \n",
      "     |  __new__(*args, **kwargs) from builtins.type\n",
      "     |      Create and return a new object.  See help(type) for accurate signature.\n",
      "    \n",
      "    class chain(builtins.object)\n",
      "     |  chain(*iterables) --> chain object\n",
      "     |  \n",
      "     |  Return a chain object whose .__next__() method returns elements from the\n",
      "     |  first iterable until it is exhausted, then elements from the next\n",
      "     |  iterable, until all of the iterables are exhausted.\n",
      "     |  \n",
      "     |  Methods defined here:\n",
      "     |  \n",
      "     |  __getattribute__(self, name, /)\n",
      "     |      Return getattr(self, name).\n",
      "     |  \n",
      "     |  __iter__(self, /)\n",
      "     |      Implement iter(self).\n",
      "     |  \n",
      "     |  __next__(self, /)\n",
      "     |      Implement next(self).\n",
      "     |  \n",
      "     |  __reduce__(...)\n",
      "     |      Return state information for pickling.\n",
      "     |  \n",
      "     |  __setstate__(...)\n",
      "     |      Set state information for unpickling.\n",
      "     |  \n",
      "     |  ----------------------------------------------------------------------\n",
      "     |  Class methods defined here:\n",
      "     |  \n",
      "     |  __class_getitem__(...) from builtins.type\n",
      "     |      See PEP 585\n",
      "     |  \n",
      "     |  from_iterable(iterable, /) from builtins.type\n",
      "     |      Alternative chain() constructor taking a single iterable argument that evaluates lazily.\n",
      "     |  \n",
      "     |  ----------------------------------------------------------------------\n",
      "     |  Static methods defined here:\n",
      "     |  \n",
      "     |  __new__(*args, **kwargs) from builtins.type\n",
      "     |      Create and return a new object.  See help(type) for accurate signature.\n",
      "    \n",
      "    class combinations(builtins.object)\n",
      "     |  combinations(iterable, r)\n",
      "     |  \n",
      "     |  Return successive r-length combinations of elements in the iterable.\n",
      "     |  \n",
      "     |  combinations(range(4), 3) --> (0,1,2), (0,1,3), (0,2,3), (1,2,3)\n",
      "     |  \n",
      "     |  Methods defined here:\n",
      "     |  \n",
      "     |  __getattribute__(self, name, /)\n",
      "     |      Return getattr(self, name).\n",
      "     |  \n",
      "     |  __iter__(self, /)\n",
      "     |      Implement iter(self).\n",
      "     |  \n",
      "     |  __next__(self, /)\n",
      "     |      Implement next(self).\n",
      "     |  \n",
      "     |  __reduce__(...)\n",
      "     |      Return state information for pickling.\n",
      "     |  \n",
      "     |  __setstate__(...)\n",
      "     |      Set state information for unpickling.\n",
      "     |  \n",
      "     |  __sizeof__(...)\n",
      "     |      Returns size in memory, in bytes.\n",
      "     |  \n",
      "     |  ----------------------------------------------------------------------\n",
      "     |  Static methods defined here:\n",
      "     |  \n",
      "     |  __new__(*args, **kwargs) from builtins.type\n",
      "     |      Create and return a new object.  See help(type) for accurate signature.\n",
      "    \n",
      "    class combinations_with_replacement(builtins.object)\n",
      "     |  combinations_with_replacement(iterable, r)\n",
      "     |  \n",
      "     |  Return successive r-length combinations of elements in the iterable allowing individual elements to have successive repeats.\n",
      "     |  \n",
      "     |  combinations_with_replacement('ABC', 2) --> ('A','A'), ('A','B'), ('A','C'), ('B','B'), ('B','C'), ('C','C')\n",
      "     |  \n",
      "     |  Methods defined here:\n",
      "     |  \n",
      "     |  __getattribute__(self, name, /)\n",
      "     |      Return getattr(self, name).\n",
      "     |  \n",
      "     |  __iter__(self, /)\n",
      "     |      Implement iter(self).\n",
      "     |  \n",
      "     |  __next__(self, /)\n",
      "     |      Implement next(self).\n",
      "     |  \n",
      "     |  __reduce__(...)\n",
      "     |      Return state information for pickling.\n",
      "     |  \n",
      "     |  __setstate__(...)\n",
      "     |      Set state information for unpickling.\n",
      "     |  \n",
      "     |  __sizeof__(...)\n",
      "     |      Returns size in memory, in bytes.\n",
      "     |  \n",
      "     |  ----------------------------------------------------------------------\n",
      "     |  Static methods defined here:\n",
      "     |  \n",
      "     |  __new__(*args, **kwargs) from builtins.type\n",
      "     |      Create and return a new object.  See help(type) for accurate signature.\n",
      "    \n",
      "    class compress(builtins.object)\n",
      "     |  compress(data, selectors)\n",
      "     |  \n",
      "     |  Return data elements corresponding to true selector elements.\n",
      "     |  \n",
      "     |  Forms a shorter iterator from selected data elements using the selectors to\n",
      "     |  choose the data elements.\n",
      "     |  \n",
      "     |  Methods defined here:\n",
      "     |  \n",
      "     |  __getattribute__(self, name, /)\n",
      "     |      Return getattr(self, name).\n",
      "     |  \n",
      "     |  __iter__(self, /)\n",
      "     |      Implement iter(self).\n",
      "     |  \n",
      "     |  __next__(self, /)\n",
      "     |      Implement next(self).\n",
      "     |  \n",
      "     |  __reduce__(...)\n",
      "     |      Return state information for pickling.\n",
      "     |  \n",
      "     |  ----------------------------------------------------------------------\n",
      "     |  Static methods defined here:\n",
      "     |  \n",
      "     |  __new__(*args, **kwargs) from builtins.type\n",
      "     |      Create and return a new object.  See help(type) for accurate signature.\n",
      "    \n",
      "    class count(builtins.object)\n",
      "     |  count(start=0, step=1)\n",
      "     |  \n",
      "     |  Return a count object whose .__next__() method returns consecutive values.\n",
      "     |  \n",
      "     |  Equivalent to:\n",
      "     |      def count(firstval=0, step=1):\n",
      "     |          x = firstval\n",
      "     |          while 1:\n",
      "     |              yield x\n",
      "     |              x += step\n",
      "     |  \n",
      "     |  Methods defined here:\n",
      "     |  \n",
      "     |  __getattribute__(self, name, /)\n",
      "     |      Return getattr(self, name).\n",
      "     |  \n",
      "     |  __iter__(self, /)\n",
      "     |      Implement iter(self).\n",
      "     |  \n",
      "     |  __next__(self, /)\n",
      "     |      Implement next(self).\n",
      "     |  \n",
      "     |  __reduce__(...)\n",
      "     |      Return state information for pickling.\n",
      "     |  \n",
      "     |  __repr__(self, /)\n",
      "     |      Return repr(self).\n",
      "     |  \n",
      "     |  ----------------------------------------------------------------------\n",
      "     |  Static methods defined here:\n",
      "     |  \n",
      "     |  __new__(*args, **kwargs) from builtins.type\n",
      "     |      Create and return a new object.  See help(type) for accurate signature.\n",
      "    \n",
      "    class cycle(builtins.object)\n",
      "     |  cycle(iterable, /)\n",
      "     |  \n",
      "     |  Return elements from the iterable until it is exhausted. Then repeat the sequence indefinitely.\n",
      "     |  \n",
      "     |  Methods defined here:\n",
      "     |  \n",
      "     |  __getattribute__(self, name, /)\n",
      "     |      Return getattr(self, name).\n",
      "     |  \n",
      "     |  __iter__(self, /)\n",
      "     |      Implement iter(self).\n",
      "     |  \n",
      "     |  __next__(self, /)\n",
      "     |      Implement next(self).\n",
      "     |  \n",
      "     |  __reduce__(...)\n",
      "     |      Return state information for pickling.\n",
      "     |  \n",
      "     |  __setstate__(...)\n",
      "     |      Set state information for unpickling.\n",
      "     |  \n",
      "     |  ----------------------------------------------------------------------\n",
      "     |  Static methods defined here:\n",
      "     |  \n",
      "     |  __new__(*args, **kwargs) from builtins.type\n",
      "     |      Create and return a new object.  See help(type) for accurate signature.\n",
      "    \n",
      "    class dropwhile(builtins.object)\n",
      "     |  dropwhile(predicate, iterable, /)\n",
      "     |  \n",
      "     |  Drop items from the iterable while predicate(item) is true.\n",
      "     |  \n",
      "     |  Afterwards, return every element until the iterable is exhausted.\n",
      "     |  \n",
      "     |  Methods defined here:\n",
      "     |  \n",
      "     |  __getattribute__(self, name, /)\n",
      "     |      Return getattr(self, name).\n",
      "     |  \n",
      "     |  __iter__(self, /)\n",
      "     |      Implement iter(self).\n",
      "     |  \n",
      "     |  __next__(self, /)\n",
      "     |      Implement next(self).\n",
      "     |  \n",
      "     |  __reduce__(...)\n",
      "     |      Return state information for pickling.\n",
      "     |  \n",
      "     |  __setstate__(...)\n",
      "     |      Set state information for unpickling.\n",
      "     |  \n",
      "     |  ----------------------------------------------------------------------\n",
      "     |  Static methods defined here:\n",
      "     |  \n",
      "     |  __new__(*args, **kwargs) from builtins.type\n",
      "     |      Create and return a new object.  See help(type) for accurate signature.\n",
      "    \n",
      "    class filterfalse(builtins.object)\n",
      "     |  filterfalse(function, iterable, /)\n",
      "     |  \n",
      "     |  Return those items of iterable for which function(item) is false.\n",
      "     |  \n",
      "     |  If function is None, return the items that are false.\n",
      "     |  \n",
      "     |  Methods defined here:\n",
      "     |  \n",
      "     |  __getattribute__(self, name, /)\n",
      "     |      Return getattr(self, name).\n",
      "     |  \n",
      "     |  __iter__(self, /)\n",
      "     |      Implement iter(self).\n",
      "     |  \n",
      "     |  __next__(self, /)\n",
      "     |      Implement next(self).\n",
      "     |  \n",
      "     |  __reduce__(...)\n",
      "     |      Return state information for pickling.\n",
      "     |  \n",
      "     |  ----------------------------------------------------------------------\n",
      "     |  Static methods defined here:\n",
      "     |  \n",
      "     |  __new__(*args, **kwargs) from builtins.type\n",
      "     |      Create and return a new object.  See help(type) for accurate signature.\n",
      "    \n",
      "    class groupby(builtins.object)\n",
      "     |  groupby(iterable, key=None)\n",
      "     |  \n",
      "     |  make an iterator that returns consecutive keys and groups from the iterable\n",
      "     |  \n",
      "     |  iterable\n",
      "     |    Elements to divide into groups according to the key function.\n",
      "     |  key\n",
      "     |    A function for computing the group category for each element.\n",
      "     |    If the key function is not specified or is None, the element itself\n",
      "     |    is used for grouping.\n",
      "     |  \n",
      "     |  Methods defined here:\n",
      "     |  \n",
      "     |  __getattribute__(self, name, /)\n",
      "     |      Return getattr(self, name).\n",
      "     |  \n",
      "     |  __iter__(self, /)\n",
      "     |      Implement iter(self).\n",
      "     |  \n",
      "     |  __next__(self, /)\n",
      "     |      Implement next(self).\n",
      "     |  \n",
      "     |  __reduce__(...)\n",
      "     |      Return state information for pickling.\n",
      "     |  \n",
      "     |  __setstate__(...)\n",
      "     |      Set state information for unpickling.\n",
      "     |  \n",
      "     |  ----------------------------------------------------------------------\n",
      "     |  Static methods defined here:\n",
      "     |  \n",
      "     |  __new__(*args, **kwargs) from builtins.type\n",
      "     |      Create and return a new object.  See help(type) for accurate signature.\n",
      "    \n",
      "    class islice(builtins.object)\n",
      "     |  islice(iterable, stop) --> islice object\n",
      "     |  islice(iterable, start, stop[, step]) --> islice object\n",
      "     |  \n",
      "     |  Return an iterator whose next() method returns selected values from an\n",
      "     |  iterable.  If start is specified, will skip all preceding elements;\n",
      "     |  otherwise, start defaults to zero.  Step defaults to one.  If\n",
      "     |  specified as another value, step determines how many values are\n",
      "     |  skipped between successive calls.  Works like a slice() on a list\n",
      "     |  but returns an iterator.\n",
      "     |  \n",
      "     |  Methods defined here:\n",
      "     |  \n",
      "     |  __getattribute__(self, name, /)\n",
      "     |      Return getattr(self, name).\n",
      "     |  \n",
      "     |  __iter__(self, /)\n",
      "     |      Implement iter(self).\n",
      "     |  \n",
      "     |  __next__(self, /)\n",
      "     |      Implement next(self).\n",
      "     |  \n",
      "     |  __reduce__(...)\n",
      "     |      Return state information for pickling.\n",
      "     |  \n",
      "     |  __setstate__(...)\n",
      "     |      Set state information for unpickling.\n",
      "     |  \n",
      "     |  ----------------------------------------------------------------------\n",
      "     |  Static methods defined here:\n",
      "     |  \n",
      "     |  __new__(*args, **kwargs) from builtins.type\n",
      "     |      Create and return a new object.  See help(type) for accurate signature.\n",
      "    \n",
      "    class pairwise(builtins.object)\n",
      "     |  pairwise(iterable, /)\n",
      "     |  \n",
      "     |  Return an iterator of overlapping pairs taken from the input iterator.\n",
      "     |  \n",
      "     |  s -> (s0,s1), (s1,s2), (s2, s3), ...\n",
      "     |  \n",
      "     |  Methods defined here:\n",
      "     |  \n",
      "     |  __getattribute__(self, name, /)\n",
      "     |      Return getattr(self, name).\n",
      "     |  \n",
      "     |  __iter__(self, /)\n",
      "     |      Implement iter(self).\n",
      "     |  \n",
      "     |  __next__(self, /)\n",
      "     |      Implement next(self).\n",
      "     |  \n",
      "     |  ----------------------------------------------------------------------\n",
      "     |  Static methods defined here:\n",
      "     |  \n",
      "     |  __new__(*args, **kwargs) from builtins.type\n",
      "     |      Create and return a new object.  See help(type) for accurate signature.\n",
      "    \n",
      "    class permutations(builtins.object)\n",
      "     |  permutations(iterable, r=None)\n",
      "     |  \n",
      "     |  Return successive r-length permutations of elements in the iterable.\n",
      "     |  \n",
      "     |  permutations(range(3), 2) --> (0,1), (0,2), (1,0), (1,2), (2,0), (2,1)\n",
      "     |  \n",
      "     |  Methods defined here:\n",
      "     |  \n",
      "     |  __getattribute__(self, name, /)\n",
      "     |      Return getattr(self, name).\n",
      "     |  \n",
      "     |  __iter__(self, /)\n",
      "     |      Implement iter(self).\n",
      "     |  \n",
      "     |  __next__(self, /)\n",
      "     |      Implement next(self).\n",
      "     |  \n",
      "     |  __reduce__(...)\n",
      "     |      Return state information for pickling.\n",
      "     |  \n",
      "     |  __setstate__(...)\n",
      "     |      Set state information for unpickling.\n",
      "     |  \n",
      "     |  __sizeof__(...)\n",
      "     |      Returns size in memory, in bytes.\n",
      "     |  \n",
      "     |  ----------------------------------------------------------------------\n",
      "     |  Static methods defined here:\n",
      "     |  \n",
      "     |  __new__(*args, **kwargs) from builtins.type\n",
      "     |      Create and return a new object.  See help(type) for accurate signature.\n",
      "    \n",
      "    class product(builtins.object)\n",
      "     |  product(*iterables, repeat=1) --> product object\n",
      "     |  \n",
      "     |  Cartesian product of input iterables.  Equivalent to nested for-loops.\n",
      "     |  \n",
      "     |  For example, product(A, B) returns the same as:  ((x,y) for x in A for y in B).\n",
      "     |  The leftmost iterators are in the outermost for-loop, so the output tuples\n",
      "     |  cycle in a manner similar to an odometer (with the rightmost element changing\n",
      "     |  on every iteration).\n",
      "     |  \n",
      "     |  To compute the product of an iterable with itself, specify the number\n",
      "     |  of repetitions with the optional repeat keyword argument. For example,\n",
      "     |  product(A, repeat=4) means the same as product(A, A, A, A).\n",
      "     |  \n",
      "     |  product('ab', range(3)) --> ('a',0) ('a',1) ('a',2) ('b',0) ('b',1) ('b',2)\n",
      "     |  product((0,1), (0,1), (0,1)) --> (0,0,0) (0,0,1) (0,1,0) (0,1,1) (1,0,0) ...\n",
      "     |  \n",
      "     |  Methods defined here:\n",
      "     |  \n",
      "     |  __getattribute__(self, name, /)\n",
      "     |      Return getattr(self, name).\n",
      "     |  \n",
      "     |  __iter__(self, /)\n",
      "     |      Implement iter(self).\n",
      "     |  \n",
      "     |  __next__(self, /)\n",
      "     |      Implement next(self).\n",
      "     |  \n",
      "     |  __reduce__(...)\n",
      "     |      Return state information for pickling.\n",
      "     |  \n",
      "     |  __setstate__(...)\n",
      "     |      Set state information for unpickling.\n",
      "     |  \n",
      "     |  __sizeof__(...)\n",
      "     |      Returns size in memory, in bytes.\n",
      "     |  \n",
      "     |  ----------------------------------------------------------------------\n",
      "     |  Static methods defined here:\n",
      "     |  \n",
      "     |  __new__(*args, **kwargs) from builtins.type\n",
      "     |      Create and return a new object.  See help(type) for accurate signature.\n",
      "    \n",
      "    class repeat(builtins.object)\n",
      "     |  repeat(object [,times]) -> create an iterator which returns the object\n",
      "     |  for the specified number of times.  If not specified, returns the object\n",
      "     |  endlessly.\n",
      "     |  \n",
      "     |  Methods defined here:\n",
      "     |  \n",
      "     |  __getattribute__(self, name, /)\n",
      "     |      Return getattr(self, name).\n",
      "     |  \n",
      "     |  __iter__(self, /)\n",
      "     |      Implement iter(self).\n",
      "     |  \n",
      "     |  __length_hint__(...)\n",
      "     |      Private method returning an estimate of len(list(it)).\n",
      "     |  \n",
      "     |  __next__(self, /)\n",
      "     |      Implement next(self).\n",
      "     |  \n",
      "     |  __reduce__(...)\n",
      "     |      Return state information for pickling.\n",
      "     |  \n",
      "     |  __repr__(self, /)\n",
      "     |      Return repr(self).\n",
      "     |  \n",
      "     |  ----------------------------------------------------------------------\n",
      "     |  Static methods defined here:\n",
      "     |  \n",
      "     |  __new__(*args, **kwargs) from builtins.type\n",
      "     |      Create and return a new object.  See help(type) for accurate signature.\n",
      "    \n",
      "    class starmap(builtins.object)\n",
      "     |  starmap(function, iterable, /)\n",
      "     |  \n",
      "     |  Return an iterator whose values are returned from the function evaluated with an argument tuple taken from the given sequence.\n",
      "     |  \n",
      "     |  Methods defined here:\n",
      "     |  \n",
      "     |  __getattribute__(self, name, /)\n",
      "     |      Return getattr(self, name).\n",
      "     |  \n",
      "     |  __iter__(self, /)\n",
      "     |      Implement iter(self).\n",
      "     |  \n",
      "     |  __next__(self, /)\n",
      "     |      Implement next(self).\n",
      "     |  \n",
      "     |  __reduce__(...)\n",
      "     |      Return state information for pickling.\n",
      "     |  \n",
      "     |  ----------------------------------------------------------------------\n",
      "     |  Static methods defined here:\n",
      "     |  \n",
      "     |  __new__(*args, **kwargs) from builtins.type\n",
      "     |      Create and return a new object.  See help(type) for accurate signature.\n",
      "    \n",
      "    class takewhile(builtins.object)\n",
      "     |  takewhile(predicate, iterable, /)\n",
      "     |  \n",
      "     |  Return successive entries from an iterable as long as the predicate evaluates to true for each entry.\n",
      "     |  \n",
      "     |  Methods defined here:\n",
      "     |  \n",
      "     |  __getattribute__(self, name, /)\n",
      "     |      Return getattr(self, name).\n",
      "     |  \n",
      "     |  __iter__(self, /)\n",
      "     |      Implement iter(self).\n",
      "     |  \n",
      "     |  __next__(self, /)\n",
      "     |      Implement next(self).\n",
      "     |  \n",
      "     |  __reduce__(...)\n",
      "     |      Return state information for pickling.\n",
      "     |  \n",
      "     |  __setstate__(...)\n",
      "     |      Set state information for unpickling.\n",
      "     |  \n",
      "     |  ----------------------------------------------------------------------\n",
      "     |  Static methods defined here:\n",
      "     |  \n",
      "     |  __new__(*args, **kwargs) from builtins.type\n",
      "     |      Create and return a new object.  See help(type) for accurate signature.\n",
      "    \n",
      "    class zip_longest(builtins.object)\n",
      "     |  zip_longest(iter1 [,iter2 [...]], [fillvalue=None]) --> zip_longest object\n",
      "     |  \n",
      "     |  Return a zip_longest object whose .__next__() method returns a tuple where\n",
      "     |  the i-th element comes from the i-th iterable argument.  The .__next__()\n",
      "     |  method continues until the longest iterable in the argument sequence\n",
      "     |  is exhausted and then it raises StopIteration.  When the shorter iterables\n",
      "     |  are exhausted, the fillvalue is substituted in their place.  The fillvalue\n",
      "     |  defaults to None or can be specified by a keyword argument.\n",
      "     |  \n",
      "     |  Methods defined here:\n",
      "     |  \n",
      "     |  __getattribute__(self, name, /)\n",
      "     |      Return getattr(self, name).\n",
      "     |  \n",
      "     |  __iter__(self, /)\n",
      "     |      Implement iter(self).\n",
      "     |  \n",
      "     |  __next__(self, /)\n",
      "     |      Implement next(self).\n",
      "     |  \n",
      "     |  __reduce__(...)\n",
      "     |      Return state information for pickling.\n",
      "     |  \n",
      "     |  __setstate__(...)\n",
      "     |      Set state information for unpickling.\n",
      "     |  \n",
      "     |  ----------------------------------------------------------------------\n",
      "     |  Static methods defined here:\n",
      "     |  \n",
      "     |  __new__(*args, **kwargs) from builtins.type\n",
      "     |      Create and return a new object.  See help(type) for accurate signature.\n",
      "\n",
      "FUNCTIONS\n",
      "    tee(iterable, n=2, /)\n",
      "        Returns a tuple of n independent iterators.\n",
      "\n",
      "FILE\n",
      "    (built-in)\n",
      "\n",
      "\n"
     ]
    }
   ],
   "source": [
    "import itertools\n",
    "help(itertools)"
   ]
  },
  {
   "cell_type": "markdown",
   "id": "892443ed",
   "metadata": {},
   "source": [
    "# 36. 考虑用itertools拼装迭代器与生成器"
   ]
  },
  {
   "cell_type": "code",
   "execution_count": 13,
   "id": "b1300d04",
   "metadata": {},
   "outputs": [
    {
     "name": "stdout",
     "output_type": "stream",
     "text": [
      "[1, 2, 3, 4, 5, 6]\n"
     ]
    }
   ],
   "source": [
    "# 链接多个迭代器\n",
    "# chain, 用于拼接多个迭代器\n",
    "it = itertools.chain([1, 2, 3], [4, 5, 6])\n",
    "print(list(it))"
   ]
  },
  {
   "cell_type": "code",
   "execution_count": 15,
   "id": "15cc7ec6",
   "metadata": {},
   "outputs": [
    {
     "name": "stdout",
     "output_type": "stream",
     "text": [
      "[[1, 2], [1, 2], [1, 2]]\n",
      "['here', 'here', 'here']\n"
     ]
    }
   ],
   "source": [
    "\n",
    "# repeat, 用于将一个迭代器重复输出\n",
    "it = itertools.repeat([1,2], 3)\n",
    "print(list(it))\n",
    "it = itertools.repeat('here', 3)\n",
    "print(list(it))"
   ]
  },
  {
   "cell_type": "code",
   "execution_count": 16,
   "id": "91127b9e",
   "metadata": {},
   "outputs": [
    {
     "name": "stdout",
     "output_type": "stream",
     "text": [
      "[1, 2, 1, 2, 1, 2, 1, 2, 1, 2]\n"
     ]
    }
   ],
   "source": [
    "# cycle, 用于循环地输出某段内容之中的各项元素\n",
    "it = itertools.cycle([1, 2])\n",
    "result = [next(it) for _ in range(10)]# 10代表总数,而不是循环次数\n",
    "print(result)"
   ]
  },
  {
   "cell_type": "code",
   "execution_count": 18,
   "id": "2cdc5c1e",
   "metadata": {},
   "outputs": [
    {
     "name": "stdout",
     "output_type": "stream",
     "text": [
      "zip_longest:  [('one', 1), ('two', 2), ('three', '555')]\n"
     ]
    }
   ],
   "source": [
    "# zip_longest, 用于迭带多个迭代器, 迭代次数取最长的,以指定值对其进行填充\n",
    "keys = ['one', 'two', 'three']\n",
    "values = [1, 2]\n",
    "it = itertools.zip_longest(keys, values, fillvalue='555')\n",
    "longest = list(it)\n",
    "print('zip_longest: ', longest)"
   ]
  },
  {
   "cell_type": "code",
   "execution_count": 19,
   "id": "d0960f90",
   "metadata": {},
   "outputs": [],
   "source": [
    "# 过滤迭代器中的元素\n",
    "# islice, 按照下表对迭代器进行切片\n",
    "# takewhile 一直返回结果为true的元素, 直到第一个为false的元素\n",
    "# dropwhile 反向, 会从第一个true开始返回,直到末尾"
   ]
  },
  {
   "cell_type": "code",
   "execution_count": null,
   "id": "99d1b606",
   "metadata": {},
   "outputs": [],
   "source": []
  }
 ],
 "metadata": {
  "kernelspec": {
   "display_name": ".venv",
   "language": "python",
   "name": "python3"
  },
  "language_info": {
   "codemirror_mode": {
    "name": "ipython",
    "version": 3
   },
   "file_extension": ".py",
   "mimetype": "text/x-python",
   "name": "python",
   "nbconvert_exporter": "python",
   "pygments_lexer": "ipython3",
   "version": "3.10.4"
  }
 },
 "nbformat": 4,
 "nbformat_minor": 5
}
