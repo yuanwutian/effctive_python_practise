{
 "cells": [
  {
   "cell_type": "markdown",
   "source": [
    "# 27. 用列表推到取代map与filter"
   ],
   "metadata": {
    "collapsed": false
   },
   "id": "2350bcb75cccbaa"
  },
  {
   "cell_type": "code",
   "execution_count": 12,
   "outputs": [],
   "source": [
    "# 使用map完成一个列表的平方\n",
    "a = range(0,10,1)\n",
    "squares_m = list(map(lambda x: x**2, a)) # map函数生成迭代器，需要使用list将其进行生成"
   ],
   "metadata": {
    "collapsed": false,
    "ExecuteTime": {
     "end_time": "2023-09-04T14:45:18.194550600Z",
     "start_time": "2023-09-04T14:45:18.178551100Z"
    }
   },
   "id": "e1c0585982a14304"
  },
  {
   "cell_type": "code",
   "execution_count": 13,
   "outputs": [
    {
     "name": "stdout",
     "output_type": "stream",
     "text": [
      "列表推导：[0, 1, 4, 9, 16, 25, 36, 49, 64, 81]\n",
      "map推导[0, 1, 4, 9, 16, 25, 36, 49, 64, 81]\n"
     ]
    }
   ],
   "source": [
    "squares_l = [x**2 for x in a]\n",
    "print(f'列表推导：{squares_l}\\n'\n",
    "      f'map推导{squares_m}')"
   ],
   "metadata": {
    "collapsed": false,
    "ExecuteTime": {
     "end_time": "2023-09-04T14:45:18.727541100Z",
     "start_time": "2023-09-04T14:45:18.702542300Z"
    }
   },
   "id": "f31b06a421e26bde"
  },
  {
   "cell_type": "code",
   "execution_count": 14,
   "outputs": [
    {
     "data": {
      "text/plain": "range(0, 10)"
     },
     "execution_count": 14,
     "metadata": {},
     "output_type": "execute_result"
    }
   ],
   "source": [
    "a"
   ],
   "metadata": {
    "collapsed": false,
    "ExecuteTime": {
     "end_time": "2023-09-04T14:45:19.557852100Z",
     "start_time": "2023-09-04T14:45:19.538851100Z"
    }
   },
   "id": "20333e05384fea03"
  },
  {
   "cell_type": "code",
   "execution_count": 15,
   "outputs": [
    {
     "data": {
      "text/plain": "[0, 4, 16, 36, 64]"
     },
     "execution_count": 15,
     "metadata": {},
     "output_type": "execute_result"
    }
   ],
   "source": [
    "# 但是在进行条件筛选时列表更方便\n",
    "even_squares = [x**2 for x in a if x % 2 ==0]\n",
    "even_squares"
   ],
   "metadata": {
    "collapsed": false,
    "ExecuteTime": {
     "end_time": "2023-09-04T14:46:45.722246700Z",
     "start_time": "2023-09-04T14:46:45.706598700Z"
    }
   },
   "id": "c8b1c39634deee1e"
  },
  {
   "cell_type": "markdown",
   "source": [
    "# 28. 控制推导逻辑的子表达式不要超过两个"
   ],
   "metadata": {
    "collapsed": false
   },
   "id": "cd74703d387d65dc"
  },
  {
   "cell_type": "code",
   "execution_count": 16,
   "outputs": [
    {
     "data": {
      "text/plain": "[1, 2, 3, 4, 5, 6, 7, 8, 9]"
     },
     "execution_count": 16,
     "metadata": {},
     "output_type": "execute_result"
    }
   ],
   "source": [
    "# 对维度不多的对象可以使用多阶推导进行拆分，但多过三个的对象还是使用for循环写\n",
    "matrix = [[1, 2, 3], [4, 5, 6], [7, 8, 9]]\n",
    "flat = [x for row in matrix for x in row]\n",
    "flat"
   ],
   "metadata": {
    "collapsed": false,
    "ExecuteTime": {
     "end_time": "2023-09-04T14:50:23.122889600Z",
     "start_time": "2023-09-04T14:50:23.097824500Z"
    }
   },
   "id": "c959d5b7171f4806"
  },
  {
   "cell_type": "markdown",
   "source": [
    "# 29. 用赋值表达式消除推导中出现的重复代码"
   ],
   "metadata": {
    "collapsed": false
   },
   "id": "6a077f8a60772ef6"
  },
  {
   "cell_type": "code",
   "execution_count": 22,
   "outputs": [],
   "source": [
    "stock = {'nails': 125,\n",
    "         'screws': 35,\n",
    "         'wingnuts': 8,\n",
    "         'washers': 24}\n",
    "order = ['screws', 'wingnuts', 'clips']\n",
    "def get_batches(count, size = 8):\n",
    "      return count // size\n",
    "found = { name: get_batches(stock.get(name, 0)) \n",
    "          for name in order if get_batches(stock.get(name, 0))}\n",
    "found"
   ],
   "metadata": {
    "collapsed": false,
    "ExecuteTime": {
     "end_time": "2023-09-04T15:02:37.371256400Z",
     "start_time": "2023-09-04T15:02:37.359746400Z"
    }
   },
   "id": "c355de376631c24c"
  },
  {
   "cell_type": "code",
   "execution_count": 25,
   "outputs": [],
   "source": [
    "# 使用海豹表达式完成简化\n",
    "found = {name: batches for name in order\n",
    "         if (batches := get_batches(stock.get(name, 0)))}\n",
    "found"
   ],
   "metadata": {
    "collapsed": false,
    "ExecuteTime": {
     "end_time": "2023-09-04T15:06:08.720601Z",
     "start_time": "2023-09-04T15:06:08.703601100Z"
    }
   },
   "id": "d18c0b22660b5ca2"
  },
  {
   "cell_type": "code",
   "execution_count": 27,
   "outputs": [
    {
     "ename": "NameError",
     "evalue": "name 'tenth' is not defined",
     "output_type": "error",
     "traceback": [
      "\u001B[1;31m---------------------------------------------------------------------------\u001B[0m",
      "\u001B[1;31mNameError\u001B[0m                                 Traceback (most recent call last)",
      "Cell \u001B[1;32mIn[27], line 2\u001B[0m\n\u001B[0;32m      1\u001B[0m \u001B[38;5;66;03m# 推导顺序很重要，会从条件赋值表达式开始\u001B[39;00m\n\u001B[1;32m----> 2\u001B[0m result \u001B[38;5;241m=\u001B[39m {name: (tenth \u001B[38;5;241m:=\u001B[39m count \u001B[38;5;241m/\u001B[39m\u001B[38;5;241m/\u001B[39m\u001B[38;5;241m10\u001B[39m)\n\u001B[0;32m      3\u001B[0m           \u001B[38;5;28;01mfor\u001B[39;00m name, count \u001B[38;5;129;01min\u001B[39;00m stock\u001B[38;5;241m.\u001B[39mitems() \u001B[38;5;28;01mif\u001B[39;00m tenth \u001B[38;5;241m>\u001B[39m\u001B[38;5;241m0\u001B[39m}\n",
      "Cell \u001B[1;32mIn[27], line 3\u001B[0m, in \u001B[0;36m<dictcomp>\u001B[1;34m(.0)\u001B[0m\n\u001B[0;32m      1\u001B[0m \u001B[38;5;66;03m# 推导顺序很重要，会从条件赋值表达式开始\u001B[39;00m\n\u001B[0;32m      2\u001B[0m result \u001B[38;5;241m=\u001B[39m {name: (tenth \u001B[38;5;241m:=\u001B[39m count \u001B[38;5;241m/\u001B[39m\u001B[38;5;241m/\u001B[39m\u001B[38;5;241m10\u001B[39m)\n\u001B[1;32m----> 3\u001B[0m           \u001B[38;5;28;01mfor\u001B[39;00m name, count \u001B[38;5;129;01min\u001B[39;00m stock\u001B[38;5;241m.\u001B[39mitems() \u001B[38;5;28;01mif\u001B[39;00m \u001B[43mtenth\u001B[49m \u001B[38;5;241m>\u001B[39m\u001B[38;5;241m0\u001B[39m}\n",
      "\u001B[1;31mNameError\u001B[0m: name 'tenth' is not defined"
     ]
    }
   ],
   "source": [
    "# 推导顺序很重要，会从条件赋值表达式开始,下式则会报错\n",
    "result = {name: (tenth := count //10)\n",
    "          for name, count in stock.items() if tenth >0}"
   ],
   "metadata": {
    "collapsed": false,
    "ExecuteTime": {
     "end_time": "2023-09-04T15:09:17.534116200Z",
     "start_time": "2023-09-04T15:09:17.487606100Z"
    }
   },
   "id": "d626b5d172bf0003"
  },
  {
   "cell_type": "code",
   "execution_count": 30,
   "outputs": [],
   "source": [
    "# 做如下修改\n",
    "result = {name: tenth\n",
    "          for name, count in stock.items() if (tenth := count //10) >0}"
   ],
   "metadata": {
    "collapsed": false,
    "ExecuteTime": {
     "end_time": "2023-09-04T15:11:05.555209600Z",
     "start_time": "2023-09-04T15:11:05.536209600Z"
    }
   },
   "id": "e83dde605d469cb4"
  },
  {
   "cell_type": "code",
   "execution_count": 31,
   "outputs": [
    {
     "data": {
      "text/plain": "{'nails': 12, 'screws': 3, 'washers': 2}"
     },
     "execution_count": 31,
     "metadata": {},
     "output_type": "execute_result"
    }
   ],
   "source": [
    "result"
   ],
   "metadata": {
    "collapsed": false,
    "ExecuteTime": {
     "end_time": "2023-09-04T15:11:05.757598100Z",
     "start_time": "2023-09-04T15:11:05.743376200Z"
    }
   },
   "id": "fa70e5228260ec07"
  },
  {
   "cell_type": "code",
   "execution_count": 32,
   "outputs": [
    {
     "name": "stdout",
     "output_type": "stream",
     "text": [
      "last为最后一个值12, half列表为[62, 17, 4, 12]\n"
     ]
    }
   ],
   "source": [
    "# 如果使用了：=赋值，那么在推导中会产生变量泄露\n",
    "# 即最后一个循环的变量被赋给迭代工具变量（类似for循环）\n",
    "half = [(last:= count //2) for count in stock.values()]\n",
    "print(f'last为最后一个值{last}, half列表为{half}')"
   ],
   "metadata": {
    "collapsed": false,
    "ExecuteTime": {
     "end_time": "2023-09-04T15:16:24.587102600Z",
     "start_time": "2023-09-04T15:16:24.560099800Z"
    }
   },
   "id": "5ec4da09b819fa1d"
  },
  {
   "cell_type": "code",
   "execution_count": 33,
   "outputs": [
    {
     "name": "stdout",
     "output_type": "stream",
     "text": [
      "[62, 17, 4, 12]\n"
     ]
    },
    {
     "ename": "NameError",
     "evalue": "name 'count' is not defined",
     "output_type": "error",
     "traceback": [
      "\u001B[1;31m---------------------------------------------------------------------------\u001B[0m",
      "\u001B[1;31mNameError\u001B[0m                                 Traceback (most recent call last)",
      "Cell \u001B[1;32mIn[33], line 4\u001B[0m\n\u001B[0;32m      2\u001B[0m half \u001B[38;5;241m=\u001B[39m [count \u001B[38;5;241m/\u001B[39m\u001B[38;5;241m/\u001B[39m\u001B[38;5;241m2\u001B[39m \u001B[38;5;28;01mfor\u001B[39;00m count \u001B[38;5;129;01min\u001B[39;00m stock\u001B[38;5;241m.\u001B[39mvalues()]\n\u001B[0;32m      3\u001B[0m \u001B[38;5;28mprint\u001B[39m(half)\n\u001B[1;32m----> 4\u001B[0m \u001B[38;5;28mprint\u001B[39m(\u001B[43mcount\u001B[49m)\n",
      "\u001B[1;31mNameError\u001B[0m: name 'count' is not defined"
     ]
    }
   ],
   "source": [
    "# 如果在推导式中不使用赋值步骤，那么不会产生变量溢出的问题\n",
    "half = [count //2 for count in stock.values()]\n",
    "print(half)\n",
    "print(count)"
   ],
   "metadata": {
    "collapsed": false,
    "ExecuteTime": {
     "end_time": "2023-09-04T15:25:02.844178100Z",
     "start_time": "2023-09-04T15:25:02.760129900Z"
    }
   },
   "id": "dce65c383f489bba"
  },
  {
   "cell_type": "markdown",
   "source": [
    "# 30. 不要让函数直接返回列表，应该让其逐个生成列表里的值"
   ],
   "metadata": {
    "collapsed": false
   },
   "id": "22745f50cec983a4"
  },
  {
   "cell_type": "code",
   "execution_count": 3,
   "outputs": [],
   "source": [
    "# 此函数将一个字符串中各单词首字母在句子中处在的位置坐标\n",
    "def index_words(text: str):\n",
    "    result = []\n",
    "    if text:\n",
    "        result.append(0)\n",
    "    for index, letter in enumerate(text):\n",
    "        if letter == \" \" :\n",
    "            result.append(index+1)\n",
    "    return result"
   ],
   "metadata": {
    "collapsed": false,
    "ExecuteTime": {
     "end_time": "2023-10-06T13:10:34.249633200Z",
     "start_time": "2023-10-06T13:10:34.237780800Z"
    }
   },
   "id": "7e7ccb9e171faa92"
  },
  {
   "cell_type": "code",
   "execution_count": 6,
   "outputs": [
    {
     "name": "stdout",
     "output_type": "stream",
     "text": [
      "[0, 5, 11, 15, 21, 27]\n"
     ]
    }
   ],
   "source": [
    "address = 'Four score and seven years ago...'\n",
    "result = index_words(address)\n",
    "print(result[:10])"
   ],
   "metadata": {
    "collapsed": false,
    "ExecuteTime": {
     "end_time": "2023-10-06T13:11:50.608601800Z",
     "start_time": "2023-10-06T13:11:50.596576100Z"
    }
   },
   "id": "b08157c7d1a7260f"
  },
  {
   "cell_type": "code",
   "execution_count": 7,
   "outputs": [],
   "source": [
    "# 1. 使用上述代码会模糊重点内容（index+1）\n",
    "# 2. 函数直接返回列表会占用大量内存，且使用append操作过多\n",
    "def index_words(text: str):\n",
    "    if text:\n",
    "        yield 0\n",
    "    for index, letter in enumerate(text):\n",
    "        if letter == \" \" :\n",
    "            yield index + 1"
   ],
   "metadata": {
    "collapsed": false,
    "ExecuteTime": {
     "end_time": "2023-10-06T13:18:33.422075300Z",
     "start_time": "2023-10-06T13:18:33.390513800Z"
    }
   },
   "id": "d5a660e7971752"
  },
  {
   "cell_type": "code",
   "execution_count": 9,
   "outputs": [
    {
     "name": "stdout",
     "output_type": "stream",
     "text": [
      "0\n",
      "5\n"
     ]
    },
    {
     "data": {
      "text/plain": "[11, 15, 21, 27]"
     },
     "execution_count": 9,
     "metadata": {},
     "output_type": "execute_result"
    }
   ],
   "source": [
    "it = index_words(address)\n",
    "print(next(it))\n",
    "print(next(it))\n",
    "# 如果对此函数仍想要列表，可以使用list对迭代器完成遍历\n",
    "list(it)"
   ],
   "metadata": {
    "collapsed": false,
    "ExecuteTime": {
     "end_time": "2023-10-06T13:34:56.351645300Z",
     "start_time": "2023-10-06T13:34:56.332911800Z"
    }
   },
   "id": "4a962de3ebea99ad"
  },
  {
   "cell_type": "code",
   "execution_count": 10,
   "outputs": [],
   "source": [
    "def index_file(handle):\n",
    "    offset = 0\n",
    "    for line in handle:\n",
    "        if line:\n",
    "            yield offset\n",
    "        for letter in line:\n",
    "            offset += 1\n",
    "            if letter == \" \":\n",
    "                yield offset"
   ],
   "metadata": {
    "collapsed": false,
    "ExecuteTime": {
     "end_time": "2023-10-06T13:39:53.428199Z",
     "start_time": "2023-10-06T13:39:53.399395400Z"
    }
   },
   "id": "8c15ed46902e6576"
  },
  {
   "cell_type": "code",
   "execution_count": 11,
   "outputs": [
    {
     "name": "stdout",
     "output_type": "stream",
     "text": [
      "[0, 6, 12, 17, 20, 27]\n"
     ]
    }
   ],
   "source": [
    "import itertools\n",
    "with open('chapter4.txt', 'r') as f:\n",
    "    it = index_file(f)\n",
    "    result = itertools.islice(it, 0, 10)\n",
    "    print(list(result))"
   ],
   "metadata": {
    "collapsed": false,
    "ExecuteTime": {
     "end_time": "2023-10-06T13:46:06.085553700Z",
     "start_time": "2023-10-06T13:46:06.032311500Z"
    }
   },
   "id": "c65b9803026e348"
  },
  {
   "cell_type": "markdown",
   "source": [
    "# 31. 谨慎地迭代函数所收到的参数"
   ],
   "metadata": {
    "collapsed": false
   },
   "id": "f90debeaba8cae7d"
  },
  {
   "cell_type": "code",
   "execution_count": 12,
   "outputs": [],
   "source": [
    "# 定义一个归一化函数，函数内先求游客总数，再计算各元素的占比\n",
    "def normalize(numbers):\n",
    "    total = sum(numbers)\n",
    "    result = []\n",
    "    for value in numbers:\n",
    "        percent = 100 * value / total\n",
    "        result.append(percent)\n",
    "    return result"
   ],
   "metadata": {
    "collapsed": false,
    "ExecuteTime": {
     "end_time": "2023-10-06T14:18:58.741982700Z",
     "start_time": "2023-10-06T14:18:58.712153300Z"
    }
   },
   "id": "abdf95b65faa3374"
  },
  {
   "cell_type": "code",
   "execution_count": 13,
   "outputs": [],
   "source": [
    "visits = [15, 35, 80]\n",
    "percentages = normalize(visits)"
   ],
   "metadata": {
    "collapsed": false,
    "ExecuteTime": {
     "end_time": "2023-10-06T14:20:22.639846200Z",
     "start_time": "2023-10-06T14:20:22.614795600Z"
    }
   },
   "id": "4e3645af0a67e8fb"
  },
  {
   "cell_type": "code",
   "execution_count": 14,
   "outputs": [
    {
     "name": "stdout",
     "output_type": "stream",
     "text": [
      "[11.538461538461538, 26.923076923076923, 61.53846153846154]\n"
     ]
    }
   ],
   "source": [
    "print(percentages)"
   ],
   "metadata": {
    "collapsed": false,
    "ExecuteTime": {
     "end_time": "2023-10-06T14:20:28.632896Z",
     "start_time": "2023-10-06T14:20:28.599640300Z"
    }
   },
   "id": "a467588877173113"
  },
  {
   "cell_type": "code",
   "execution_count": 15,
   "outputs": [],
   "source": [
    "# 当数据规模更大时，考虑使用迭代器\n",
    "def read_visits(data_path):\n",
    "    with open(data_path) as f:\n",
    "        for line in f:\n",
    "            yield int(line)"
   ],
   "metadata": {
    "collapsed": false,
    "ExecuteTime": {
     "end_time": "2023-10-06T14:24:28.046935300Z",
     "start_time": "2023-10-06T14:24:28.018335Z"
    }
   },
   "id": "371204ecee511860"
  },
  {
   "cell_type": "code",
   "execution_count": 17,
   "outputs": [
    {
     "name": "stdout",
     "output_type": "stream",
     "text": [
      "[]\n"
     ]
    }
   ],
   "source": [
    "it = read_visits('chapter4.txt')\n",
    "percentages = normalize(it)\n",
    "print(percentages)\n",
    "# 使用上述代码会导致出现空列表，因为normalize中的sum已经完成了对迭代器（read_visit)的迭代，后边的for循环就不再产生元素了"
   ],
   "metadata": {
    "collapsed": false,
    "ExecuteTime": {
     "end_time": "2023-10-06T14:26:10.762901300Z",
     "start_time": "2023-10-06T14:26:10.743854900Z"
    }
   },
   "id": "d41e32d2694d6383"
  },
  {
   "cell_type": "code",
   "execution_count": 18,
   "outputs": [],
   "source": [
    "# 避免上述现象的一个方法是再normalize函数中执行一遍迭代器形成新的列表\n",
    "def normalize(numbers):\n",
    "    numbers_copy = list(numbers)\n",
    "    total = sum(numbers_copy)\n",
    "    result = []\n",
    "    for value in numbers_copy:\n",
    "        percent = 100 * value /total\n",
    "        result.append(percent)\n",
    "    return result"
   ],
   "metadata": {
    "collapsed": false,
    "ExecuteTime": {
     "end_time": "2023-10-06T14:49:55.225771600Z",
     "start_time": "2023-10-06T14:49:55.193609100Z"
    }
   },
   "id": "8bb55593be4bec66"
  },
  {
   "cell_type": "code",
   "execution_count": 19,
   "outputs": [
    {
     "name": "stdout",
     "output_type": "stream",
     "text": [
      "[12.037037037037036, 13.88888888888889, 74.07407407407408]\n"
     ]
    }
   ],
   "source": [
    "it = read_visits('chapter4.txt')\n",
    "percentages = normalize(it)\n",
    "print(percentages)"
   ],
   "metadata": {
    "collapsed": false,
    "ExecuteTime": {
     "end_time": "2023-10-06T14:50:11.380523700Z",
     "start_time": "2023-10-06T14:50:11.350184300Z"
    }
   },
   "id": "e433ef9977aa1b0e"
  },
  {
   "cell_type": "code",
   "execution_count": 20,
   "outputs": [
    {
     "name": "stdout",
     "output_type": "stream",
     "text": [
      "[12.037037037037036, 13.88888888888889, 74.07407407407408]\n"
     ]
    }
   ],
   "source": [
    "# 但是此方法又出现了一个完整的list，与使用迭代器的初衷相违背\n",
    "# 使用中间函数在nor函数每次调用迭代器时都提供新的迭代器\n",
    "def normalize(get_iter):\n",
    "    total = sum(get_iter())\n",
    "    result = []\n",
    "    for value in get_iter():\n",
    "        percent = 100 * value /total\n",
    "        result.append(percent)\n",
    "    return result\n",
    "# 此时给normalize传参需要使用lambda表达式，使得函数内部每次‘()’都能生成新的迭代器\n",
    "percentages = normalize(lambda : read_visits('chapter4.txt'))\n",
    "print(percentages)"
   ],
   "metadata": {
    "collapsed": false,
    "ExecuteTime": {
     "end_time": "2023-10-06T14:57:41.757578800Z",
     "start_time": "2023-10-06T14:57:41.706088600Z"
    }
   },
   "id": "6d4c91014d23f01f"
  },
  {
   "cell_type": "markdown",
   "source": [
    "- 除了上述方法,还可以创建自定义容器完成如上需求"
   ],
   "metadata": {
    "collapsed": false
   },
   "id": "d948f68dbf9d2e4e"
  },
  {
   "cell_type": "code",
   "execution_count": 24,
   "outputs": [],
   "source": [
    "class ReadVisits:\n",
    "    def __init__(self, data_path):\n",
    "        self.data_path = data_path\n",
    "    def __iter__(self):  # 定义该容器的迭代器规则，从传入路径中读取每行的数据并取整后作为迭代元素\n",
    "        with open(self.data_path) as f:\n",
    "            for line in f:\n",
    "                yield int(line)\n",
    "# 上述函数使用最初的nor函数即可\n",
    "def normalize(numbers):\n",
    "    total = sum(numbers)  # 第一次触发‘__iter__‘函数分配一个迭代器\n",
    "    result = []\n",
    "    for value in numbers:  # 第二次触发‘__iter__‘函数分配另一个迭代器，多个迭代器间并不影响\n",
    "        percent = 100 * value / total\n",
    "        result.append(percent)\n",
    "    return result"
   ],
   "metadata": {
    "collapsed": false,
    "ExecuteTime": {
     "end_time": "2023-10-06T15:03:12.502435200Z",
     "start_time": "2023-10-06T15:03:12.488446800Z"
    }
   },
   "id": "1b6fc84bcddf4ed6"
  },
  {
   "cell_type": "code",
   "execution_count": 25,
   "outputs": [
    {
     "name": "stdout",
     "output_type": "stream",
     "text": [
      "[12.037037037037036, 13.88888888888889, 74.07407407407408]\n"
     ]
    }
   ],
   "source": [
    "visits = ReadVisits('chapter4.txt')\n",
    "percentages = normalize(visits)\n",
    "print(percentages)"
   ],
   "metadata": {
    "collapsed": false,
    "ExecuteTime": {
     "end_time": "2023-10-06T15:03:12.764458500Z",
     "start_time": "2023-10-06T15:03:12.751923900Z"
    }
   },
   "id": "f9bc8c159424b429"
  },
  {
   "cell_type": "code",
   "execution_count": 26,
   "outputs": [],
   "source": [
    "# 可以添加类型判断避免普通迭代器传入nor函数\n",
    "def normalize_defensive(numbers):\n",
    "    if iter(numbers) is numbers:\n",
    "        raise TypeError('必须传入一个容器而不是普通迭代器')\n",
    "    total = sum(numbers)  # 第一次触发‘__iter__‘函数分配一个迭代器\n",
    "    result = []\n",
    "    for value in numbers:  # 第二次触发‘__iter__‘函数分配另一个迭代器，多个迭代器间并不影响\n",
    "        percent = 100 * value / total\n",
    "        result.append(percent)\n",
    "    return result"
   ],
   "metadata": {
    "collapsed": false,
    "ExecuteTime": {
     "end_time": "2023-10-06T15:09:57.130618700Z",
     "start_time": "2023-10-06T15:09:57.097575100Z"
    }
   },
   "id": "2cfe0a74d72f59aa"
  },
  {
   "cell_type": "code",
   "execution_count": 27,
   "outputs": [
    {
     "ename": "TypeError",
     "evalue": "必须传入一个容器而不是普通迭代器",
     "output_type": "error",
     "traceback": [
      "\u001B[1;31m---------------------------------------------------------------------------\u001B[0m",
      "\u001B[1;31mTypeError\u001B[0m                                 Traceback (most recent call last)",
      "Cell \u001B[1;32mIn[27], line 1\u001B[0m\n\u001B[1;32m----> 1\u001B[0m \u001B[43mnormalize_defensive\u001B[49m\u001B[43m(\u001B[49m\u001B[38;5;28;43miter\u001B[39;49m\u001B[43m(\u001B[49m\u001B[43m[\u001B[49m\u001B[38;5;241;43m15\u001B[39;49m\u001B[43m,\u001B[49m\u001B[43m \u001B[49m\u001B[38;5;241;43m35\u001B[39;49m\u001B[43m,\u001B[49m\u001B[43m \u001B[49m\u001B[38;5;241;43m80\u001B[39;49m\u001B[43m]\u001B[49m\u001B[43m)\u001B[49m\u001B[43m)\u001B[49m\n",
      "Cell \u001B[1;32mIn[26], line 4\u001B[0m, in \u001B[0;36mnormalize_defensive\u001B[1;34m(numbers)\u001B[0m\n\u001B[0;32m      2\u001B[0m \u001B[38;5;28;01mdef\u001B[39;00m \u001B[38;5;21mnormalize_defensive\u001B[39m(numbers):\n\u001B[0;32m      3\u001B[0m     \u001B[38;5;28;01mif\u001B[39;00m \u001B[38;5;28miter\u001B[39m(numbers) \u001B[38;5;129;01mis\u001B[39;00m numbers:\n\u001B[1;32m----> 4\u001B[0m         \u001B[38;5;28;01mraise\u001B[39;00m \u001B[38;5;167;01mTypeError\u001B[39;00m(\u001B[38;5;124m'\u001B[39m\u001B[38;5;124m必须传入一个容器而不是普通迭代器\u001B[39m\u001B[38;5;124m'\u001B[39m)\n\u001B[0;32m      5\u001B[0m     total \u001B[38;5;241m=\u001B[39m \u001B[38;5;28msum\u001B[39m(numbers)  \u001B[38;5;66;03m# 第一次触发‘__iter__‘函数分配一个迭代器\u001B[39;00m\n\u001B[0;32m      6\u001B[0m     result \u001B[38;5;241m=\u001B[39m []\n",
      "\u001B[1;31mTypeError\u001B[0m: 必须传入一个容器而不是普通迭代器"
     ]
    }
   ],
   "source": [
    "normalize_defensive(iter([15, 35, 80]))"
   ],
   "metadata": {
    "collapsed": false,
    "ExecuteTime": {
     "end_time": "2023-10-06T15:11:16.831397400Z",
     "start_time": "2023-10-06T15:11:16.775361600Z"
    }
   },
   "id": "2e3b2316bc40853e"
  },
  {
   "cell_type": "code",
   "execution_count": 28,
   "outputs": [
    {
     "data": {
      "text/plain": "[12.037037037037036, 13.88888888888889, 74.07407407407408]"
     },
     "execution_count": 28,
     "metadata": {},
     "output_type": "execute_result"
    }
   ],
   "source": [
    "normalize_defensive(visits)"
   ],
   "metadata": {
    "collapsed": false,
    "ExecuteTime": {
     "end_time": "2023-10-06T15:11:39.462937600Z",
     "start_time": "2023-10-06T15:11:39.431107Z"
    }
   },
   "id": "4b55e83ff253b77d"
  },
  {
   "cell_type": "code",
   "execution_count": 35,
   "outputs": [
    {
     "data": {
      "text/plain": "__main__.ReadVisits"
     },
     "execution_count": 35,
     "metadata": {},
     "output_type": "execute_result"
    }
   ],
   "source": [
    "type(visits)"
   ],
   "metadata": {
    "collapsed": false,
    "ExecuteTime": {
     "end_time": "2023-10-06T15:18:20.034394300Z",
     "start_time": "2023-10-06T15:18:20.014817700Z"
    }
   },
   "id": "7afe143411d44d56"
  },
  {
   "cell_type": "code",
   "execution_count": 34,
   "outputs": [
    {
     "data": {
      "text/plain": "<generator object ReadVisits.__iter__ at 0x000001EBEA261150>"
     },
     "execution_count": 34,
     "metadata": {},
     "output_type": "execute_result"
    }
   ],
   "source": [
    "iter(visits)  # 返回自定义类型的迭代器"
   ],
   "metadata": {
    "collapsed": false,
    "ExecuteTime": {
     "end_time": "2023-10-06T15:17:46.890045100Z",
     "start_time": "2023-10-06T15:17:46.871485400Z"
    }
   },
   "id": "7c4a4292809e2441"
  },
  {
   "cell_type": "code",
   "execution_count": 33,
   "outputs": [
    {
     "data": {
      "text/plain": "<list_iterator at 0x1ebe9920e50>"
     },
     "execution_count": 33,
     "metadata": {},
     "output_type": "execute_result"
    }
   ],
   "source": [
    "iter([0,1,2])"
   ],
   "metadata": {
    "collapsed": false,
    "ExecuteTime": {
     "end_time": "2023-10-06T15:17:34.669161900Z",
     "start_time": "2023-10-06T15:17:34.575347500Z"
    }
   },
   "id": "c0c3be1f7a4f5bdb"
  },
  {
   "cell_type": "code",
   "execution_count": null,
   "outputs": [],
   "source": [],
   "metadata": {
    "collapsed": false
   },
   "id": "2fedeccb41b1dcc2"
  }
 ],
 "metadata": {
  "kernelspec": {
   "display_name": "Python 3",
   "language": "python",
   "name": "python3"
  },
  "language_info": {
   "codemirror_mode": {
    "name": "ipython",
    "version": 2
   },
   "file_extension": ".py",
   "mimetype": "text/x-python",
   "name": "python",
   "nbconvert_exporter": "python",
   "pygments_lexer": "ipython2",
   "version": "2.7.6"
  }
 },
 "nbformat": 4,
 "nbformat_minor": 5
}
