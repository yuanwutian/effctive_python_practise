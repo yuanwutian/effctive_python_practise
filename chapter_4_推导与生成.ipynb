{
 "cells": [
  {
   "cell_type": "markdown",
   "source": [
    "# 27. 用列表推到取代map与filter"
   ],
   "metadata": {
    "collapsed": false
   },
   "id": "2350bcb75cccbaa"
  },
  {
   "cell_type": "code",
   "execution_count": 12,
   "outputs": [],
   "source": [
    "# 使用map完成一个列表的平方\n",
    "a = range(0,10,1)\n",
    "squares_m = list(map(lambda x: x**2, a)) # map函数生成迭代器，需要使用list将其进行生成"
   ],
   "metadata": {
    "collapsed": false,
    "ExecuteTime": {
     "end_time": "2023-09-04T14:45:18.194550600Z",
     "start_time": "2023-09-04T14:45:18.178551100Z"
    }
   },
   "id": "e1c0585982a14304"
  },
  {
   "cell_type": "code",
   "execution_count": 13,
   "outputs": [
    {
     "name": "stdout",
     "output_type": "stream",
     "text": [
      "列表推导：[0, 1, 4, 9, 16, 25, 36, 49, 64, 81]\n",
      "map推导[0, 1, 4, 9, 16, 25, 36, 49, 64, 81]\n"
     ]
    }
   ],
   "source": [
    "squares_l = [x**2 for x in a]\n",
    "print(f'列表推导：{squares_l}\\n'\n",
    "      f'map推导{squares_m}')"
   ],
   "metadata": {
    "collapsed": false,
    "ExecuteTime": {
     "end_time": "2023-09-04T14:45:18.727541100Z",
     "start_time": "2023-09-04T14:45:18.702542300Z"
    }
   },
   "id": "f31b06a421e26bde"
  },
  {
   "cell_type": "code",
   "execution_count": 14,
   "outputs": [
    {
     "data": {
      "text/plain": "range(0, 10)"
     },
     "execution_count": 14,
     "metadata": {},
     "output_type": "execute_result"
    }
   ],
   "source": [
    "a"
   ],
   "metadata": {
    "collapsed": false,
    "ExecuteTime": {
     "end_time": "2023-09-04T14:45:19.557852100Z",
     "start_time": "2023-09-04T14:45:19.538851100Z"
    }
   },
   "id": "20333e05384fea03"
  },
  {
   "cell_type": "code",
   "execution_count": 15,
   "outputs": [
    {
     "data": {
      "text/plain": "[0, 4, 16, 36, 64]"
     },
     "execution_count": 15,
     "metadata": {},
     "output_type": "execute_result"
    }
   ],
   "source": [
    "# 但是在进行条件筛选时列表更方便\n",
    "even_squares = [x**2 for x in a if x % 2 ==0]\n",
    "even_squares"
   ],
   "metadata": {
    "collapsed": false,
    "ExecuteTime": {
     "end_time": "2023-09-04T14:46:45.722246700Z",
     "start_time": "2023-09-04T14:46:45.706598700Z"
    }
   },
   "id": "c8b1c39634deee1e"
  },
  {
   "cell_type": "markdown",
   "source": [
    "# 28. 控制推导逻辑的子表达式不要超过两个"
   ],
   "metadata": {
    "collapsed": false
   },
   "id": "cd74703d387d65dc"
  },
  {
   "cell_type": "code",
   "execution_count": 16,
   "outputs": [
    {
     "data": {
      "text/plain": "[1, 2, 3, 4, 5, 6, 7, 8, 9]"
     },
     "execution_count": 16,
     "metadata": {},
     "output_type": "execute_result"
    }
   ],
   "source": [
    "# 对维度不多的对象可以使用多阶推导进行拆分，但多过三个的对象还是使用for循环写\n",
    "matrix = [[1, 2, 3], [4, 5, 6], [7, 8, 9]]\n",
    "flat = [x for row in matrix for x in row]\n",
    "flat"
   ],
   "metadata": {
    "collapsed": false,
    "ExecuteTime": {
     "end_time": "2023-09-04T14:50:23.122889600Z",
     "start_time": "2023-09-04T14:50:23.097824500Z"
    }
   },
   "id": "c959d5b7171f4806"
  },
  {
   "cell_type": "markdown",
   "source": [
    "# 29. 用赋值表达式消除推导中出现的重复代码"
   ],
   "metadata": {
    "collapsed": false
   },
   "id": "6a077f8a60772ef6"
  },
  {
   "cell_type": "code",
   "execution_count": 22,
   "outputs": [],
   "source": [
    "stock = {'nails': 125,\n",
    "         'screws': 35,\n",
    "         'wingnuts': 8,\n",
    "         'washers': 24}\n",
    "order = ['screws', 'wingnuts', 'clips']\n",
    "def get_batches(count, size = 8):\n",
    "      return count // size\n",
    "found = { name: get_batches(stock.get(name, 0)) \n",
    "          for name in order if get_batches(stock.get(name, 0))}\n",
    "found"
   ],
   "metadata": {
    "collapsed": false,
    "ExecuteTime": {
     "end_time": "2023-09-04T15:02:37.371256400Z",
     "start_time": "2023-09-04T15:02:37.359746400Z"
    }
   },
   "id": "c355de376631c24c"
  },
  {
   "cell_type": "code",
   "execution_count": 25,
   "outputs": [],
   "source": [
    "# 使用海豹表达式完成简化\n",
    "found = {name: batches for name in order\n",
    "         if (batches := get_batches(stock.get(name, 0)))}\n",
    "found"
   ],
   "metadata": {
    "collapsed": false,
    "ExecuteTime": {
     "end_time": "2023-09-04T15:06:08.720601Z",
     "start_time": "2023-09-04T15:06:08.703601100Z"
    }
   },
   "id": "d18c0b22660b5ca2"
  },
  {
   "cell_type": "code",
   "execution_count": 27,
   "outputs": [
    {
     "ename": "NameError",
     "evalue": "name 'tenth' is not defined",
     "output_type": "error",
     "traceback": [
      "\u001B[1;31m---------------------------------------------------------------------------\u001B[0m",
      "\u001B[1;31mNameError\u001B[0m                                 Traceback (most recent call last)",
      "Cell \u001B[1;32mIn[27], line 2\u001B[0m\n\u001B[0;32m      1\u001B[0m \u001B[38;5;66;03m# 推导顺序很重要，会从条件赋值表达式开始\u001B[39;00m\n\u001B[1;32m----> 2\u001B[0m result \u001B[38;5;241m=\u001B[39m {name: (tenth \u001B[38;5;241m:=\u001B[39m count \u001B[38;5;241m/\u001B[39m\u001B[38;5;241m/\u001B[39m\u001B[38;5;241m10\u001B[39m)\n\u001B[0;32m      3\u001B[0m           \u001B[38;5;28;01mfor\u001B[39;00m name, count \u001B[38;5;129;01min\u001B[39;00m stock\u001B[38;5;241m.\u001B[39mitems() \u001B[38;5;28;01mif\u001B[39;00m tenth \u001B[38;5;241m>\u001B[39m\u001B[38;5;241m0\u001B[39m}\n",
      "Cell \u001B[1;32mIn[27], line 3\u001B[0m, in \u001B[0;36m<dictcomp>\u001B[1;34m(.0)\u001B[0m\n\u001B[0;32m      1\u001B[0m \u001B[38;5;66;03m# 推导顺序很重要，会从条件赋值表达式开始\u001B[39;00m\n\u001B[0;32m      2\u001B[0m result \u001B[38;5;241m=\u001B[39m {name: (tenth \u001B[38;5;241m:=\u001B[39m count \u001B[38;5;241m/\u001B[39m\u001B[38;5;241m/\u001B[39m\u001B[38;5;241m10\u001B[39m)\n\u001B[1;32m----> 3\u001B[0m           \u001B[38;5;28;01mfor\u001B[39;00m name, count \u001B[38;5;129;01min\u001B[39;00m stock\u001B[38;5;241m.\u001B[39mitems() \u001B[38;5;28;01mif\u001B[39;00m \u001B[43mtenth\u001B[49m \u001B[38;5;241m>\u001B[39m\u001B[38;5;241m0\u001B[39m}\n",
      "\u001B[1;31mNameError\u001B[0m: name 'tenth' is not defined"
     ]
    }
   ],
   "source": [
    "# 推导顺序很重要，会从条件赋值表达式开始,下式则会报错\n",
    "result = {name: (tenth := count //10)\n",
    "          for name, count in stock.items() if tenth >0}"
   ],
   "metadata": {
    "collapsed": false,
    "ExecuteTime": {
     "end_time": "2023-09-04T15:09:17.534116200Z",
     "start_time": "2023-09-04T15:09:17.487606100Z"
    }
   },
   "id": "d626b5d172bf0003"
  },
  {
   "cell_type": "code",
   "execution_count": 30,
   "outputs": [],
   "source": [
    "# 做如下修改\n",
    "result = {name: tenth\n",
    "          for name, count in stock.items() if (tenth := count //10) >0}"
   ],
   "metadata": {
    "collapsed": false,
    "ExecuteTime": {
     "end_time": "2023-09-04T15:11:05.555209600Z",
     "start_time": "2023-09-04T15:11:05.536209600Z"
    }
   },
   "id": "e83dde605d469cb4"
  },
  {
   "cell_type": "code",
   "execution_count": 31,
   "outputs": [
    {
     "data": {
      "text/plain": "{'nails': 12, 'screws': 3, 'washers': 2}"
     },
     "execution_count": 31,
     "metadata": {},
     "output_type": "execute_result"
    }
   ],
   "source": [
    "result"
   ],
   "metadata": {
    "collapsed": false,
    "ExecuteTime": {
     "end_time": "2023-09-04T15:11:05.757598100Z",
     "start_time": "2023-09-04T15:11:05.743376200Z"
    }
   },
   "id": "fa70e5228260ec07"
  },
  {
   "cell_type": "code",
   "execution_count": 32,
   "outputs": [
    {
     "name": "stdout",
     "output_type": "stream",
     "text": [
      "last为最后一个值12, half列表为[62, 17, 4, 12]\n"
     ]
    }
   ],
   "source": [
    "# 如果使用了：=赋值，那么在推导中会产生变量泄露\n",
    "# 即最后一个循环的变量被赋给迭代工具变量（类似for循环）\n",
    "half = [(last:= count //2) for count in stock.values()]\n",
    "print(f'last为最后一个值{last}, half列表为{half}')"
   ],
   "metadata": {
    "collapsed": false,
    "ExecuteTime": {
     "end_time": "2023-09-04T15:16:24.587102600Z",
     "start_time": "2023-09-04T15:16:24.560099800Z"
    }
   },
   "id": "5ec4da09b819fa1d"
  },
  {
   "cell_type": "code",
   "execution_count": 33,
   "outputs": [
    {
     "name": "stdout",
     "output_type": "stream",
     "text": [
      "[62, 17, 4, 12]\n"
     ]
    },
    {
     "ename": "NameError",
     "evalue": "name 'count' is not defined",
     "output_type": "error",
     "traceback": [
      "\u001B[1;31m---------------------------------------------------------------------------\u001B[0m",
      "\u001B[1;31mNameError\u001B[0m                                 Traceback (most recent call last)",
      "Cell \u001B[1;32mIn[33], line 4\u001B[0m\n\u001B[0;32m      2\u001B[0m half \u001B[38;5;241m=\u001B[39m [count \u001B[38;5;241m/\u001B[39m\u001B[38;5;241m/\u001B[39m\u001B[38;5;241m2\u001B[39m \u001B[38;5;28;01mfor\u001B[39;00m count \u001B[38;5;129;01min\u001B[39;00m stock\u001B[38;5;241m.\u001B[39mvalues()]\n\u001B[0;32m      3\u001B[0m \u001B[38;5;28mprint\u001B[39m(half)\n\u001B[1;32m----> 4\u001B[0m \u001B[38;5;28mprint\u001B[39m(\u001B[43mcount\u001B[49m)\n",
      "\u001B[1;31mNameError\u001B[0m: name 'count' is not defined"
     ]
    }
   ],
   "source": [
    "# 如果在推导式中不使用赋值步骤，那么不会产生变量溢出的问题\n",
    "half = [count //2 for count in stock.values()]\n",
    "print(half)\n",
    "print(count)"
   ],
   "metadata": {
    "collapsed": false,
    "ExecuteTime": {
     "end_time": "2023-09-04T15:25:02.844178100Z",
     "start_time": "2023-09-04T15:25:02.760129900Z"
    }
   },
   "id": "dce65c383f489bba"
  },
  {
   "cell_type": "code",
   "execution_count": null,
   "outputs": [],
   "source": [],
   "metadata": {
    "collapsed": false
   },
   "id": "cb963e17e3f57447"
  }
 ],
 "metadata": {
  "kernelspec": {
   "display_name": "Python 3",
   "language": "python",
   "name": "python3"
  },
  "language_info": {
   "codemirror_mode": {
    "name": "ipython",
    "version": 2
   },
   "file_extension": ".py",
   "mimetype": "text/x-python",
   "name": "python",
   "nbconvert_exporter": "python",
   "pygments_lexer": "ipython2",
   "version": "2.7.6"
  }
 },
 "nbformat": 4,
 "nbformat_minor": 5
}
