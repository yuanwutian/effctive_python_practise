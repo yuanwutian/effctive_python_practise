{
 "cells": [
  {
   "cell_type": "markdown",
   "id": "2350bcb75cccbaa",
   "metadata": {
    "collapsed": false
   },
   "source": [
    "# 27. 用列表推到取代map与filter"
   ]
  },
  {
   "cell_type": "code",
   "execution_count": 12,
   "id": "e1c0585982a14304",
   "metadata": {
    "ExecuteTime": {
     "end_time": "2023-09-04T14:45:18.194550600Z",
     "start_time": "2023-09-04T14:45:18.178551100Z"
    },
    "collapsed": false
   },
   "outputs": [],
   "source": [
    "# 使用map完成一个列表的平方\n",
    "a = range(0,10,1)\n",
    "squares_m = list(map(lambda x: x**2, a)) # map函数生成迭代器，需要使用list将其进行生成"
   ]
  },
  {
   "cell_type": "code",
   "execution_count": 13,
   "id": "f31b06a421e26bde",
   "metadata": {
    "ExecuteTime": {
     "end_time": "2023-09-04T14:45:18.727541100Z",
     "start_time": "2023-09-04T14:45:18.702542300Z"
    },
    "collapsed": false
   },
   "outputs": [
    {
     "name": "stdout",
     "output_type": "stream",
     "text": [
      "列表推导：[0, 1, 4, 9, 16, 25, 36, 49, 64, 81]\n",
      "map推导[0, 1, 4, 9, 16, 25, 36, 49, 64, 81]\n"
     ]
    }
   ],
   "source": [
    "squares_l = [x**2 for x in a]\n",
    "print(f'列表推导：{squares_l}\\n'\n",
    "      f'map推导{squares_m}')"
   ]
  },
  {
   "cell_type": "code",
   "execution_count": 14,
   "id": "20333e05384fea03",
   "metadata": {
    "ExecuteTime": {
     "end_time": "2023-09-04T14:45:19.557852100Z",
     "start_time": "2023-09-04T14:45:19.538851100Z"
    },
    "collapsed": false
   },
   "outputs": [
    {
     "data": {
      "text/plain": [
       "range(0, 10)"
      ]
     },
     "execution_count": 14,
     "metadata": {},
     "output_type": "execute_result"
    }
   ],
   "source": [
    "a"
   ]
  },
  {
   "cell_type": "code",
   "execution_count": 15,
   "id": "c8b1c39634deee1e",
   "metadata": {
    "ExecuteTime": {
     "end_time": "2023-09-04T14:46:45.722246700Z",
     "start_time": "2023-09-04T14:46:45.706598700Z"
    },
    "collapsed": false
   },
   "outputs": [
    {
     "data": {
      "text/plain": [
       "[0, 4, 16, 36, 64]"
      ]
     },
     "execution_count": 15,
     "metadata": {},
     "output_type": "execute_result"
    }
   ],
   "source": [
    "# 但是在进行条件筛选时列表更方便\n",
    "even_squares = [x**2 for x in a if x % 2 ==0]\n",
    "even_squares"
   ]
  },
  {
   "cell_type": "markdown",
   "id": "cd74703d387d65dc",
   "metadata": {
    "collapsed": false
   },
   "source": [
    "# 28. 控制推导逻辑的子表达式不要超过两个"
   ]
  },
  {
   "cell_type": "code",
   "execution_count": 1,
   "id": "c959d5b7171f4806",
   "metadata": {
    "ExecuteTime": {
     "end_time": "2023-09-04T14:50:23.122889600Z",
     "start_time": "2023-09-04T14:50:23.097824500Z"
    },
    "collapsed": false
   },
   "outputs": [
    {
     "data": {
      "text/plain": [
       "[1, 2, 3, 4, 5, 6, 7, 8, 9]"
      ]
     },
     "execution_count": 1,
     "metadata": {},
     "output_type": "execute_result"
    }
   ],
   "source": [
    "# 对维度不多的对象可以使用多阶推导进行拆分，但多过三个的对象还是使用for循环写\n",
    "matrix = [[1, 2, 3], [4, 5, 6], [7, 8, 9]]\n",
    "flat = [x for row in matrix for x in row]\n",
    "flat"
   ]
  },
  {
   "cell_type": "markdown",
   "id": "6a077f8a60772ef6",
   "metadata": {
    "collapsed": false
   },
   "source": [
    "# 29. 用赋值表达式消除推导中出现的重复代码"
   ]
  },
  {
   "cell_type": "code",
   "execution_count": 1,
   "id": "c355de376631c24c",
   "metadata": {
    "ExecuteTime": {
     "end_time": "2023-09-04T15:02:37.371256400Z",
     "start_time": "2023-09-04T15:02:37.359746400Z"
    },
    "collapsed": false
   },
   "outputs": [
    {
     "data": {
      "text/plain": [
       "{'screws': 4, 'wingnuts': 1}"
      ]
     },
     "execution_count": 1,
     "metadata": {},
     "output_type": "execute_result"
    }
   ],
   "source": [
    "stock = {'nails': 125,\n",
    "         'screws': 35,\n",
    "         'wingnuts': 8,\n",
    "         'washers': 24}\n",
    "order = ['screws', 'wingnuts', 'clips']\n",
    "def get_batches(count, size = 8):\n",
    "      return count // size\n",
    "found = { name: get_batches(stock.get(name, 0)) \n",
    "          for name in order if get_batches(stock.get(name, 0))}\n",
    "found"
   ]
  },
  {
   "cell_type": "code",
   "execution_count": 2,
   "id": "d18c0b22660b5ca2",
   "metadata": {
    "ExecuteTime": {
     "end_time": "2023-09-04T15:06:08.720601Z",
     "start_time": "2023-09-04T15:06:08.703601100Z"
    },
    "collapsed": false
   },
   "outputs": [
    {
     "data": {
      "text/plain": [
       "{'screws': 4, 'wingnuts': 1}"
      ]
     },
     "execution_count": 2,
     "metadata": {},
     "output_type": "execute_result"
    }
   ],
   "source": [
    "# 使用海豹表达式完成简化\n",
    "found = {name: batches for name in order\n",
    "         if (batches := get_batches(stock.get(name, 0)))}\n",
    "found"
   ]
  },
  {
   "cell_type": "code",
   "execution_count": 3,
   "id": "d626b5d172bf0003",
   "metadata": {
    "ExecuteTime": {
     "end_time": "2023-09-04T15:09:17.534116200Z",
     "start_time": "2023-09-04T15:09:17.487606100Z"
    },
    "collapsed": false
   },
   "outputs": [
    {
     "ename": "NameError",
     "evalue": "name 'tenth' is not defined",
     "output_type": "error",
     "traceback": [
      "\u001b[1;31m---------------------------------------------------------------------------\u001b[0m",
      "\u001b[1;31mNameError\u001b[0m                                 Traceback (most recent call last)",
      "Cell \u001b[1;32mIn[3], line 2\u001b[0m\n\u001b[0;32m      1\u001b[0m \u001b[38;5;66;03m# 推导顺序很重要，会从条件赋值表达式开始,下式则会报错\u001b[39;00m\n\u001b[1;32m----> 2\u001b[0m result \u001b[38;5;241m=\u001b[39m \u001b[43m{\u001b[49m\u001b[43mname\u001b[49m\u001b[43m:\u001b[49m\u001b[43m \u001b[49m\u001b[43m(\u001b[49m\u001b[43mtenth\u001b[49m\u001b[43m \u001b[49m\u001b[38;5;241;43m:=\u001b[39;49m\u001b[43m \u001b[49m\u001b[43mcount\u001b[49m\u001b[43m \u001b[49m\u001b[38;5;241;43m/\u001b[39;49m\u001b[38;5;241;43m/\u001b[39;49m\u001b[38;5;241;43m10\u001b[39;49m\u001b[43m)\u001b[49m\n\u001b[0;32m      3\u001b[0m \u001b[43m          \u001b[49m\u001b[38;5;28;43;01mfor\u001b[39;49;00m\u001b[43m \u001b[49m\u001b[43mname\u001b[49m\u001b[43m,\u001b[49m\u001b[43m \u001b[49m\u001b[43mcount\u001b[49m\u001b[43m \u001b[49m\u001b[38;5;129;43;01min\u001b[39;49;00m\u001b[43m \u001b[49m\u001b[43mstock\u001b[49m\u001b[38;5;241;43m.\u001b[39;49m\u001b[43mitems\u001b[49m\u001b[43m(\u001b[49m\u001b[43m)\u001b[49m\u001b[43m \u001b[49m\u001b[38;5;28;43;01mif\u001b[39;49;00m\u001b[43m \u001b[49m\u001b[43mtenth\u001b[49m\u001b[43m \u001b[49m\u001b[38;5;241;43m>\u001b[39;49m\u001b[38;5;241;43m0\u001b[39;49m\u001b[43m}\u001b[49m\n",
      "Cell \u001b[1;32mIn[3], line 3\u001b[0m, in \u001b[0;36m<dictcomp>\u001b[1;34m(.0)\u001b[0m\n\u001b[0;32m      1\u001b[0m \u001b[38;5;66;03m# 推导顺序很重要，会从条件赋值表达式开始,下式则会报错\u001b[39;00m\n\u001b[0;32m      2\u001b[0m result \u001b[38;5;241m=\u001b[39m {name: (tenth \u001b[38;5;241m:=\u001b[39m count \u001b[38;5;241m/\u001b[39m\u001b[38;5;241m/\u001b[39m\u001b[38;5;241m10\u001b[39m)\n\u001b[1;32m----> 3\u001b[0m           \u001b[38;5;28;01mfor\u001b[39;00m name, count \u001b[38;5;129;01min\u001b[39;00m stock\u001b[38;5;241m.\u001b[39mitems() \u001b[38;5;28;01mif\u001b[39;00m \u001b[43mtenth\u001b[49m \u001b[38;5;241m>\u001b[39m\u001b[38;5;241m0\u001b[39m}\n",
      "\u001b[1;31mNameError\u001b[0m: name 'tenth' is not defined"
     ]
    }
   ],
   "source": [
    "# 推导顺序很重要，会从条件赋值表达式开始,下式则会报错\n",
    "result = {name: (tenth := count //10)\n",
    "          for name, count in stock.items() if tenth >0}"
   ]
  },
  {
   "cell_type": "code",
   "execution_count": 4,
   "id": "e83dde605d469cb4",
   "metadata": {
    "ExecuteTime": {
     "end_time": "2023-09-04T15:11:05.555209600Z",
     "start_time": "2023-09-04T15:11:05.536209600Z"
    },
    "collapsed": false
   },
   "outputs": [],
   "source": [
    "# 做如下修改就可以正常运行\n",
    "result = {name: tenth\n",
    "          for name, count in stock.items() if (tenth := count //10) >0}"
   ]
  },
  {
   "cell_type": "code",
   "execution_count": 5,
   "id": "fa70e5228260ec07",
   "metadata": {
    "ExecuteTime": {
     "end_time": "2023-09-04T15:11:05.757598100Z",
     "start_time": "2023-09-04T15:11:05.743376200Z"
    },
    "collapsed": false
   },
   "outputs": [
    {
     "data": {
      "text/plain": [
       "{'nails': 12, 'screws': 3, 'washers': 2}"
      ]
     },
     "execution_count": 5,
     "metadata": {},
     "output_type": "execute_result"
    }
   ],
   "source": [
    "result"
   ]
  },
  {
   "cell_type": "code",
   "execution_count": 6,
   "id": "5ec4da09b819fa1d",
   "metadata": {
    "ExecuteTime": {
     "end_time": "2023-09-04T15:16:24.587102600Z",
     "start_time": "2023-09-04T15:16:24.560099800Z"
    },
    "collapsed": false
   },
   "outputs": [
    {
     "name": "stdout",
     "output_type": "stream",
     "text": [
      "last为最后一个值12, half列表为[62, 17, 4, 12]\n"
     ]
    }
   ],
   "source": [
    "# 如果使用了：=赋值，那么在推导中会产生变量泄露\n",
    "# 即最后一个循环的变量被赋给迭代工具变量（类似for循环）\n",
    "half = [(last:= count //2) for count in stock.values()]\n",
    "print(f'last为最后一个值{last}, half列表为{half}')"
   ]
  },
  {
   "cell_type": "code",
   "execution_count": 7,
   "id": "dce65c383f489bba",
   "metadata": {
    "ExecuteTime": {
     "end_time": "2023-09-04T15:25:02.844178100Z",
     "start_time": "2023-09-04T15:25:02.760129900Z"
    },
    "collapsed": false
   },
   "outputs": [
    {
     "name": "stdout",
     "output_type": "stream",
     "text": [
      "[62, 17, 4, 12]\n"
     ]
    },
    {
     "ename": "NameError",
     "evalue": "name 'count' is not defined",
     "output_type": "error",
     "traceback": [
      "\u001b[1;31m---------------------------------------------------------------------------\u001b[0m",
      "\u001b[1;31mNameError\u001b[0m                                 Traceback (most recent call last)",
      "Cell \u001b[1;32mIn[7], line 4\u001b[0m\n\u001b[0;32m      2\u001b[0m half \u001b[38;5;241m=\u001b[39m [count \u001b[38;5;241m/\u001b[39m\u001b[38;5;241m/\u001b[39m\u001b[38;5;241m2\u001b[39m \u001b[38;5;28;01mfor\u001b[39;00m count \u001b[38;5;129;01min\u001b[39;00m stock\u001b[38;5;241m.\u001b[39mvalues()]\n\u001b[0;32m      3\u001b[0m \u001b[38;5;28mprint\u001b[39m(half)\n\u001b[1;32m----> 4\u001b[0m \u001b[38;5;28mprint\u001b[39m(\u001b[43mcount\u001b[49m)\n",
      "\u001b[1;31mNameError\u001b[0m: name 'count' is not defined"
     ]
    }
   ],
   "source": [
    "# 如果在推导式中不使用海豹表达式赋值，那么不会产生变量溢出的问题\n",
    "half = [count //2 for count in stock.values()]\n",
    "print(half)\n",
    "print(count)"
   ]
  },
  {
   "cell_type": "markdown",
   "id": "cb963e17e3f57447",
   "metadata": {
    "collapsed": false
   },
   "source": [
    "## 30.不要让函数直接返回列表，应该让他逐渐生成列表的值"
   ]
  },
  {
   "cell_type": "code",
   "execution_count": 8,
   "id": "190cc156",
   "metadata": {},
   "outputs": [],
   "source": [
    "def index_words(text):\n",
    "    result = []\n",
    "    if text:\n",
    "        result.append(0)\n",
    "    for index, letter in enumerate(text):\n",
    "        if letter == ' ':\n",
    "            result.append(index + 1)\n",
    "    return result\n"
   ]
  },
  {
   "cell_type": "code",
   "execution_count": 9,
   "id": "94e85d43",
   "metadata": {},
   "outputs": [
    {
     "name": "stdout",
     "output_type": "stream",
     "text": [
      "[0, 5, 11, 15, 21, 27]\n"
     ]
    }
   ],
   "source": [
    "address = 'Four score and seven years ago...'\n",
    "result = index_words(address)\n",
    "print(result[:10])"
   ]
  },
  {
   "cell_type": "markdown",
   "id": "fbf26608",
   "metadata": {},
   "source": [
    "- 上述方法有两个缺点\n",
    "1. 代码杂乱没有突出重点的index,而是突出了append\n",
    "2. 既要存列表又要return"
   ]
  },
  {
   "cell_type": "code",
   "execution_count": 10,
   "id": "86c69786",
   "metadata": {},
   "outputs": [],
   "source": [
    "# 使用生成器的实现\n",
    "def index_words_iter(text):\n",
    "    if text:\n",
    "        yield 0\n",
    "    for index, letter in enumerate(text):\n",
    "        if letter == ' ':\n",
    "            yield index + 1"
   ]
  },
  {
   "cell_type": "code",
   "execution_count": 11,
   "id": "ed8c31be",
   "metadata": {},
   "outputs": [
    {
     "data": {
      "text/plain": [
       "[0, 5, 11, 15, 21, 27]"
      ]
     },
     "execution_count": 11,
     "metadata": {},
     "output_type": "execute_result"
    }
   ],
   "source": [
    "[index for index in index_words_iter(address)]"
   ]
  },
  {
   "cell_type": "code",
   "execution_count": 13,
   "id": "2d31fa58",
   "metadata": {},
   "outputs": [
    {
     "data": {
      "text/plain": [
       "[<generator object index_words_iter at 0x0000029D9ACA2180>]"
      ]
     },
     "execution_count": 13,
     "metadata": {},
     "output_type": "execute_result"
    }
   ],
   "source": [
    "[index_words_iter(address)]\n"
   ]
  },
  {
   "cell_type": "code",
   "execution_count": 14,
   "id": "145659d6",
   "metadata": {},
   "outputs": [],
   "source": [
    "it = index_words_iter(address)"
   ]
  },
  {
   "cell_type": "code",
   "execution_count": 15,
   "id": "66af0b53",
   "metadata": {},
   "outputs": [
    {
     "data": {
      "text/plain": [
       "<itertools.islice at 0x29d9ad23470>"
      ]
     },
     "execution_count": 15,
     "metadata": {},
     "output_type": "execute_result"
    }
   ],
   "source": [
    "# 使用itertools.islice只生成10次\n",
    "import itertools\n",
    "itertools.islice(it, 0, 10)"
   ]
  },
  {
   "cell_type": "code",
   "execution_count": 16,
   "id": "6ec4123e",
   "metadata": {},
   "outputs": [
    {
     "name": "stdout",
     "output_type": "stream",
     "text": [
      "[0, 5, 11, 15, 21, 27]\n"
     ]
    }
   ],
   "source": [
    "print(list(result))"
   ]
  },
  {
   "cell_type": "markdown",
   "id": "0b6e1fbc",
   "metadata": {},
   "source": [
    "## 31. 谨慎地迭代函数所收到的参数"
   ]
  },
  {
   "cell_type": "code",
   "execution_count": 18,
   "id": "2de0705a",
   "metadata": {},
   "outputs": [],
   "source": [
    "# 定义一个归一化函数\n",
    "def normalize(numbers: list[int]):\n",
    "    total = sum(numbers)\n",
    "    result = []\n",
    "    for value in numbers:\n",
    "        percent = 100 * value / total\n",
    "        result.append(percent)\n",
    "    return result"
   ]
  },
  {
   "cell_type": "code",
   "execution_count": 20,
   "id": "ee920c8b",
   "metadata": {},
   "outputs": [
    {
     "name": "stdout",
     "output_type": "stream",
     "text": [
      "[11.538461538461538, 26.923076923076923, 61.53846153846154]\n"
     ]
    }
   ],
   "source": [
    "vitits = [15, 35, 80]\n",
    "percentages = normalize(vitits)\n",
    "print(percentages)\n",
    "assert sum(percentages) == 100.0"
   ]
  },
  {
   "cell_type": "code",
   "execution_count": 22,
   "id": "248bdcd3",
   "metadata": {},
   "outputs": [],
   "source": [
    "# 生成器/迭代器只能产生一次结果，当嵌套使用时会产生无数据提供的现象。\n",
    "# 为避免此现象，嵌套时可以只传入生成器的生成函数，在主处理函数内部对生成函数进行实例化\n",
    "def normalize_func(get_iter):\n",
    "    total = sum(get_iter())\n",
    "    reslut = []\n",
    "    for value in get_iter():\n",
    "        percent = 100 * value / total\n",
    "        result.append(percent)\n",
    "    return result"
   ]
  },
  {
   "cell_type": "code",
   "execution_count": null,
   "id": "e7fad775",
   "metadata": {},
   "outputs": [],
   "source": [
    "# 使用上述函数时，需要传入lambda表达式，这样每次索要get_iter时才能给出一个新生成器\n",
    "def read_visits(path):\n",
    "    with open(path) as f:\n",
    "        for line in f:\n",
    "            yield int(line)\n",
    "path = r'./address.txt'\n",
    "normalize_func(lambda: read_visits(path))"
   ]
  },
  {
   "cell_type": "code",
   "execution_count": 24,
   "id": "a1a29b8d",
   "metadata": {},
   "outputs": [],
   "source": [
    "# 可以使用类特性构建一个新容器处理此问题\n",
    "class ReadVisits:\n",
    "    def __init__(self, data_path: str) -> None:\n",
    "        self.data_path = data_path\n",
    "    \n",
    "    def __iter__(self):\n",
    "      with open(self.data_path) as f:\n",
    "         for line in f:\n",
    "            yield int(line)\n",
    "# 如上容器构建后，只需要把新容器传给normalize运行即可。\n",
    "visits = ReadVisits('./visit.txt')\n",
    "percentages = normalize(visits)\n"
   ]
  },
  {
   "cell_type": "code",
   "execution_count": null,
   "id": "e36815bf",
   "metadata": {},
   "outputs": [],
   "source": []
  }
 ],
 "metadata": {
  "kernelspec": {
   "display_name": "Python 3",
   "language": "python",
   "name": "python3"
  },
  "language_info": {
   "codemirror_mode": {
    "name": "ipython",
    "version": 3
   },
   "file_extension": ".py",
   "mimetype": "text/x-python",
   "name": "python",
   "nbconvert_exporter": "python",
   "pygments_lexer": "ipython3",
   "version": "3.11.7"
  }
 },
 "nbformat": 4,
 "nbformat_minor": 5
}
